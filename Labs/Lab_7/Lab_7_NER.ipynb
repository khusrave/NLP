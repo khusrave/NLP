{
  "nbformat": 4,
  "nbformat_minor": 0,
  "metadata": {
    "colab": {
      "provenance": []
    },
    "kernelspec": {
      "name": "python3",
      "display_name": "Python 3"
    },
    "language_info": {
      "name": "python"
    }
  },
  "cells": [
    {
      "cell_type": "markdown",
      "source": [
        "Lab 4: Text mining and NLP tasks in Medicine\n",
        "\n",
        "\n",
        "## Notebook content\n",
        "- Introduction\n",
        "- Codeing: libraries and dependencies installation\n",
        "- Part 1: introduction of NLP\n",
        "- part 2: Name Entity Recognition and information retrieval methods\n",
        "- Prat 3: Named Entity Normalization\n",
        "- Part 4: Relation extraction\n"
      ],
      "metadata": {
        "id": "tbT5VFnvsFpp"
      }
    },
    {
      "cell_type": "markdown",
      "source": [
        "#Introduction\n",
        "## What is NLP?\n",
        "NLP stands for Natural Language Processing. It is a subfield of Artificial Intelligence that deals with the interaction between computers and human through natural language.\n",
        "\n",
        "## Advantages of NLP\n",
        "- NLP helps us to understand. generate and interpret human language.\n",
        "\n",
        "## Limitations of NLP\n",
        "-To train an NLP model, A large volume of data and computation are required.\n",
        "-NLP is challenging due to complexity in the languge - informal expressions, idioms, and cultural jargon.\n",
        "- Accuracy of NLP tools depends on the algorithm and data chosen.\n",
        "- NLP desgined for a specific language will not work for another language.\n",
        "\n",
        "## Applications of Text Mining and NLP\n",
        "- Text and speech processing like-Voice assistants – Alexa, Siri, etc.\n",
        "- Text classification like Grammarly, Microsoft Word, and Google Docs\n",
        "- Information extraction like-Search engines like DuckDuckGo, Google\n",
        "- Chatbot and Question Answering like:- website bots, ChatGPT\n",
        "- Language Translation like:- Google Translate\n",
        "- Text summarization\n",
        "\n",
        "## Applications of NLP and Text Mining in Medicine\n",
        "- Clinical Documentation (summarization)\n",
        "- Clinical Decision Support\n",
        "- [etc.](https://marutitech.com/use-cases-of-natural-language-processing-in-healthcare/)\n",
        "\n",
        "\n",
        "\n",
        "## NLP Libraries\n",
        "- [NLTK](https://www.nltk.org/)\n",
        "- [Spacy](https://spacy.io/)\n",
        "- [Gensim](https://pypi.org/project/gensim/)\n",
        "- [fastText](https://fasttext.cc/)\n",
        "- [Stanford toolkit (Glove)](https://nlp.stanford.edu/projects/glove/)\n",
        "- [Apache OpenNLP](https://opennlp.apache.org/)"
      ],
      "metadata": {
        "id": "PW9vykrIyHZh"
      }
    },
    {
      "cell_type": "markdown",
      "source": [
        "# Libraries and dependencies installation\n",
        "### Run the the followin cell to install the required libraries in python\n",
        "### - Note: Do this in a separate python interpreter session, since you only have to do it once\n"
      ],
      "metadata": {
        "id": "C-0GdnHLqucW"
      }
    },
    {
      "cell_type": "code",
      "source": [
        "\n",
        "## for text Processing using NLPTK\n",
        "!pip install nltk\n",
        "!pip install svgling\n",
        "!pip install -U spacy==3.0.5\n",
        "!pip install https://huggingface.co/spacy/en_core_web_lg/resolve/main/en_core_web_lg-any-py3-none-any.whl #English model\n",
        "\n",
        "\n",
        "##API and package installation\n",
        "!pip install metapub\n",
        "!pip install scispacy\n",
        "!pip install nltk\n",
        "\n",
        "\n",
        "##installing the biomedical corpus\n",
        "# !pip install https://urldefense.com/v3/__https://s3-us-west-2.amazonaws.com/ai2-s2-scispacy/releases/v0.5.1/en_core_sci_sm-0.5.1.tar.gz__;!!Nmw4Hv0!3hK2DII80o85GQtFXWaicRbsKACcTgq-dk01mdBwSSHqPFqp7l7gYIlQL9Dxl7X_6zNc-8jQ5Yyt1GnvtXL9AnAgAFwcKxSa-1UBGA$\n",
        "# !pip install https://urldefense.com/v3/__https://s3-us-west-2.amazonaws.com/ai2-s2-scispacy/releases/v0.5.1/en_ner_bc5cdr_md-0.5.1.tar.gz__;!!Nmw4Hv0!3hK2DII80o85GQtFXWaicRbsKACcTgq-dk01mdBwSSHqPFqp7l7gYIlQL9Dxl7X_6zNc-8jQ5Yyt1GnvtXL9AnAgAFwcKxQn2Sbj7Q$  #BC5CDR\n",
        "# !pip install https://urldefense.com/v3/__https://s3-us-west-2.amazonaws.com/ai2-s2-scispacy/releases/v0.5.1/en_ner_jnlpba_md-0.5.1.tar.gz__;!!Nmw4Hv0!3hK2DII80o85GQtFXWaicRbsKACcTgq-dk01mdBwSSHqPFqp7l7gYIlQL9Dxl7X_6zNc-8jQ5Yyt1GnvtXL9AnAgAFwcKxQyEjIOkA$  #JNLPBA\n",
        "# !pip install https://urldefense.com/v3/__https://s3-us-west-2.amazonaws.com/ai2-s2-scispacy/releases/v0.5.1/en_ner_bionlp13cg_md-0.5.1.tar.gz__;!!Nmw4Hv0!3hK2DII80o85GQtFXWaicRbsKACcTgq-dk01mdBwSSHqPFqp7l7gYIlQL9Dxl7X_6zNc-8jQ5Yyt1GnvtXL9AnAgAFwcKxST5BRYeQ$  #Biomlp\n",
        "# !pip install https://urldefense.com/v3/__https://huggingface.co/kormilitzin/en_core_med7_lg/resolve/main/en_core_med7_lg-any-py3-none-any.whl*5Cn__;JQ!!Nmw4Hv0!3hK2DII80o85GQtFXWaicRbsKACcTgq-dk01mdBwSSHqPFqp7l7gYIlQL9Dxl7X_6zNc-8jQ5Yyt1GnvtXL9AnAgAFwcKxRYxb4UMw$ #"
      ],
      "metadata": {
        "id": "8oj7ceL8ZSTD"
      },
      "execution_count": null,
      "outputs": []
    },
    {
      "cell_type": "markdown",
      "source": [
        "# Let's start coding\n",
        "#Part 1: Introduction of NLP\n",
        "- Tokenizing and tagging using NLTK\n",
        "- Natural Language Processing (spaCy)"
      ],
      "metadata": {
        "id": "De2VONx-IzUX"
      }
    },
    {
      "cell_type": "code",
      "source": [
        "# 1. Tokenizing and tagging using NLTK\n",
        "import nltk\n",
        "#nltk.download('punkt')\n",
        "#nltk.download('averaged_perceptron_tagger')\n",
        "nltk.download('all')\n"
      ],
      "metadata": {
        "id": "QENqQcUyRPg9"
      },
      "execution_count": null,
      "outputs": []
    },
    {
      "cell_type": "code",
      "source": [
        "#Write your text between \"\"\n",
        "sentence= \"A 12-year girl is diagnosed with hypertension and diabetes presented to ER with a 2-weeks history of headaches.\"\n"
      ],
      "metadata": {
        "id": "QKMvCRl1WyVW"
      },
      "execution_count": null,
      "outputs": []
    },
    {
      "cell_type": "code",
      "source": [
        "from nltk.stem import PorterStemmer\n",
        "from nltk.tokenize import word_tokenize\n",
        "from functools import reduce\n",
        "\n",
        "ps = PorterStemmer()\n",
        "\n",
        "sentence = \"Two weeks ago, the patient was started on metuprolol 12.5 mg p.o q.6h for rate control.\"\n",
        "words = word_tokenize(sentence)\n",
        "tokens4lemma=sentence.split(\" \")\n",
        "# using reduce to apply stemmer to each word and join them back into a string\n",
        "stemmed_sentence = reduce(lambda x, y: x + \" \" + ps.stem(y), words, \"\")\n",
        "print(stemmed_sentence)\n"
      ],
      "metadata": {
        "colab": {
          "base_uri": "https://localhost:8080/"
        },
        "id": "1aFHBC68WLIr",
        "outputId": "41476287-6c82-4853-e0a9-b80b436fa537"
      },
      "execution_count": null,
      "outputs": [
        {
          "output_type": "stream",
          "name": "stdout",
          "text": [
            " two week ago , the patient wa start on metuprolol 12.5 mg p.o q.6h for rate control .\n"
          ]
        }
      ]
    },
    {
      "cell_type": "code",
      "source": [
        "# import these modules\n",
        "from nltk.stem import WordNetLemmatizer\n",
        "\n",
        "lemmatizer = WordNetLemmatizer()\n",
        "print(\"rocks :\", lemmatizer.lemmatize(\"rocks\"))\n",
        "print(\"corpora :\", lemmatizer.lemmatize(\"corpora\"))\n",
        "# a denotes adjective in \"pos\"\n",
        "print(\"better :\", lemmatizer.lemmatize(\"better\", pos =\"v\"))\n",
        "print(\"was :\", lemmatizer.lemmatize(\"were\",pos =\"v\"))\n",
        "for item in tokens4lemma:\n",
        "    print(lemmatizer.lemmatize(item,pos='v'),end='\\t')\n",
        "\n"
      ],
      "metadata": {
        "colab": {
          "base_uri": "https://localhost:8080/"
        },
        "id": "fkmGNtXUUZ8D",
        "outputId": "3f8706cb-b39a-4dfe-ff21-634007dc8e66"
      },
      "execution_count": null,
      "outputs": [
        {
          "output_type": "stream",
          "name": "stdout",
          "text": [
            "rocks : rock\n",
            "corpora : corpus\n",
            "better : better\n",
            "was : be\n",
            "Two\tweeks\tago,\tthe\tpatient\tbe\tstart\ton\tmetuprolol\t12.5\tmg\tp.o\tq.6h\tfor\trate\tcontrol.\t"
          ]
        }
      ]
    },
    {
      "cell_type": "code",
      "source": [
        "#Word tokenizing\n",
        "#Imports needed methods from appropriate library\n",
        "from nltk.tokenize import word_tokenize\n",
        "from nltk.tokenize import sent_tokenize\n",
        "sentence= \"Two weeks ago, the patient was started on metuprolol 12.5 mg p.o q.6h for rate contro. \" + sentence\n",
        "#Tokenize by sentence\n",
        "sent_sentence_tokenized = sent_tokenize(sentence)\n",
        "print(sent_sentence_tokenized)\n",
        "#Tokenize by word\n",
        "One_sentence_tokenized = word_tokenize(sentence)\n",
        "print(One_sentence_tokenized)\n",
        "#Tokenize by character\n",
        "lst=[x for x in sentence]\n",
        "print(lst)"
      ],
      "metadata": {
        "colab": {
          "base_uri": "https://localhost:8080/"
        },
        "id": "LKXacgQtU6ur",
        "outputId": "3b7cb56f-19d0-43f3-9ac5-66526d238005"
      },
      "execution_count": null,
      "outputs": [
        {
          "output_type": "stream",
          "name": "stdout",
          "text": [
            "['Two weeks ago, the patient was started on metuprolol 12.5 mg p.o q.6h for rate contro.', 'Two weeks ago, the patient was started on metuprolol 12.5 mg p.o q.6h for rate control.']\n",
            "['Two', 'weeks', 'ago', ',', 'the', 'patient', 'was', 'started', 'on', 'metuprolol', '12.5', 'mg', 'p.o', 'q.6h', 'for', 'rate', 'contro', '.', 'Two', 'weeks', 'ago', ',', 'the', 'patient', 'was', 'started', 'on', 'metuprolol', '12.5', 'mg', 'p.o', 'q.6h', 'for', 'rate', 'control', '.']\n",
            "['T', 'w', 'o', ' ', 'w', 'e', 'e', 'k', 's', ' ', 'a', 'g', 'o', ',', ' ', 't', 'h', 'e', ' ', 'p', 'a', 't', 'i', 'e', 'n', 't', ' ', 'w', 'a', 's', ' ', 's', 't', 'a', 'r', 't', 'e', 'd', ' ', 'o', 'n', ' ', 'm', 'e', 't', 'u', 'p', 'r', 'o', 'l', 'o', 'l', ' ', '1', '2', '.', '5', ' ', 'm', 'g', ' ', 'p', '.', 'o', ' ', 'q', '.', '6', 'h', ' ', 'f', 'o', 'r', ' ', 'r', 'a', 't', 'e', ' ', 'c', 'o', 'n', 't', 'r', 'o', '.', ' ', 'T', 'w', 'o', ' ', 'w', 'e', 'e', 'k', 's', ' ', 'a', 'g', 'o', ',', ' ', 't', 'h', 'e', ' ', 'p', 'a', 't', 'i', 'e', 'n', 't', ' ', 'w', 'a', 's', ' ', 's', 't', 'a', 'r', 't', 'e', 'd', ' ', 'o', 'n', ' ', 'm', 'e', 't', 'u', 'p', 'r', 'o', 'l', 'o', 'l', ' ', '1', '2', '.', '5', ' ', 'm', 'g', ' ', 'p', '.', 'o', ' ', 'q', '.', '6', 'h', ' ', 'f', 'o', 'r', ' ', 'r', 'a', 't', 'e', ' ', 'c', 'o', 'n', 't', 'r', 'o', 'l', '.']\n"
          ]
        }
      ]
    },
    {
      "cell_type": "code",
      "source": [
        "#Tagging\n",
        "one_sentence_tagged = nltk.pos_tag(One_sentence_tokenized)\n",
        "one_sentence_tagged[0:6]"
      ],
      "metadata": {
        "colab": {
          "base_uri": "https://localhost:8080/"
        },
        "id": "86W-Bnm5VneX",
        "outputId": "852d807c-f1e1-4a23-b671-705541f48b79"
      },
      "execution_count": null,
      "outputs": [
        {
          "output_type": "execute_result",
          "data": {
            "text/plain": [
              "[('Two', 'CD'),\n",
              " ('weeks', 'NNS'),\n",
              " ('ago', 'RB'),\n",
              " (',', ','),\n",
              " ('the', 'DT'),\n",
              " ('patient', 'NN')]"
            ]
          },
          "metadata": {},
          "execution_count": 7
        }
      ]
    },
    {
      "cell_type": "code",
      "source": [
        "#Tagging tree\n",
        "entities = nltk.chunk.ne_chunk(one_sentence_tagged)\n",
        "entities"
      ],
      "metadata": {
        "colab": {
          "base_uri": "https://localhost:8080/",
          "height": 161
        },
        "id": "9SG3eg3uVHNW",
        "outputId": "bec6d398-2744-4872-8198-e4bafa94d880"
      },
      "execution_count": null,
      "outputs": [
        {
          "output_type": "execute_result",
          "data": {
            "text/plain": [
              "Tree('S', [('Two', 'CD'), ('weeks', 'NNS'), ('ago', 'RB'), (',', ','), ('the', 'DT'), ('patient', 'NN'), ('was', 'VBD'), ('started', 'VBN'), ('on', 'IN'), ('metuprolol', 'NN'), ('12.5', 'CD'), ('mg', 'NN'), ('p.o', 'NN'), ('q.6h', 'NN'), ('for', 'IN'), ('rate', 'NN'), ('contro', 'NNS'), ('.', '.'), ('Two', 'CD'), ('weeks', 'NNS'), ('ago', 'RB'), (',', ','), ('the', 'DT'), ('patient', 'NN'), ('was', 'VBD'), ('started', 'VBN'), ('on', 'IN'), ('metuprolol', 'NN'), ('12.5', 'CD'), ('mg', 'NN'), ('p.o', 'NN'), ('q.6h', 'NN'), ('for', 'IN'), ('rate', 'NN'), ('control', 'NN'), ('.', '.')])"
            ],
            "image/svg+xml": "<svg baseProfile=\"full\" height=\"120px\" preserveAspectRatio=\"xMidYMid meet\" style=\"font-family: times, serif; font-weight:normal; font-style: normal; font-size: 16px;\" version=\"1.1\" viewBox=\"0,0,1720.0,120.0\" width=\"1720px\" xmlns=\"http://www.w3.org/2000/svg\" xmlns:ev=\"http://www.w3.org/2001/xml-events\" xmlns:xlink=\"http://www.w3.org/1999/xlink\"><defs /><svg width=\"100%\" x=\"0\" y=\"0em\"><defs /><text text-anchor=\"middle\" x=\"50%\" y=\"1em\">S</text></svg><svg width=\"2.32558%\" x=\"0%\" y=\"3em\"><defs /><svg width=\"100%\" x=\"0\" y=\"0em\"><defs /><text text-anchor=\"middle\" x=\"50%\" y=\"1em\">Two</text></svg><svg width=\"100%\" x=\"0%\" y=\"3em\"><defs /><svg width=\"100%\" x=\"0\" y=\"0em\"><defs /><text text-anchor=\"middle\" x=\"50%\" y=\"1em\">CD</text></svg></svg><line stroke=\"black\" x1=\"50%\" x2=\"50%\" y1=\"1.2em\" y2=\"3em\" /></svg><line stroke=\"black\" x1=\"50%\" x2=\"1.16279%\" y1=\"1.2em\" y2=\"3em\" /><svg width=\"3.25581%\" x=\"2.32558%\" y=\"3em\"><defs /><svg width=\"100%\" x=\"0\" y=\"0em\"><defs /><text text-anchor=\"middle\" x=\"50%\" y=\"1em\">weeks</text></svg><svg width=\"100%\" x=\"0%\" y=\"3em\"><defs /><svg width=\"100%\" x=\"0\" y=\"0em\"><defs /><text text-anchor=\"middle\" x=\"50%\" y=\"1em\">NNS</text></svg></svg><line stroke=\"black\" x1=\"50%\" x2=\"50%\" y1=\"1.2em\" y2=\"3em\" /></svg><line stroke=\"black\" x1=\"50%\" x2=\"3.95349%\" y1=\"1.2em\" y2=\"3em\" /><svg width=\"2.32558%\" x=\"5.5814%\" y=\"3em\"><defs /><svg width=\"100%\" x=\"0\" y=\"0em\"><defs /><text text-anchor=\"middle\" x=\"50%\" y=\"1em\">ago</text></svg><svg width=\"100%\" x=\"0%\" y=\"3em\"><defs /><svg width=\"100%\" x=\"0\" y=\"0em\"><defs /><text text-anchor=\"middle\" x=\"50%\" y=\"1em\">RB</text></svg></svg><line stroke=\"black\" x1=\"50%\" x2=\"50%\" y1=\"1.2em\" y2=\"3em\" /></svg><line stroke=\"black\" x1=\"50%\" x2=\"6.74419%\" y1=\"1.2em\" y2=\"3em\" /><svg width=\"1.39535%\" x=\"7.90698%\" y=\"3em\"><defs /><svg width=\"100%\" x=\"0\" y=\"0em\"><defs /><text text-anchor=\"middle\" x=\"50%\" y=\"1em\">,</text></svg><svg width=\"100%\" x=\"0%\" y=\"3em\"><defs /><svg width=\"100%\" x=\"0\" y=\"0em\"><defs /><text text-anchor=\"middle\" x=\"50%\" y=\"1em\">,</text></svg></svg><line stroke=\"black\" x1=\"50%\" x2=\"50%\" y1=\"1.2em\" y2=\"3em\" /></svg><line stroke=\"black\" x1=\"50%\" x2=\"8.60465%\" y1=\"1.2em\" y2=\"3em\" /><svg width=\"2.32558%\" x=\"9.30233%\" y=\"3em\"><defs /><svg width=\"100%\" x=\"0\" y=\"0em\"><defs /><text text-anchor=\"middle\" x=\"50%\" y=\"1em\">the</text></svg><svg width=\"100%\" x=\"0%\" y=\"3em\"><defs /><svg width=\"100%\" x=\"0\" y=\"0em\"><defs /><text text-anchor=\"middle\" x=\"50%\" y=\"1em\">DT</text></svg></svg><line stroke=\"black\" x1=\"50%\" x2=\"50%\" y1=\"1.2em\" y2=\"3em\" /></svg><line stroke=\"black\" x1=\"50%\" x2=\"10.4651%\" y1=\"1.2em\" y2=\"3em\" /><svg width=\"4.18605%\" x=\"11.6279%\" y=\"3em\"><defs /><svg width=\"100%\" x=\"0\" y=\"0em\"><defs /><text text-anchor=\"middle\" x=\"50%\" y=\"1em\">patient</text></svg><svg width=\"100%\" x=\"0%\" y=\"3em\"><defs /><svg width=\"100%\" x=\"0\" y=\"0em\"><defs /><text text-anchor=\"middle\" x=\"50%\" y=\"1em\">NN</text></svg></svg><line stroke=\"black\" x1=\"50%\" x2=\"50%\" y1=\"1.2em\" y2=\"3em\" /></svg><line stroke=\"black\" x1=\"50%\" x2=\"13.7209%\" y1=\"1.2em\" y2=\"3em\" /><svg width=\"2.32558%\" x=\"15.814%\" y=\"3em\"><defs /><svg width=\"100%\" x=\"0\" y=\"0em\"><defs /><text text-anchor=\"middle\" x=\"50%\" y=\"1em\">was</text></svg><svg width=\"100%\" x=\"0%\" y=\"3em\"><defs /><svg width=\"100%\" x=\"0\" y=\"0em\"><defs /><text text-anchor=\"middle\" x=\"50%\" y=\"1em\">VBD</text></svg></svg><line stroke=\"black\" x1=\"50%\" x2=\"50%\" y1=\"1.2em\" y2=\"3em\" /></svg><line stroke=\"black\" x1=\"50%\" x2=\"16.9767%\" y1=\"1.2em\" y2=\"3em\" /><svg width=\"4.18605%\" x=\"18.1395%\" y=\"3em\"><defs /><svg width=\"100%\" x=\"0\" y=\"0em\"><defs /><text text-anchor=\"middle\" x=\"50%\" y=\"1em\">started</text></svg><svg width=\"100%\" x=\"0%\" y=\"3em\"><defs /><svg width=\"100%\" x=\"0\" y=\"0em\"><defs /><text text-anchor=\"middle\" x=\"50%\" y=\"1em\">VBN</text></svg></svg><line stroke=\"black\" x1=\"50%\" x2=\"50%\" y1=\"1.2em\" y2=\"3em\" /></svg><line stroke=\"black\" x1=\"50%\" x2=\"20.2326%\" y1=\"1.2em\" y2=\"3em\" /><svg width=\"1.86047%\" x=\"22.3256%\" y=\"3em\"><defs /><svg width=\"100%\" x=\"0\" y=\"0em\"><defs /><text text-anchor=\"middle\" x=\"50%\" y=\"1em\">on</text></svg><svg width=\"100%\" x=\"0%\" y=\"3em\"><defs /><svg width=\"100%\" x=\"0\" y=\"0em\"><defs /><text text-anchor=\"middle\" x=\"50%\" y=\"1em\">IN</text></svg></svg><line stroke=\"black\" x1=\"50%\" x2=\"50%\" y1=\"1.2em\" y2=\"3em\" /></svg><line stroke=\"black\" x1=\"50%\" x2=\"23.2558%\" y1=\"1.2em\" y2=\"3em\" /><svg width=\"5.5814%\" x=\"24.186%\" y=\"3em\"><defs /><svg width=\"100%\" x=\"0\" y=\"0em\"><defs /><text text-anchor=\"middle\" x=\"50%\" y=\"1em\">metuprolol</text></svg><svg width=\"100%\" x=\"0%\" y=\"3em\"><defs /><svg width=\"100%\" x=\"0\" y=\"0em\"><defs /><text text-anchor=\"middle\" x=\"50%\" y=\"1em\">NN</text></svg></svg><line stroke=\"black\" x1=\"50%\" x2=\"50%\" y1=\"1.2em\" y2=\"3em\" /></svg><line stroke=\"black\" x1=\"50%\" x2=\"26.9767%\" y1=\"1.2em\" y2=\"3em\" /><svg width=\"2.7907%\" x=\"29.7674%\" y=\"3em\"><defs /><svg width=\"100%\" x=\"0\" y=\"0em\"><defs /><text text-anchor=\"middle\" x=\"50%\" y=\"1em\">12.5</text></svg><svg width=\"100%\" x=\"0%\" y=\"3em\"><defs /><svg width=\"100%\" x=\"0\" y=\"0em\"><defs /><text text-anchor=\"middle\" x=\"50%\" y=\"1em\">CD</text></svg></svg><line stroke=\"black\" x1=\"50%\" x2=\"50%\" y1=\"1.2em\" y2=\"3em\" /></svg><line stroke=\"black\" x1=\"50%\" x2=\"31.1628%\" y1=\"1.2em\" y2=\"3em\" /><svg width=\"1.86047%\" x=\"32.5581%\" y=\"3em\"><defs /><svg width=\"100%\" x=\"0\" y=\"0em\"><defs /><text text-anchor=\"middle\" x=\"50%\" y=\"1em\">mg</text></svg><svg width=\"100%\" x=\"0%\" y=\"3em\"><defs /><svg width=\"100%\" x=\"0\" y=\"0em\"><defs /><text text-anchor=\"middle\" x=\"50%\" y=\"1em\">NN</text></svg></svg><line stroke=\"black\" x1=\"50%\" x2=\"50%\" y1=\"1.2em\" y2=\"3em\" /></svg><line stroke=\"black\" x1=\"50%\" x2=\"33.4884%\" y1=\"1.2em\" y2=\"3em\" /><svg width=\"2.32558%\" x=\"34.4186%\" y=\"3em\"><defs /><svg width=\"100%\" x=\"0\" y=\"0em\"><defs /><text text-anchor=\"middle\" x=\"50%\" y=\"1em\">p.o</text></svg><svg width=\"100%\" x=\"0%\" y=\"3em\"><defs /><svg width=\"100%\" x=\"0\" y=\"0em\"><defs /><text text-anchor=\"middle\" x=\"50%\" y=\"1em\">NN</text></svg></svg><line stroke=\"black\" x1=\"50%\" x2=\"50%\" y1=\"1.2em\" y2=\"3em\" /></svg><line stroke=\"black\" x1=\"50%\" x2=\"35.5814%\" y1=\"1.2em\" y2=\"3em\" /><svg width=\"2.7907%\" x=\"36.7442%\" y=\"3em\"><defs /><svg width=\"100%\" x=\"0\" y=\"0em\"><defs /><text text-anchor=\"middle\" x=\"50%\" y=\"1em\">q.6h</text></svg><svg width=\"100%\" x=\"0%\" y=\"3em\"><defs /><svg width=\"100%\" x=\"0\" y=\"0em\"><defs /><text text-anchor=\"middle\" x=\"50%\" y=\"1em\">NN</text></svg></svg><line stroke=\"black\" x1=\"50%\" x2=\"50%\" y1=\"1.2em\" y2=\"3em\" /></svg><line stroke=\"black\" x1=\"50%\" x2=\"38.1395%\" y1=\"1.2em\" y2=\"3em\" /><svg width=\"2.32558%\" x=\"39.5349%\" y=\"3em\"><defs /><svg width=\"100%\" x=\"0\" y=\"0em\"><defs /><text text-anchor=\"middle\" x=\"50%\" y=\"1em\">for</text></svg><svg width=\"100%\" x=\"0%\" y=\"3em\"><defs /><svg width=\"100%\" x=\"0\" y=\"0em\"><defs /><text text-anchor=\"middle\" x=\"50%\" y=\"1em\">IN</text></svg></svg><line stroke=\"black\" x1=\"50%\" x2=\"50%\" y1=\"1.2em\" y2=\"3em\" /></svg><line stroke=\"black\" x1=\"50%\" x2=\"40.6977%\" y1=\"1.2em\" y2=\"3em\" /><svg width=\"2.7907%\" x=\"41.8605%\" y=\"3em\"><defs /><svg width=\"100%\" x=\"0\" y=\"0em\"><defs /><text text-anchor=\"middle\" x=\"50%\" y=\"1em\">rate</text></svg><svg width=\"100%\" x=\"0%\" y=\"3em\"><defs /><svg width=\"100%\" x=\"0\" y=\"0em\"><defs /><text text-anchor=\"middle\" x=\"50%\" y=\"1em\">NN</text></svg></svg><line stroke=\"black\" x1=\"50%\" x2=\"50%\" y1=\"1.2em\" y2=\"3em\" /></svg><line stroke=\"black\" x1=\"50%\" x2=\"43.2558%\" y1=\"1.2em\" y2=\"3em\" /><svg width=\"3.72093%\" x=\"44.6512%\" y=\"3em\"><defs /><svg width=\"100%\" x=\"0\" y=\"0em\"><defs /><text text-anchor=\"middle\" x=\"50%\" y=\"1em\">contro</text></svg><svg width=\"100%\" x=\"0%\" y=\"3em\"><defs /><svg width=\"100%\" x=\"0\" y=\"0em\"><defs /><text text-anchor=\"middle\" x=\"50%\" y=\"1em\">NNS</text></svg></svg><line stroke=\"black\" x1=\"50%\" x2=\"50%\" y1=\"1.2em\" y2=\"3em\" /></svg><line stroke=\"black\" x1=\"50%\" x2=\"46.5116%\" y1=\"1.2em\" y2=\"3em\" /><svg width=\"1.39535%\" x=\"48.3721%\" y=\"3em\"><defs /><svg width=\"100%\" x=\"0\" y=\"0em\"><defs /><text text-anchor=\"middle\" x=\"50%\" y=\"1em\">.</text></svg><svg width=\"100%\" x=\"0%\" y=\"3em\"><defs /><svg width=\"100%\" x=\"0\" y=\"0em\"><defs /><text text-anchor=\"middle\" x=\"50%\" y=\"1em\">.</text></svg></svg><line stroke=\"black\" x1=\"50%\" x2=\"50%\" y1=\"1.2em\" y2=\"3em\" /></svg><line stroke=\"black\" x1=\"50%\" x2=\"49.0698%\" y1=\"1.2em\" y2=\"3em\" /><svg width=\"2.32558%\" x=\"49.7674%\" y=\"3em\"><defs /><svg width=\"100%\" x=\"0\" y=\"0em\"><defs /><text text-anchor=\"middle\" x=\"50%\" y=\"1em\">Two</text></svg><svg width=\"100%\" x=\"0%\" y=\"3em\"><defs /><svg width=\"100%\" x=\"0\" y=\"0em\"><defs /><text text-anchor=\"middle\" x=\"50%\" y=\"1em\">CD</text></svg></svg><line stroke=\"black\" x1=\"50%\" x2=\"50%\" y1=\"1.2em\" y2=\"3em\" /></svg><line stroke=\"black\" x1=\"50%\" x2=\"50.9302%\" y1=\"1.2em\" y2=\"3em\" /><svg width=\"3.25581%\" x=\"52.093%\" y=\"3em\"><defs /><svg width=\"100%\" x=\"0\" y=\"0em\"><defs /><text text-anchor=\"middle\" x=\"50%\" y=\"1em\">weeks</text></svg><svg width=\"100%\" x=\"0%\" y=\"3em\"><defs /><svg width=\"100%\" x=\"0\" y=\"0em\"><defs /><text text-anchor=\"middle\" x=\"50%\" y=\"1em\">NNS</text></svg></svg><line stroke=\"black\" x1=\"50%\" x2=\"50%\" y1=\"1.2em\" y2=\"3em\" /></svg><line stroke=\"black\" x1=\"50%\" x2=\"53.7209%\" y1=\"1.2em\" y2=\"3em\" /><svg width=\"2.32558%\" x=\"55.3488%\" y=\"3em\"><defs /><svg width=\"100%\" x=\"0\" y=\"0em\"><defs /><text text-anchor=\"middle\" x=\"50%\" y=\"1em\">ago</text></svg><svg width=\"100%\" x=\"0%\" y=\"3em\"><defs /><svg width=\"100%\" x=\"0\" y=\"0em\"><defs /><text text-anchor=\"middle\" x=\"50%\" y=\"1em\">RB</text></svg></svg><line stroke=\"black\" x1=\"50%\" x2=\"50%\" y1=\"1.2em\" y2=\"3em\" /></svg><line stroke=\"black\" x1=\"50%\" x2=\"56.5116%\" y1=\"1.2em\" y2=\"3em\" /><svg width=\"1.39535%\" x=\"57.6744%\" y=\"3em\"><defs /><svg width=\"100%\" x=\"0\" y=\"0em\"><defs /><text text-anchor=\"middle\" x=\"50%\" y=\"1em\">,</text></svg><svg width=\"100%\" x=\"0%\" y=\"3em\"><defs /><svg width=\"100%\" x=\"0\" y=\"0em\"><defs /><text text-anchor=\"middle\" x=\"50%\" y=\"1em\">,</text></svg></svg><line stroke=\"black\" x1=\"50%\" x2=\"50%\" y1=\"1.2em\" y2=\"3em\" /></svg><line stroke=\"black\" x1=\"50%\" x2=\"58.3721%\" y1=\"1.2em\" y2=\"3em\" /><svg width=\"2.32558%\" x=\"59.0698%\" y=\"3em\"><defs /><svg width=\"100%\" x=\"0\" y=\"0em\"><defs /><text text-anchor=\"middle\" x=\"50%\" y=\"1em\">the</text></svg><svg width=\"100%\" x=\"0%\" y=\"3em\"><defs /><svg width=\"100%\" x=\"0\" y=\"0em\"><defs /><text text-anchor=\"middle\" x=\"50%\" y=\"1em\">DT</text></svg></svg><line stroke=\"black\" x1=\"50%\" x2=\"50%\" y1=\"1.2em\" y2=\"3em\" /></svg><line stroke=\"black\" x1=\"50%\" x2=\"60.2326%\" y1=\"1.2em\" y2=\"3em\" /><svg width=\"4.18605%\" x=\"61.3953%\" y=\"3em\"><defs /><svg width=\"100%\" x=\"0\" y=\"0em\"><defs /><text text-anchor=\"middle\" x=\"50%\" y=\"1em\">patient</text></svg><svg width=\"100%\" x=\"0%\" y=\"3em\"><defs /><svg width=\"100%\" x=\"0\" y=\"0em\"><defs /><text text-anchor=\"middle\" x=\"50%\" y=\"1em\">NN</text></svg></svg><line stroke=\"black\" x1=\"50%\" x2=\"50%\" y1=\"1.2em\" y2=\"3em\" /></svg><line stroke=\"black\" x1=\"50%\" x2=\"63.4884%\" y1=\"1.2em\" y2=\"3em\" /><svg width=\"2.32558%\" x=\"65.5814%\" y=\"3em\"><defs /><svg width=\"100%\" x=\"0\" y=\"0em\"><defs /><text text-anchor=\"middle\" x=\"50%\" y=\"1em\">was</text></svg><svg width=\"100%\" x=\"0%\" y=\"3em\"><defs /><svg width=\"100%\" x=\"0\" y=\"0em\"><defs /><text text-anchor=\"middle\" x=\"50%\" y=\"1em\">VBD</text></svg></svg><line stroke=\"black\" x1=\"50%\" x2=\"50%\" y1=\"1.2em\" y2=\"3em\" /></svg><line stroke=\"black\" x1=\"50%\" x2=\"66.7442%\" y1=\"1.2em\" y2=\"3em\" /><svg width=\"4.18605%\" x=\"67.907%\" y=\"3em\"><defs /><svg width=\"100%\" x=\"0\" y=\"0em\"><defs /><text text-anchor=\"middle\" x=\"50%\" y=\"1em\">started</text></svg><svg width=\"100%\" x=\"0%\" y=\"3em\"><defs /><svg width=\"100%\" x=\"0\" y=\"0em\"><defs /><text text-anchor=\"middle\" x=\"50%\" y=\"1em\">VBN</text></svg></svg><line stroke=\"black\" x1=\"50%\" x2=\"50%\" y1=\"1.2em\" y2=\"3em\" /></svg><line stroke=\"black\" x1=\"50%\" x2=\"70%\" y1=\"1.2em\" y2=\"3em\" /><svg width=\"1.86047%\" x=\"72.093%\" y=\"3em\"><defs /><svg width=\"100%\" x=\"0\" y=\"0em\"><defs /><text text-anchor=\"middle\" x=\"50%\" y=\"1em\">on</text></svg><svg width=\"100%\" x=\"0%\" y=\"3em\"><defs /><svg width=\"100%\" x=\"0\" y=\"0em\"><defs /><text text-anchor=\"middle\" x=\"50%\" y=\"1em\">IN</text></svg></svg><line stroke=\"black\" x1=\"50%\" x2=\"50%\" y1=\"1.2em\" y2=\"3em\" /></svg><line stroke=\"black\" x1=\"50%\" x2=\"73.0233%\" y1=\"1.2em\" y2=\"3em\" /><svg width=\"5.5814%\" x=\"73.9535%\" y=\"3em\"><defs /><svg width=\"100%\" x=\"0\" y=\"0em\"><defs /><text text-anchor=\"middle\" x=\"50%\" y=\"1em\">metuprolol</text></svg><svg width=\"100%\" x=\"0%\" y=\"3em\"><defs /><svg width=\"100%\" x=\"0\" y=\"0em\"><defs /><text text-anchor=\"middle\" x=\"50%\" y=\"1em\">NN</text></svg></svg><line stroke=\"black\" x1=\"50%\" x2=\"50%\" y1=\"1.2em\" y2=\"3em\" /></svg><line stroke=\"black\" x1=\"50%\" x2=\"76.7442%\" y1=\"1.2em\" y2=\"3em\" /><svg width=\"2.7907%\" x=\"79.5349%\" y=\"3em\"><defs /><svg width=\"100%\" x=\"0\" y=\"0em\"><defs /><text text-anchor=\"middle\" x=\"50%\" y=\"1em\">12.5</text></svg><svg width=\"100%\" x=\"0%\" y=\"3em\"><defs /><svg width=\"100%\" x=\"0\" y=\"0em\"><defs /><text text-anchor=\"middle\" x=\"50%\" y=\"1em\">CD</text></svg></svg><line stroke=\"black\" x1=\"50%\" x2=\"50%\" y1=\"1.2em\" y2=\"3em\" /></svg><line stroke=\"black\" x1=\"50%\" x2=\"80.9302%\" y1=\"1.2em\" y2=\"3em\" /><svg width=\"1.86047%\" x=\"82.3256%\" y=\"3em\"><defs /><svg width=\"100%\" x=\"0\" y=\"0em\"><defs /><text text-anchor=\"middle\" x=\"50%\" y=\"1em\">mg</text></svg><svg width=\"100%\" x=\"0%\" y=\"3em\"><defs /><svg width=\"100%\" x=\"0\" y=\"0em\"><defs /><text text-anchor=\"middle\" x=\"50%\" y=\"1em\">NN</text></svg></svg><line stroke=\"black\" x1=\"50%\" x2=\"50%\" y1=\"1.2em\" y2=\"3em\" /></svg><line stroke=\"black\" x1=\"50%\" x2=\"83.2558%\" y1=\"1.2em\" y2=\"3em\" /><svg width=\"2.32558%\" x=\"84.186%\" y=\"3em\"><defs /><svg width=\"100%\" x=\"0\" y=\"0em\"><defs /><text text-anchor=\"middle\" x=\"50%\" y=\"1em\">p.o</text></svg><svg width=\"100%\" x=\"0%\" y=\"3em\"><defs /><svg width=\"100%\" x=\"0\" y=\"0em\"><defs /><text text-anchor=\"middle\" x=\"50%\" y=\"1em\">NN</text></svg></svg><line stroke=\"black\" x1=\"50%\" x2=\"50%\" y1=\"1.2em\" y2=\"3em\" /></svg><line stroke=\"black\" x1=\"50%\" x2=\"85.3488%\" y1=\"1.2em\" y2=\"3em\" /><svg width=\"2.7907%\" x=\"86.5116%\" y=\"3em\"><defs /><svg width=\"100%\" x=\"0\" y=\"0em\"><defs /><text text-anchor=\"middle\" x=\"50%\" y=\"1em\">q.6h</text></svg><svg width=\"100%\" x=\"0%\" y=\"3em\"><defs /><svg width=\"100%\" x=\"0\" y=\"0em\"><defs /><text text-anchor=\"middle\" x=\"50%\" y=\"1em\">NN</text></svg></svg><line stroke=\"black\" x1=\"50%\" x2=\"50%\" y1=\"1.2em\" y2=\"3em\" /></svg><line stroke=\"black\" x1=\"50%\" x2=\"87.907%\" y1=\"1.2em\" y2=\"3em\" /><svg width=\"2.32558%\" x=\"89.3023%\" y=\"3em\"><defs /><svg width=\"100%\" x=\"0\" y=\"0em\"><defs /><text text-anchor=\"middle\" x=\"50%\" y=\"1em\">for</text></svg><svg width=\"100%\" x=\"0%\" y=\"3em\"><defs /><svg width=\"100%\" x=\"0\" y=\"0em\"><defs /><text text-anchor=\"middle\" x=\"50%\" y=\"1em\">IN</text></svg></svg><line stroke=\"black\" x1=\"50%\" x2=\"50%\" y1=\"1.2em\" y2=\"3em\" /></svg><line stroke=\"black\" x1=\"50%\" x2=\"90.4651%\" y1=\"1.2em\" y2=\"3em\" /><svg width=\"2.7907%\" x=\"91.6279%\" y=\"3em\"><defs /><svg width=\"100%\" x=\"0\" y=\"0em\"><defs /><text text-anchor=\"middle\" x=\"50%\" y=\"1em\">rate</text></svg><svg width=\"100%\" x=\"0%\" y=\"3em\"><defs /><svg width=\"100%\" x=\"0\" y=\"0em\"><defs /><text text-anchor=\"middle\" x=\"50%\" y=\"1em\">NN</text></svg></svg><line stroke=\"black\" x1=\"50%\" x2=\"50%\" y1=\"1.2em\" y2=\"3em\" /></svg><line stroke=\"black\" x1=\"50%\" x2=\"93.0233%\" y1=\"1.2em\" y2=\"3em\" /><svg width=\"4.18605%\" x=\"94.4186%\" y=\"3em\"><defs /><svg width=\"100%\" x=\"0\" y=\"0em\"><defs /><text text-anchor=\"middle\" x=\"50%\" y=\"1em\">control</text></svg><svg width=\"100%\" x=\"0%\" y=\"3em\"><defs /><svg width=\"100%\" x=\"0\" y=\"0em\"><defs /><text text-anchor=\"middle\" x=\"50%\" y=\"1em\">NN</text></svg></svg><line stroke=\"black\" x1=\"50%\" x2=\"50%\" y1=\"1.2em\" y2=\"3em\" /></svg><line stroke=\"black\" x1=\"50%\" x2=\"96.5116%\" y1=\"1.2em\" y2=\"3em\" /><svg width=\"1.39535%\" x=\"98.6047%\" y=\"3em\"><defs /><svg width=\"100%\" x=\"0\" y=\"0em\"><defs /><text text-anchor=\"middle\" x=\"50%\" y=\"1em\">.</text></svg><svg width=\"100%\" x=\"0%\" y=\"3em\"><defs /><svg width=\"100%\" x=\"0\" y=\"0em\"><defs /><text text-anchor=\"middle\" x=\"50%\" y=\"1em\">.</text></svg></svg><line stroke=\"black\" x1=\"50%\" x2=\"50%\" y1=\"1.2em\" y2=\"3em\" /></svg><line stroke=\"black\" x1=\"50%\" x2=\"99.3023%\" y1=\"1.2em\" y2=\"3em\" /></svg>"
          },
          "metadata": {},
          "execution_count": 8
        }
      ]
    },
    {
      "cell_type": "code",
      "source": [
        "#Imports needed library\n",
        "from nltk.probability import FreqDist\n",
        "import matplotlib.pyplot as plt\n",
        "#Instantiates a frequency dictionary\n",
        "fdist = FreqDist()\n",
        "#Counts frequencies of words in example text\n",
        "for word in word_tokenize(sentence):\n",
        "    fdist[word.lower()] += 1\n",
        "#Look at the five most common words\n",
        "print(fdist.most_common(5))\n"
      ],
      "metadata": {
        "colab": {
          "base_uri": "https://localhost:8080/"
        },
        "id": "jeiH0d3RW6UZ",
        "outputId": "98156a3a-98ee-490d-955d-aa57675927c4"
      },
      "execution_count": null,
      "outputs": [
        {
          "output_type": "stream",
          "name": "stdout",
          "text": [
            "[('two', 2), ('weeks', 2), ('ago', 2), (',', 2), ('the', 2)]\n"
          ]
        }
      ]
    },
    {
      "cell_type": "code",
      "source": [
        "#Look at distribution of frequencies of top 20 words\n",
        "fdist.plot(20, title = 'Frequency of Top 20 Words in Text')\n",
        "plt.show()"
      ],
      "metadata": {
        "id": "AP5y7dhPkVly",
        "colab": {
          "base_uri": "https://localhost:8080/",
          "height": 533
        },
        "outputId": "14bcb56a-21bb-4459-9b94-f19c3c1855be"
      },
      "execution_count": null,
      "outputs": [
        {
          "output_type": "display_data",
          "data": {
            "text/plain": [
              "<Figure size 640x480 with 1 Axes>"
            ],
            "image/png": "[encoded data removed]"
          },
          "metadata": {}
        }
      ]
    },
    {
      "cell_type": "markdown",
      "source": [
        "## Natural Language Processing (spaCy)"
      ],
      "metadata": {
        "id": "gz9Zdm2gvaah"
      }
    },
    {
      "cell_type": "code",
      "source": [
        "# Importing as module.\n",
        "import spacy\n",
        "from spacy import displacy\n",
        "# load language model\n",
        "nlp_en = spacy.load(\"en_core_web_lg\")"
      ],
      "metadata": {
        "id": "QhaTEGY76lZW",
        "colab": {
          "base_uri": "https://localhost:8080/"
        },
        "outputId": "5c66fddc-83fa-4d2e-e835-dbcd4652684d"
      },
      "execution_count": null,
      "outputs": [
        {
          "output_type": "stream",
          "name": "stderr",
          "text": [
            "/usr/local/lib/python3.10/dist-packages/requests/__init__.py:102: RequestsDependencyWarning: urllib3 (1.26.15) or chardet (5.1.0)/charset_normalizer (2.0.12) doesn't match a supported version!\n",
            "  warnings.warn(\"urllib3 ({}) or chardet ({})/charset_normalizer ({}) doesn't match a supported \"\n",
            "/usr/local/lib/python3.10/dist-packages/spacy/util.py:877: UserWarning: [W095] Model 'en_core_web_lg' (3.5.0) was trained with spaCy v3.5 and may not be 100% compatible with the current version (3.4.4). If you see errors or degraded performance, download a newer compatible model or retrain your custom model with the current spaCy version. For more details and available updates, run: python -m spacy validate\n",
            "  warnings.warn(warn_msg)\n"
          ]
        }
      ]
    },
    {
      "cell_type": "markdown",
      "source": [
        "# Linguistic Features\n",
        "\n",
        "- After we parse and tag a given text, we can extract token-level information:\n",
        "    - Text: the original word text\n",
        "    - Lemma: the base form of the word\n",
        "    - POS: the simple universal POS tag\n",
        "    - Tag: the detailed POS tag\n",
        "    - Dep: Syntactic dependency\n",
        "    - Shape: Word shape (capitalization, punc, digits)\n",
        "    - is alpha\n",
        "    - is stop\n",
        "\n",
        "For more information on POS tags, see spaCy: [POS tag scheme documentation](https://spacy.io/api/annotation#pos-tagging)"
      ],
      "metadata": {
        "id": "5iR7CUI47eVY"
      }
    },
    {
      "cell_type": "code",
      "source": [
        "doc = nlp_en('A 12-year old girl with hypertension and diabetes presented to ER with a 2-weeks history of headaches')\n",
        "\n",
        "# parts of speech tagging\n",
        "for token in doc:\n",
        "    print(((token.text,\n",
        "            token.lemma_,\n",
        "            token.pos_,\n",
        "            token.tag_,\n",
        "            token.dep_,\n",
        "            token.is_stop,\n",
        "            )))"
      ],
      "metadata": {
        "id": "KQnoVTrF6mqa",
        "colab": {
          "base_uri": "https://localhost:8080/"
        },
        "outputId": "6683844a-019f-4760-b2b5-da61fc08d18a"
      },
      "execution_count": null,
      "outputs": [
        {
          "output_type": "stream",
          "name": "stdout",
          "text": [
            "('A', 'a', 'DET', 'DT', 'det', True)\n",
            "('12', '12', 'NUM', 'CD', 'nummod', False)\n",
            "('-', '-', 'PUNCT', 'HYPH', 'punct', False)\n",
            "('year', 'year', 'NOUN', 'NN', 'npadvmod', False)\n",
            "('old', 'old', 'ADJ', 'JJ', 'amod', False)\n",
            "('girl', 'girl', 'NOUN', 'NN', 'nsubj', False)\n",
            "('with', 'with', 'ADP', 'IN', 'prep', True)\n",
            "('hypertension', 'hypertension', 'NOUN', 'NN', 'pobj', False)\n",
            "('and', 'and', 'CCONJ', 'CC', 'cc', True)\n",
            "('diabetes', 'diabete', 'NOUN', 'NNS', 'conj', False)\n",
            "('presented', 'present', 'VERB', 'VBN', 'ROOT', False)\n",
            "('to', 'to', 'ADP', 'IN', 'prep', True)\n",
            "('ER', 'ER', 'PROPN', 'NNP', 'pobj', False)\n",
            "('with', 'with', 'ADP', 'IN', 'prep', True)\n",
            "('a', 'a', 'DET', 'DT', 'det', True)\n",
            "('2', '2', 'NUM', 'CD', 'nummod', False)\n",
            "('-', '-', 'PUNCT', 'HYPH', 'punct', False)\n",
            "('weeks', 'week', 'NOUN', 'NNS', 'compound', False)\n",
            "('history', 'history', 'NOUN', 'NN', 'pobj', False)\n",
            "('of', 'of', 'ADP', 'IN', 'prep', True)\n",
            "('headaches', 'headache', 'NOUN', 'NNS', 'pobj', False)\n"
          ]
        }
      ]
    },
    {
      "cell_type": "code",
      "source": [
        "## Check meaning of a POS tag\n",
        "spacy.explain('DT')"
      ],
      "metadata": {
        "id": "TBMG0RVu7syD",
        "colab": {
          "base_uri": "https://localhost:8080/",
          "height": 35
        },
        "outputId": "9709c2bb-a5f5-4229-89f2-5ee19db18a7a"
      },
      "execution_count": null,
      "outputs": [
        {
          "output_type": "execute_result",
          "data": {
            "text/plain": [
              "'determiner'"
            ],
            "application/vnd.google.colaboratory.intrinsic+json": {
              "type": "string"
            }
          },
          "metadata": {},
          "execution_count": 13
        }
      ]
    },
    {
      "cell_type": "markdown",
      "source": [
        "- Visualization Linguistic Features\n"
      ],
      "metadata": {
        "id": "zH0V67lo73Eb"
      }
    },
    {
      "cell_type": "code",
      "source": [
        "# Visualize\n",
        "displacy.render(doc, style=\"dep\", jupyter=True)"
      ],
      "metadata": {
        "id": "4aHSmDcv7ytR",
        "colab": {
          "base_uri": "https://localhost:8080/",
          "height": 441
        },
        "outputId": "869a27b2-6d7f-48ae-8835-c2dd9618618f"
      },
      "execution_count": null,
      "outputs": [
        {
          "output_type": "display_data",
          "data": {
            "text/plain": [
              "<IPython.core.display.HTML object>"
            ],
            "text/html": [
              "<span class=\"tex2jax_ignore\"><svg xmlns=\"http://www.w3.org/2000/svg\" xmlns:xlink=\"http://www.w3.org/1999/xlink\" xml:lang=\"en\" id=\"1aa6a761c671443d9fc89bebaea859ae-0\" class=\"displacy\" width=\"3375\" height=\"399.5\" direction=\"ltr\" style=\"max-width: none; height: 399.5px; color: #000000; background: #ffffff; font-family: Arial; direction: ltr\">\n",
              "<text class=\"displacy-token\" fill=\"currentColor\" text-anchor=\"middle\" y=\"309.5\">\n",
              "    <tspan class=\"displacy-word\" fill=\"currentColor\" x=\"50\">A</tspan>\n",
              "    <tspan class=\"displacy-tag\" dy=\"2em\" fill=\"currentColor\" x=\"50\">DET</tspan>\n",
              "</text>\n",
              "\n",
              "<text class=\"displacy-token\" fill=\"currentColor\" text-anchor=\"middle\" y=\"309.5\">\n",
              "    <tspan class=\"displacy-word\" fill=\"currentColor\" x=\"225\">12-</tspan>\n",
              "    <tspan class=\"displacy-tag\" dy=\"2em\" fill=\"currentColor\" x=\"225\">NUM</tspan>\n",
              "</text>\n",
              "\n",
              "<text class=\"displacy-token\" fill=\"currentColor\" text-anchor=\"middle\" y=\"309.5\">\n",
              "    <tspan class=\"displacy-word\" fill=\"currentColor\" x=\"400\">year</tspan>\n",
              "    <tspan class=\"displacy-tag\" dy=\"2em\" fill=\"currentColor\" x=\"400\">NOUN</tspan>\n",
              "</text>\n",
              "\n",
              "<text class=\"displacy-token\" fill=\"currentColor\" text-anchor=\"middle\" y=\"309.5\">\n",
              "    <tspan class=\"displacy-word\" fill=\"currentColor\" x=\"575\">old</tspan>\n",
              "    <tspan class=\"displacy-tag\" dy=\"2em\" fill=\"currentColor\" x=\"575\">ADJ</tspan>\n",
              "</text>\n",
              "\n",
              "<text class=\"displacy-token\" fill=\"currentColor\" text-anchor=\"middle\" y=\"309.5\">\n",
              "    <tspan class=\"displacy-word\" fill=\"currentColor\" x=\"750\">girl</tspan>\n",
              "    <tspan class=\"displacy-tag\" dy=\"2em\" fill=\"currentColor\" x=\"750\">NOUN</tspan>\n",
              "</text>\n",
              "\n",
              "<text class=\"displacy-token\" fill=\"currentColor\" text-anchor=\"middle\" y=\"309.5\">\n",
              "    <tspan class=\"displacy-word\" fill=\"currentColor\" x=\"925\">with</tspan>\n",
              "    <tspan class=\"displacy-tag\" dy=\"2em\" fill=\"currentColor\" x=\"925\">ADP</tspan>\n",
              "</text>\n",
              "\n",
              "<text class=\"displacy-token\" fill=\"currentColor\" text-anchor=\"middle\" y=\"309.5\">\n",
              "    <tspan class=\"displacy-word\" fill=\"currentColor\" x=\"1100\">hypertension</tspan>\n",
              "    <tspan class=\"displacy-tag\" dy=\"2em\" fill=\"currentColor\" x=\"1100\">NOUN</tspan>\n",
              "</text>\n",
              "\n",
              "<text class=\"displacy-token\" fill=\"currentColor\" text-anchor=\"middle\" y=\"309.5\">\n",
              "    <tspan class=\"displacy-word\" fill=\"currentColor\" x=\"1275\">and</tspan>\n",
              "    <tspan class=\"displacy-tag\" dy=\"2em\" fill=\"currentColor\" x=\"1275\">CCONJ</tspan>\n",
              "</text>\n",
              "\n",
              "<text class=\"displacy-token\" fill=\"currentColor\" text-anchor=\"middle\" y=\"309.5\">\n",
              "    <tspan class=\"displacy-word\" fill=\"currentColor\" x=\"1450\">diabetes</tspan>\n",
              "    <tspan class=\"displacy-tag\" dy=\"2em\" fill=\"currentColor\" x=\"1450\">NOUN</tspan>\n",
              "</text>\n",
              "\n",
              "<text class=\"displacy-token\" fill=\"currentColor\" text-anchor=\"middle\" y=\"309.5\">\n",
              "    <tspan class=\"displacy-word\" fill=\"currentColor\" x=\"1625\">presented</tspan>\n",
              "    <tspan class=\"displacy-tag\" dy=\"2em\" fill=\"currentColor\" x=\"1625\">VERB</tspan>\n",
              "</text>\n",
              "\n",
              "<text class=\"displacy-token\" fill=\"currentColor\" text-anchor=\"middle\" y=\"309.5\">\n",
              "    <tspan class=\"displacy-word\" fill=\"currentColor\" x=\"1800\">to</tspan>\n",
              "    <tspan class=\"displacy-tag\" dy=\"2em\" fill=\"currentColor\" x=\"1800\">ADP</tspan>\n",
              "</text>\n",
              "\n",
              "<text class=\"displacy-token\" fill=\"currentColor\" text-anchor=\"middle\" y=\"309.5\">\n",
              "    <tspan class=\"displacy-word\" fill=\"currentColor\" x=\"1975\">ER</tspan>\n",
              "    <tspan class=\"displacy-tag\" dy=\"2em\" fill=\"currentColor\" x=\"1975\">PROPN</tspan>\n",
              "</text>\n",
              "\n",
              "<text class=\"displacy-token\" fill=\"currentColor\" text-anchor=\"middle\" y=\"309.5\">\n",
              "    <tspan class=\"displacy-word\" fill=\"currentColor\" x=\"2150\">with</tspan>\n",
              "    <tspan class=\"displacy-tag\" dy=\"2em\" fill=\"currentColor\" x=\"2150\">ADP</tspan>\n",
              "</text>\n",
              "\n",
              "<text class=\"displacy-token\" fill=\"currentColor\" text-anchor=\"middle\" y=\"309.5\">\n",
              "    <tspan class=\"displacy-word\" fill=\"currentColor\" x=\"2325\">a</tspan>\n",
              "    <tspan class=\"displacy-tag\" dy=\"2em\" fill=\"currentColor\" x=\"2325\">DET</tspan>\n",
              "</text>\n",
              "\n",
              "<text class=\"displacy-token\" fill=\"currentColor\" text-anchor=\"middle\" y=\"309.5\">\n",
              "    <tspan class=\"displacy-word\" fill=\"currentColor\" x=\"2500\">2-</tspan>\n",
              "    <tspan class=\"displacy-tag\" dy=\"2em\" fill=\"currentColor\" x=\"2500\">NUM</tspan>\n",
              "</text>\n",
              "\n",
              "<text class=\"displacy-token\" fill=\"currentColor\" text-anchor=\"middle\" y=\"309.5\">\n",
              "    <tspan class=\"displacy-word\" fill=\"currentColor\" x=\"2675\">weeks</tspan>\n",
              "    <tspan class=\"displacy-tag\" dy=\"2em\" fill=\"currentColor\" x=\"2675\">NOUN</tspan>\n",
              "</text>\n",
              "\n",
              "<text class=\"displacy-token\" fill=\"currentColor\" text-anchor=\"middle\" y=\"309.5\">\n",
              "    <tspan class=\"displacy-word\" fill=\"currentColor\" x=\"2850\">history</tspan>\n",
              "    <tspan class=\"displacy-tag\" dy=\"2em\" fill=\"currentColor\" x=\"2850\">NOUN</tspan>\n",
              "</text>\n",
              "\n",
              "<text class=\"displacy-token\" fill=\"currentColor\" text-anchor=\"middle\" y=\"309.5\">\n",
              "    <tspan class=\"displacy-word\" fill=\"currentColor\" x=\"3025\">of</tspan>\n",
              "    <tspan class=\"displacy-tag\" dy=\"2em\" fill=\"currentColor\" x=\"3025\">ADP</tspan>\n",
              "</text>\n",
              "\n",
              "<text class=\"displacy-token\" fill=\"currentColor\" text-anchor=\"middle\" y=\"309.5\">\n",
              "    <tspan class=\"displacy-word\" fill=\"currentColor\" x=\"3200\">headaches</tspan>\n",
              "    <tspan class=\"displacy-tag\" dy=\"2em\" fill=\"currentColor\" x=\"3200\">NOUN</tspan>\n",
              "</text>\n",
              "\n",
              "<g class=\"displacy-arrow\">\n",
              "    <path class=\"displacy-arc\" id=\"arrow-1aa6a761c671443d9fc89bebaea859ae-0-0\" stroke-width=\"2px\" d=\"M70,264.5 C70,89.5 745.0,89.5 745.0,264.5\" fill=\"none\" stroke=\"currentColor\"/>\n",
              "    <text dy=\"1.25em\" style=\"font-size: 0.8em; letter-spacing: 1px\">\n",
              "        <textPath xlink:href=\"#arrow-1aa6a761c671443d9fc89bebaea859ae-0-0\" class=\"displacy-label\" startOffset=\"50%\" side=\"left\" fill=\"currentColor\" text-anchor=\"middle\">det</textPath>\n",
              "    </text>\n",
              "    <path class=\"displacy-arrowhead\" d=\"M70,266.5 L62,254.5 78,254.5\" fill=\"currentColor\"/>\n",
              "</g>\n",
              "\n",
              "<g class=\"displacy-arrow\">\n",
              "    <path class=\"displacy-arc\" id=\"arrow-1aa6a761c671443d9fc89bebaea859ae-0-1\" stroke-width=\"2px\" d=\"M245,264.5 C245,177.0 390.0,177.0 390.0,264.5\" fill=\"none\" stroke=\"currentColor\"/>\n",
              "    <text dy=\"1.25em\" style=\"font-size: 0.8em; letter-spacing: 1px\">\n",
              "        <textPath xlink:href=\"#arrow-1aa6a761c671443d9fc89bebaea859ae-0-1\" class=\"displacy-label\" startOffset=\"50%\" side=\"left\" fill=\"currentColor\" text-anchor=\"middle\">nummod</textPath>\n",
              "    </text>\n",
              "    <path class=\"displacy-arrowhead\" d=\"M245,266.5 L237,254.5 253,254.5\" fill=\"currentColor\"/>\n",
              "</g>\n",
              "\n",
              "<g class=\"displacy-arrow\">\n",
              "    <path class=\"displacy-arc\" id=\"arrow-1aa6a761c671443d9fc89bebaea859ae-0-2\" stroke-width=\"2px\" d=\"M420,264.5 C420,177.0 565.0,177.0 565.0,264.5\" fill=\"none\" stroke=\"currentColor\"/>\n",
              "    <text dy=\"1.25em\" style=\"font-size: 0.8em; letter-spacing: 1px\">\n",
              "        <textPath xlink:href=\"#arrow-1aa6a761c671443d9fc89bebaea859ae-0-2\" class=\"displacy-label\" startOffset=\"50%\" side=\"left\" fill=\"currentColor\" text-anchor=\"middle\">npadvmod</textPath>\n",
              "    </text>\n",
              "    <path class=\"displacy-arrowhead\" d=\"M420,266.5 L412,254.5 428,254.5\" fill=\"currentColor\"/>\n",
              "</g>\n",
              "\n",
              "<g class=\"displacy-arrow\">\n",
              "    <path class=\"displacy-arc\" id=\"arrow-1aa6a761c671443d9fc89bebaea859ae-0-3\" stroke-width=\"2px\" d=\"M595,264.5 C595,177.0 740.0,177.0 740.0,264.5\" fill=\"none\" stroke=\"currentColor\"/>\n",
              "    <text dy=\"1.25em\" style=\"font-size: 0.8em; letter-spacing: 1px\">\n",
              "        <textPath xlink:href=\"#arrow-1aa6a761c671443d9fc89bebaea859ae-0-3\" class=\"displacy-label\" startOffset=\"50%\" side=\"left\" fill=\"currentColor\" text-anchor=\"middle\">amod</textPath>\n",
              "    </text>\n",
              "    <path class=\"displacy-arrowhead\" d=\"M595,266.5 L587,254.5 603,254.5\" fill=\"currentColor\"/>\n",
              "</g>\n",
              "\n",
              "<g class=\"displacy-arrow\">\n",
              "    <path class=\"displacy-arc\" id=\"arrow-1aa6a761c671443d9fc89bebaea859ae-0-4\" stroke-width=\"2px\" d=\"M770,264.5 C770,2.0 1625.0,2.0 1625.0,264.5\" fill=\"none\" stroke=\"currentColor\"/>\n",
              "    <text dy=\"1.25em\" style=\"font-size: 0.8em; letter-spacing: 1px\">\n",
              "        <textPath xlink:href=\"#arrow-1aa6a761c671443d9fc89bebaea859ae-0-4\" class=\"displacy-label\" startOffset=\"50%\" side=\"left\" fill=\"currentColor\" text-anchor=\"middle\">nsubj</textPath>\n",
              "    </text>\n",
              "    <path class=\"displacy-arrowhead\" d=\"M770,266.5 L762,254.5 778,254.5\" fill=\"currentColor\"/>\n",
              "</g>\n",
              "\n",
              "<g class=\"displacy-arrow\">\n",
              "    <path class=\"displacy-arc\" id=\"arrow-1aa6a761c671443d9fc89bebaea859ae-0-5\" stroke-width=\"2px\" d=\"M770,264.5 C770,177.0 915.0,177.0 915.0,264.5\" fill=\"none\" stroke=\"currentColor\"/>\n",
              "    <text dy=\"1.25em\" style=\"font-size: 0.8em; letter-spacing: 1px\">\n",
              "        <textPath xlink:href=\"#arrow-1aa6a761c671443d9fc89bebaea859ae-0-5\" class=\"displacy-label\" startOffset=\"50%\" side=\"left\" fill=\"currentColor\" text-anchor=\"middle\">prep</textPath>\n",
              "    </text>\n",
              "    <path class=\"displacy-arrowhead\" d=\"M915.0,266.5 L923.0,254.5 907.0,254.5\" fill=\"currentColor\"/>\n",
              "</g>\n",
              "\n",
              "<g class=\"displacy-arrow\">\n",
              "    <path class=\"displacy-arc\" id=\"arrow-1aa6a761c671443d9fc89bebaea859ae-0-6\" stroke-width=\"2px\" d=\"M945,264.5 C945,177.0 1090.0,177.0 1090.0,264.5\" fill=\"none\" stroke=\"currentColor\"/>\n",
              "    <text dy=\"1.25em\" style=\"font-size: 0.8em; letter-spacing: 1px\">\n",
              "        <textPath xlink:href=\"#arrow-1aa6a761c671443d9fc89bebaea859ae-0-6\" class=\"displacy-label\" startOffset=\"50%\" side=\"left\" fill=\"currentColor\" text-anchor=\"middle\">pobj</textPath>\n",
              "    </text>\n",
              "    <path class=\"displacy-arrowhead\" d=\"M1090.0,266.5 L1098.0,254.5 1082.0,254.5\" fill=\"currentColor\"/>\n",
              "</g>\n",
              "\n",
              "<g class=\"displacy-arrow\">\n",
              "    <path class=\"displacy-arc\" id=\"arrow-1aa6a761c671443d9fc89bebaea859ae-0-7\" stroke-width=\"2px\" d=\"M1120,264.5 C1120,177.0 1265.0,177.0 1265.0,264.5\" fill=\"none\" stroke=\"currentColor\"/>\n",
              "    <text dy=\"1.25em\" style=\"font-size: 0.8em; letter-spacing: 1px\">\n",
              "        <textPath xlink:href=\"#arrow-1aa6a761c671443d9fc89bebaea859ae-0-7\" class=\"displacy-label\" startOffset=\"50%\" side=\"left\" fill=\"currentColor\" text-anchor=\"middle\">cc</textPath>\n",
              "    </text>\n",
              "    <path class=\"displacy-arrowhead\" d=\"M1265.0,266.5 L1273.0,254.5 1257.0,254.5\" fill=\"currentColor\"/>\n",
              "</g>\n",
              "\n",
              "<g class=\"displacy-arrow\">\n",
              "    <path class=\"displacy-arc\" id=\"arrow-1aa6a761c671443d9fc89bebaea859ae-0-8\" stroke-width=\"2px\" d=\"M1120,264.5 C1120,89.5 1445.0,89.5 1445.0,264.5\" fill=\"none\" stroke=\"currentColor\"/>\n",
              "    <text dy=\"1.25em\" style=\"font-size: 0.8em; letter-spacing: 1px\">\n",
              "        <textPath xlink:href=\"#arrow-1aa6a761c671443d9fc89bebaea859ae-0-8\" class=\"displacy-label\" startOffset=\"50%\" side=\"left\" fill=\"currentColor\" text-anchor=\"middle\">conj</textPath>\n",
              "    </text>\n",
              "    <path class=\"displacy-arrowhead\" d=\"M1445.0,266.5 L1453.0,254.5 1437.0,254.5\" fill=\"currentColor\"/>\n",
              "</g>\n",
              "\n",
              "<g class=\"displacy-arrow\">\n",
              "    <path class=\"displacy-arc\" id=\"arrow-1aa6a761c671443d9fc89bebaea859ae-0-9\" stroke-width=\"2px\" d=\"M1645,264.5 C1645,177.0 1790.0,177.0 1790.0,264.5\" fill=\"none\" stroke=\"currentColor\"/>\n",
              "    <text dy=\"1.25em\" style=\"font-size: 0.8em; letter-spacing: 1px\">\n",
              "        <textPath xlink:href=\"#arrow-1aa6a761c671443d9fc89bebaea859ae-0-9\" class=\"displacy-label\" startOffset=\"50%\" side=\"left\" fill=\"currentColor\" text-anchor=\"middle\">prep</textPath>\n",
              "    </text>\n",
              "    <path class=\"displacy-arrowhead\" d=\"M1790.0,266.5 L1798.0,254.5 1782.0,254.5\" fill=\"currentColor\"/>\n",
              "</g>\n",
              "\n",
              "<g class=\"displacy-arrow\">\n",
              "    <path class=\"displacy-arc\" id=\"arrow-1aa6a761c671443d9fc89bebaea859ae-0-10\" stroke-width=\"2px\" d=\"M1820,264.5 C1820,177.0 1965.0,177.0 1965.0,264.5\" fill=\"none\" stroke=\"currentColor\"/>\n",
              "    <text dy=\"1.25em\" style=\"font-size: 0.8em; letter-spacing: 1px\">\n",
              "        <textPath xlink:href=\"#arrow-1aa6a761c671443d9fc89bebaea859ae-0-10\" class=\"displacy-label\" startOffset=\"50%\" side=\"left\" fill=\"currentColor\" text-anchor=\"middle\">pobj</textPath>\n",
              "    </text>\n",
              "    <path class=\"displacy-arrowhead\" d=\"M1965.0,266.5 L1973.0,254.5 1957.0,254.5\" fill=\"currentColor\"/>\n",
              "</g>\n",
              "\n",
              "<g class=\"displacy-arrow\">\n",
              "    <path class=\"displacy-arc\" id=\"arrow-1aa6a761c671443d9fc89bebaea859ae-0-11\" stroke-width=\"2px\" d=\"M1645,264.5 C1645,89.5 2145.0,89.5 2145.0,264.5\" fill=\"none\" stroke=\"currentColor\"/>\n",
              "    <text dy=\"1.25em\" style=\"font-size: 0.8em; letter-spacing: 1px\">\n",
              "        <textPath xlink:href=\"#arrow-1aa6a761c671443d9fc89bebaea859ae-0-11\" class=\"displacy-label\" startOffset=\"50%\" side=\"left\" fill=\"currentColor\" text-anchor=\"middle\">prep</textPath>\n",
              "    </text>\n",
              "    <path class=\"displacy-arrowhead\" d=\"M2145.0,266.5 L2153.0,254.5 2137.0,254.5\" fill=\"currentColor\"/>\n",
              "</g>\n",
              "\n",
              "<g class=\"displacy-arrow\">\n",
              "    <path class=\"displacy-arc\" id=\"arrow-1aa6a761c671443d9fc89bebaea859ae-0-12\" stroke-width=\"2px\" d=\"M2345,264.5 C2345,89.5 2845.0,89.5 2845.0,264.5\" fill=\"none\" stroke=\"currentColor\"/>\n",
              "    <text dy=\"1.25em\" style=\"font-size: 0.8em; letter-spacing: 1px\">\n",
              "        <textPath xlink:href=\"#arrow-1aa6a761c671443d9fc89bebaea859ae-0-12\" class=\"displacy-label\" startOffset=\"50%\" side=\"left\" fill=\"currentColor\" text-anchor=\"middle\">det</textPath>\n",
              "    </text>\n",
              "    <path class=\"displacy-arrowhead\" d=\"M2345,266.5 L2337,254.5 2353,254.5\" fill=\"currentColor\"/>\n",
              "</g>\n",
              "\n",
              "<g class=\"displacy-arrow\">\n",
              "    <path class=\"displacy-arc\" id=\"arrow-1aa6a761c671443d9fc89bebaea859ae-0-13\" stroke-width=\"2px\" d=\"M2520,264.5 C2520,177.0 2665.0,177.0 2665.0,264.5\" fill=\"none\" stroke=\"currentColor\"/>\n",
              "    <text dy=\"1.25em\" style=\"font-size: 0.8em; letter-spacing: 1px\">\n",
              "        <textPath xlink:href=\"#arrow-1aa6a761c671443d9fc89bebaea859ae-0-13\" class=\"displacy-label\" startOffset=\"50%\" side=\"left\" fill=\"currentColor\" text-anchor=\"middle\">nummod</textPath>\n",
              "    </text>\n",
              "    <path class=\"displacy-arrowhead\" d=\"M2520,266.5 L2512,254.5 2528,254.5\" fill=\"currentColor\"/>\n",
              "</g>\n",
              "\n",
              "<g class=\"displacy-arrow\">\n",
              "    <path class=\"displacy-arc\" id=\"arrow-1aa6a761c671443d9fc89bebaea859ae-0-14\" stroke-width=\"2px\" d=\"M2695,264.5 C2695,177.0 2840.0,177.0 2840.0,264.5\" fill=\"none\" stroke=\"currentColor\"/>\n",
              "    <text dy=\"1.25em\" style=\"font-size: 0.8em; letter-spacing: 1px\">\n",
              "        <textPath xlink:href=\"#arrow-1aa6a761c671443d9fc89bebaea859ae-0-14\" class=\"displacy-label\" startOffset=\"50%\" side=\"left\" fill=\"currentColor\" text-anchor=\"middle\">compound</textPath>\n",
              "    </text>\n",
              "    <path class=\"displacy-arrowhead\" d=\"M2695,266.5 L2687,254.5 2703,254.5\" fill=\"currentColor\"/>\n",
              "</g>\n",
              "\n",
              "<g class=\"displacy-arrow\">\n",
              "    <path class=\"displacy-arc\" id=\"arrow-1aa6a761c671443d9fc89bebaea859ae-0-15\" stroke-width=\"2px\" d=\"M2170,264.5 C2170,2.0 2850.0,2.0 2850.0,264.5\" fill=\"none\" stroke=\"currentColor\"/>\n",
              "    <text dy=\"1.25em\" style=\"font-size: 0.8em; letter-spacing: 1px\">\n",
              "        <textPath xlink:href=\"#arrow-1aa6a761c671443d9fc89bebaea859ae-0-15\" class=\"displacy-label\" startOffset=\"50%\" side=\"left\" fill=\"currentColor\" text-anchor=\"middle\">pobj</textPath>\n",
              "    </text>\n",
              "    <path class=\"displacy-arrowhead\" d=\"M2850.0,266.5 L2858.0,254.5 2842.0,254.5\" fill=\"currentColor\"/>\n",
              "</g>\n",
              "\n",
              "<g class=\"displacy-arrow\">\n",
              "    <path class=\"displacy-arc\" id=\"arrow-1aa6a761c671443d9fc89bebaea859ae-0-16\" stroke-width=\"2px\" d=\"M2870,264.5 C2870,177.0 3015.0,177.0 3015.0,264.5\" fill=\"none\" stroke=\"currentColor\"/>\n",
              "    <text dy=\"1.25em\" style=\"font-size: 0.8em; letter-spacing: 1px\">\n",
              "        <textPath xlink:href=\"#arrow-1aa6a761c671443d9fc89bebaea859ae-0-16\" class=\"displacy-label\" startOffset=\"50%\" side=\"left\" fill=\"currentColor\" text-anchor=\"middle\">prep</textPath>\n",
              "    </text>\n",
              "    <path class=\"displacy-arrowhead\" d=\"M3015.0,266.5 L3023.0,254.5 3007.0,254.5\" fill=\"currentColor\"/>\n",
              "</g>\n",
              "\n",
              "<g class=\"displacy-arrow\">\n",
              "    <path class=\"displacy-arc\" id=\"arrow-1aa6a761c671443d9fc89bebaea859ae-0-17\" stroke-width=\"2px\" d=\"M3045,264.5 C3045,177.0 3190.0,177.0 3190.0,264.5\" fill=\"none\" stroke=\"currentColor\"/>\n",
              "    <text dy=\"1.25em\" style=\"font-size: 0.8em; letter-spacing: 1px\">\n",
              "        <textPath xlink:href=\"#arrow-1aa6a761c671443d9fc89bebaea859ae-0-17\" class=\"displacy-label\" startOffset=\"50%\" side=\"left\" fill=\"currentColor\" text-anchor=\"middle\">pobj</textPath>\n",
              "    </text>\n",
              "    <path class=\"displacy-arrowhead\" d=\"M3190.0,266.5 L3198.0,254.5 3182.0,254.5\" fill=\"currentColor\"/>\n",
              "</g>\n",
              "</svg></span>"
            ]
          },
          "metadata": {}
        }
      ]
    },
    {
      "cell_type": "code",
      "source": [
        "## longer paragraphs\n",
        "#Sample paragraph of text\n",
        "text_long = '''A 12-year old girl with hypertension and diabetes presented to ER with a 2-weeks history of headaches'''\n",
        "## parse the texts\n",
        "doc2 = nlp_en(text_long)\n",
        "## get the sentences of the doc2\n",
        "sentence_spans = list(doc2.sents)\n",
        "options = {\"compact\": True, \"bg\": \"#01A9DB\",\n",
        "           \"color\": \"white\", \"font\": \"Source Sans Pro\",\n",
        "          \"distance\": 120}\n",
        "displacy.render(sentence_spans, style=\"dep\", jupyter=True,options=options)"
      ],
      "metadata": {
        "id": "w_ADEIHj8NEq",
        "colab": {
          "base_uri": "https://localhost:8080/",
          "height": 358
        },
        "outputId": "e429034e-73ba-4d26-867c-999924222a78"
      },
      "execution_count": null,
      "outputs": [
        {
          "output_type": "display_data",
          "data": {
            "text/plain": [
              "<IPython.core.display.HTML object>"
            ],
            "text/html": [
              "<span class=\"tex2jax_ignore\"><svg xmlns=\"http://www.w3.org/2000/svg\" xmlns:xlink=\"http://www.w3.org/1999/xlink\" xml:lang=\"en\" id=\"54787e9089c54e679a9a319b73064aeb-0\" class=\"displacy\" width=\"2330\" height=\"317.0\" direction=\"ltr\" style=\"max-width: none; height: 317.0px; color: white; background: #01A9DB; font-family: Source Sans Pro; direction: ltr\">\n",
              "<text class=\"displacy-token\" fill=\"currentColor\" text-anchor=\"middle\" y=\"227.0\">\n",
              "    <tspan class=\"displacy-word\" fill=\"currentColor\" x=\"50\">A</tspan>\n",
              "    <tspan class=\"displacy-tag\" dy=\"2em\" fill=\"currentColor\" x=\"50\">DET</tspan>\n",
              "</text>\n",
              "\n",
              "<text class=\"displacy-token\" fill=\"currentColor\" text-anchor=\"middle\" y=\"227.0\">\n",
              "    <tspan class=\"displacy-word\" fill=\"currentColor\" x=\"170\">12-</tspan>\n",
              "    <tspan class=\"displacy-tag\" dy=\"2em\" fill=\"currentColor\" x=\"170\">NUM</tspan>\n",
              "</text>\n",
              "\n",
              "<text class=\"displacy-token\" fill=\"currentColor\" text-anchor=\"middle\" y=\"227.0\">\n",
              "    <tspan class=\"displacy-word\" fill=\"currentColor\" x=\"290\">year</tspan>\n",
              "    <tspan class=\"displacy-tag\" dy=\"2em\" fill=\"currentColor\" x=\"290\">NOUN</tspan>\n",
              "</text>\n",
              "\n",
              "<text class=\"displacy-token\" fill=\"currentColor\" text-anchor=\"middle\" y=\"227.0\">\n",
              "    <tspan class=\"displacy-word\" fill=\"currentColor\" x=\"410\">old</tspan>\n",
              "    <tspan class=\"displacy-tag\" dy=\"2em\" fill=\"currentColor\" x=\"410\">ADJ</tspan>\n",
              "</text>\n",
              "\n",
              "<text class=\"displacy-token\" fill=\"currentColor\" text-anchor=\"middle\" y=\"227.0\">\n",
              "    <tspan class=\"displacy-word\" fill=\"currentColor\" x=\"530\">girl</tspan>\n",
              "    <tspan class=\"displacy-tag\" dy=\"2em\" fill=\"currentColor\" x=\"530\">NOUN</tspan>\n",
              "</text>\n",
              "\n",
              "<text class=\"displacy-token\" fill=\"currentColor\" text-anchor=\"middle\" y=\"227.0\">\n",
              "    <tspan class=\"displacy-word\" fill=\"currentColor\" x=\"650\">with</tspan>\n",
              "    <tspan class=\"displacy-tag\" dy=\"2em\" fill=\"currentColor\" x=\"650\">ADP</tspan>\n",
              "</text>\n",
              "\n",
              "<text class=\"displacy-token\" fill=\"currentColor\" text-anchor=\"middle\" y=\"227.0\">\n",
              "    <tspan class=\"displacy-word\" fill=\"currentColor\" x=\"770\">hypertension</tspan>\n",
              "    <tspan class=\"displacy-tag\" dy=\"2em\" fill=\"currentColor\" x=\"770\">NOUN</tspan>\n",
              "</text>\n",
              "\n",
              "<text class=\"displacy-token\" fill=\"currentColor\" text-anchor=\"middle\" y=\"227.0\">\n",
              "    <tspan class=\"displacy-word\" fill=\"currentColor\" x=\"890\">and</tspan>\n",
              "    <tspan class=\"displacy-tag\" dy=\"2em\" fill=\"currentColor\" x=\"890\">CCONJ</tspan>\n",
              "</text>\n",
              "\n",
              "<text class=\"displacy-token\" fill=\"currentColor\" text-anchor=\"middle\" y=\"227.0\">\n",
              "    <tspan class=\"displacy-word\" fill=\"currentColor\" x=\"1010\">diabetes</tspan>\n",
              "    <tspan class=\"displacy-tag\" dy=\"2em\" fill=\"currentColor\" x=\"1010\">NOUN</tspan>\n",
              "</text>\n",
              "\n",
              "<text class=\"displacy-token\" fill=\"currentColor\" text-anchor=\"middle\" y=\"227.0\">\n",
              "    <tspan class=\"displacy-word\" fill=\"currentColor\" x=\"1130\">presented</tspan>\n",
              "    <tspan class=\"displacy-tag\" dy=\"2em\" fill=\"currentColor\" x=\"1130\">VERB</tspan>\n",
              "</text>\n",
              "\n",
              "<text class=\"displacy-token\" fill=\"currentColor\" text-anchor=\"middle\" y=\"227.0\">\n",
              "    <tspan class=\"displacy-word\" fill=\"currentColor\" x=\"1250\">to</tspan>\n",
              "    <tspan class=\"displacy-tag\" dy=\"2em\" fill=\"currentColor\" x=\"1250\">ADP</tspan>\n",
              "</text>\n",
              "\n",
              "<text class=\"displacy-token\" fill=\"currentColor\" text-anchor=\"middle\" y=\"227.0\">\n",
              "    <tspan class=\"displacy-word\" fill=\"currentColor\" x=\"1370\">ER</tspan>\n",
              "    <tspan class=\"displacy-tag\" dy=\"2em\" fill=\"currentColor\" x=\"1370\">PROPN</tspan>\n",
              "</text>\n",
              "\n",
              "<text class=\"displacy-token\" fill=\"currentColor\" text-anchor=\"middle\" y=\"227.0\">\n",
              "    <tspan class=\"displacy-word\" fill=\"currentColor\" x=\"1490\">with</tspan>\n",
              "    <tspan class=\"displacy-tag\" dy=\"2em\" fill=\"currentColor\" x=\"1490\">ADP</tspan>\n",
              "</text>\n",
              "\n",
              "<text class=\"displacy-token\" fill=\"currentColor\" text-anchor=\"middle\" y=\"227.0\">\n",
              "    <tspan class=\"displacy-word\" fill=\"currentColor\" x=\"1610\">a</tspan>\n",
              "    <tspan class=\"displacy-tag\" dy=\"2em\" fill=\"currentColor\" x=\"1610\">DET</tspan>\n",
              "</text>\n",
              "\n",
              "<text class=\"displacy-token\" fill=\"currentColor\" text-anchor=\"middle\" y=\"227.0\">\n",
              "    <tspan class=\"displacy-word\" fill=\"currentColor\" x=\"1730\">2-</tspan>\n",
              "    <tspan class=\"displacy-tag\" dy=\"2em\" fill=\"currentColor\" x=\"1730\">NUM</tspan>\n",
              "</text>\n",
              "\n",
              "<text class=\"displacy-token\" fill=\"currentColor\" text-anchor=\"middle\" y=\"227.0\">\n",
              "    <tspan class=\"displacy-word\" fill=\"currentColor\" x=\"1850\">weeks</tspan>\n",
              "    <tspan class=\"displacy-tag\" dy=\"2em\" fill=\"currentColor\" x=\"1850\">NOUN</tspan>\n",
              "</text>\n",
              "\n",
              "<text class=\"displacy-token\" fill=\"currentColor\" text-anchor=\"middle\" y=\"227.0\">\n",
              "    <tspan class=\"displacy-word\" fill=\"currentColor\" x=\"1970\">history</tspan>\n",
              "    <tspan class=\"displacy-tag\" dy=\"2em\" fill=\"currentColor\" x=\"1970\">NOUN</tspan>\n",
              "</text>\n",
              "\n",
              "<text class=\"displacy-token\" fill=\"currentColor\" text-anchor=\"middle\" y=\"227.0\">\n",
              "    <tspan class=\"displacy-word\" fill=\"currentColor\" x=\"2090\">of</tspan>\n",
              "    <tspan class=\"displacy-tag\" dy=\"2em\" fill=\"currentColor\" x=\"2090\">ADP</tspan>\n",
              "</text>\n",
              "\n",
              "<text class=\"displacy-token\" fill=\"currentColor\" text-anchor=\"middle\" y=\"227.0\">\n",
              "    <tspan class=\"displacy-word\" fill=\"currentColor\" x=\"2210\">headaches</tspan>\n",
              "    <tspan class=\"displacy-tag\" dy=\"2em\" fill=\"currentColor\" x=\"2210\">NOUN</tspan>\n",
              "</text>\n",
              "\n",
              "<g class=\"displacy-arrow\">\n",
              "    <path class=\"displacy-arc\" id=\"arrow-54787e9089c54e679a9a319b73064aeb-0-0\" stroke-width=\"2px\" d=\"M62,182.0 62,142.0 527.0,142.0 527.0,182.0\" fill=\"none\" stroke=\"currentColor\"/>\n",
              "    <text dy=\"1.25em\" style=\"font-size: 0.8em; letter-spacing: 1px\">\n",
              "        <textPath xlink:href=\"#arrow-54787e9089c54e679a9a319b73064aeb-0-0\" class=\"displacy-label\" startOffset=\"50%\" side=\"left\" fill=\"currentColor\" text-anchor=\"middle\">det</textPath>\n",
              "    </text>\n",
              "    <path class=\"displacy-arrowhead\" d=\"M62,184.0 L58,176.0 66,176.0\" fill=\"currentColor\"/>\n",
              "</g>\n",
              "\n",
              "<g class=\"displacy-arrow\">\n",
              "    <path class=\"displacy-arc\" id=\"arrow-54787e9089c54e679a9a319b73064aeb-0-1\" stroke-width=\"2px\" d=\"M182,182.0 182,162.0 284.0,162.0 284.0,182.0\" fill=\"none\" stroke=\"currentColor\"/>\n",
              "    <text dy=\"1.25em\" style=\"font-size: 0.8em; letter-spacing: 1px\">\n",
              "        <textPath xlink:href=\"#arrow-54787e9089c54e679a9a319b73064aeb-0-1\" class=\"displacy-label\" startOffset=\"50%\" side=\"left\" fill=\"currentColor\" text-anchor=\"middle\">nummod</textPath>\n",
              "    </text>\n",
              "    <path class=\"displacy-arrowhead\" d=\"M182,184.0 L178,176.0 186,176.0\" fill=\"currentColor\"/>\n",
              "</g>\n",
              "\n",
              "<g class=\"displacy-arrow\">\n",
              "    <path class=\"displacy-arc\" id=\"arrow-54787e9089c54e679a9a319b73064aeb-0-2\" stroke-width=\"2px\" d=\"M302,182.0 302,162.0 404.0,162.0 404.0,182.0\" fill=\"none\" stroke=\"currentColor\"/>\n",
              "    <text dy=\"1.25em\" style=\"font-size: 0.8em; letter-spacing: 1px\">\n",
              "        <textPath xlink:href=\"#arrow-54787e9089c54e679a9a319b73064aeb-0-2\" class=\"displacy-label\" startOffset=\"50%\" side=\"left\" fill=\"currentColor\" text-anchor=\"middle\">npadvmod</textPath>\n",
              "    </text>\n",
              "    <path class=\"displacy-arrowhead\" d=\"M302,184.0 L298,176.0 306,176.0\" fill=\"currentColor\"/>\n",
              "</g>\n",
              "\n",
              "<g class=\"displacy-arrow\">\n",
              "    <path class=\"displacy-arc\" id=\"arrow-54787e9089c54e679a9a319b73064aeb-0-3\" stroke-width=\"2px\" d=\"M422,182.0 422,162.0 524.0,162.0 524.0,182.0\" fill=\"none\" stroke=\"currentColor\"/>\n",
              "    <text dy=\"1.25em\" style=\"font-size: 0.8em; letter-spacing: 1px\">\n",
              "        <textPath xlink:href=\"#arrow-54787e9089c54e679a9a319b73064aeb-0-3\" class=\"displacy-label\" startOffset=\"50%\" side=\"left\" fill=\"currentColor\" text-anchor=\"middle\">amod</textPath>\n",
              "    </text>\n",
              "    <path class=\"displacy-arrowhead\" d=\"M422,184.0 L418,176.0 426,176.0\" fill=\"currentColor\"/>\n",
              "</g>\n",
              "\n",
              "<g class=\"displacy-arrow\">\n",
              "    <path class=\"displacy-arc\" id=\"arrow-54787e9089c54e679a9a319b73064aeb-0-4\" stroke-width=\"2px\" d=\"M542,182.0 542,122.0 1130.0,122.0 1130.0,182.0\" fill=\"none\" stroke=\"currentColor\"/>\n",
              "    <text dy=\"1.25em\" style=\"font-size: 0.8em; letter-spacing: 1px\">\n",
              "        <textPath xlink:href=\"#arrow-54787e9089c54e679a9a319b73064aeb-0-4\" class=\"displacy-label\" startOffset=\"50%\" side=\"left\" fill=\"currentColor\" text-anchor=\"middle\">nsubj</textPath>\n",
              "    </text>\n",
              "    <path class=\"displacy-arrowhead\" d=\"M542,184.0 L538,176.0 546,176.0\" fill=\"currentColor\"/>\n",
              "</g>\n",
              "\n",
              "<g class=\"displacy-arrow\">\n",
              "    <path class=\"displacy-arc\" id=\"arrow-54787e9089c54e679a9a319b73064aeb-0-5\" stroke-width=\"2px\" d=\"M542,182.0 542,162.0 644.0,162.0 644.0,182.0\" fill=\"none\" stroke=\"currentColor\"/>\n",
              "    <text dy=\"1.25em\" style=\"font-size: 0.8em; letter-spacing: 1px\">\n",
              "        <textPath xlink:href=\"#arrow-54787e9089c54e679a9a319b73064aeb-0-5\" class=\"displacy-label\" startOffset=\"50%\" side=\"left\" fill=\"currentColor\" text-anchor=\"middle\">prep</textPath>\n",
              "    </text>\n",
              "    <path class=\"displacy-arrowhead\" d=\"M644.0,184.0 L648.0,176.0 640.0,176.0\" fill=\"currentColor\"/>\n",
              "</g>\n",
              "\n",
              "<g class=\"displacy-arrow\">\n",
              "    <path class=\"displacy-arc\" id=\"arrow-54787e9089c54e679a9a319b73064aeb-0-6\" stroke-width=\"2px\" d=\"M662,182.0 662,162.0 764.0,162.0 764.0,182.0\" fill=\"none\" stroke=\"currentColor\"/>\n",
              "    <text dy=\"1.25em\" style=\"font-size: 0.8em; letter-spacing: 1px\">\n",
              "        <textPath xlink:href=\"#arrow-54787e9089c54e679a9a319b73064aeb-0-6\" class=\"displacy-label\" startOffset=\"50%\" side=\"left\" fill=\"currentColor\" text-anchor=\"middle\">pobj</textPath>\n",
              "    </text>\n",
              "    <path class=\"displacy-arrowhead\" d=\"M764.0,184.0 L768.0,176.0 760.0,176.0\" fill=\"currentColor\"/>\n",
              "</g>\n",
              "\n",
              "<g class=\"displacy-arrow\">\n",
              "    <path class=\"displacy-arc\" id=\"arrow-54787e9089c54e679a9a319b73064aeb-0-7\" stroke-width=\"2px\" d=\"M782,182.0 782,162.0 884.0,162.0 884.0,182.0\" fill=\"none\" stroke=\"currentColor\"/>\n",
              "    <text dy=\"1.25em\" style=\"font-size: 0.8em; letter-spacing: 1px\">\n",
              "        <textPath xlink:href=\"#arrow-54787e9089c54e679a9a319b73064aeb-0-7\" class=\"displacy-label\" startOffset=\"50%\" side=\"left\" fill=\"currentColor\" text-anchor=\"middle\">cc</textPath>\n",
              "    </text>\n",
              "    <path class=\"displacy-arrowhead\" d=\"M884.0,184.0 L888.0,176.0 880.0,176.0\" fill=\"currentColor\"/>\n",
              "</g>\n",
              "\n",
              "<g class=\"displacy-arrow\">\n",
              "    <path class=\"displacy-arc\" id=\"arrow-54787e9089c54e679a9a319b73064aeb-0-8\" stroke-width=\"2px\" d=\"M782,182.0 782,142.0 1007.0,142.0 1007.0,182.0\" fill=\"none\" stroke=\"currentColor\"/>\n",
              "    <text dy=\"1.25em\" style=\"font-size: 0.8em; letter-spacing: 1px\">\n",
              "        <textPath xlink:href=\"#arrow-54787e9089c54e679a9a319b73064aeb-0-8\" class=\"displacy-label\" startOffset=\"50%\" side=\"left\" fill=\"currentColor\" text-anchor=\"middle\">conj</textPath>\n",
              "    </text>\n",
              "    <path class=\"displacy-arrowhead\" d=\"M1007.0,184.0 L1011.0,176.0 1003.0,176.0\" fill=\"currentColor\"/>\n",
              "</g>\n",
              "\n",
              "<g class=\"displacy-arrow\">\n",
              "    <path class=\"displacy-arc\" id=\"arrow-54787e9089c54e679a9a319b73064aeb-0-9\" stroke-width=\"2px\" d=\"M1142,182.0 1142,162.0 1244.0,162.0 1244.0,182.0\" fill=\"none\" stroke=\"currentColor\"/>\n",
              "    <text dy=\"1.25em\" style=\"font-size: 0.8em; letter-spacing: 1px\">\n",
              "        <textPath xlink:href=\"#arrow-54787e9089c54e679a9a319b73064aeb-0-9\" class=\"displacy-label\" startOffset=\"50%\" side=\"left\" fill=\"currentColor\" text-anchor=\"middle\">prep</textPath>\n",
              "    </text>\n",
              "    <path class=\"displacy-arrowhead\" d=\"M1244.0,184.0 L1248.0,176.0 1240.0,176.0\" fill=\"currentColor\"/>\n",
              "</g>\n",
              "\n",
              "<g class=\"displacy-arrow\">\n",
              "    <path class=\"displacy-arc\" id=\"arrow-54787e9089c54e679a9a319b73064aeb-0-10\" stroke-width=\"2px\" d=\"M1262,182.0 1262,162.0 1364.0,162.0 1364.0,182.0\" fill=\"none\" stroke=\"currentColor\"/>\n",
              "    <text dy=\"1.25em\" style=\"font-size: 0.8em; letter-spacing: 1px\">\n",
              "        <textPath xlink:href=\"#arrow-54787e9089c54e679a9a319b73064aeb-0-10\" class=\"displacy-label\" startOffset=\"50%\" side=\"left\" fill=\"currentColor\" text-anchor=\"middle\">pobj</textPath>\n",
              "    </text>\n",
              "    <path class=\"displacy-arrowhead\" d=\"M1364.0,184.0 L1368.0,176.0 1360.0,176.0\" fill=\"currentColor\"/>\n",
              "</g>\n",
              "\n",
              "<g class=\"displacy-arrow\">\n",
              "    <path class=\"displacy-arc\" id=\"arrow-54787e9089c54e679a9a319b73064aeb-0-11\" stroke-width=\"2px\" d=\"M1142,182.0 1142,142.0 1487.0,142.0 1487.0,182.0\" fill=\"none\" stroke=\"currentColor\"/>\n",
              "    <text dy=\"1.25em\" style=\"font-size: 0.8em; letter-spacing: 1px\">\n",
              "        <textPath xlink:href=\"#arrow-54787e9089c54e679a9a319b73064aeb-0-11\" class=\"displacy-label\" startOffset=\"50%\" side=\"left\" fill=\"currentColor\" text-anchor=\"middle\">prep</textPath>\n",
              "    </text>\n",
              "    <path class=\"displacy-arrowhead\" d=\"M1487.0,184.0 L1491.0,176.0 1483.0,176.0\" fill=\"currentColor\"/>\n",
              "</g>\n",
              "\n",
              "<g class=\"displacy-arrow\">\n",
              "    <path class=\"displacy-arc\" id=\"arrow-54787e9089c54e679a9a319b73064aeb-0-12\" stroke-width=\"2px\" d=\"M1622,182.0 1622,142.0 1967.0,142.0 1967.0,182.0\" fill=\"none\" stroke=\"currentColor\"/>\n",
              "    <text dy=\"1.25em\" style=\"font-size: 0.8em; letter-spacing: 1px\">\n",
              "        <textPath xlink:href=\"#arrow-54787e9089c54e679a9a319b73064aeb-0-12\" class=\"displacy-label\" startOffset=\"50%\" side=\"left\" fill=\"currentColor\" text-anchor=\"middle\">det</textPath>\n",
              "    </text>\n",
              "    <path class=\"displacy-arrowhead\" d=\"M1622,184.0 L1618,176.0 1626,176.0\" fill=\"currentColor\"/>\n",
              "</g>\n",
              "\n",
              "<g class=\"displacy-arrow\">\n",
              "    <path class=\"displacy-arc\" id=\"arrow-54787e9089c54e679a9a319b73064aeb-0-13\" stroke-width=\"2px\" d=\"M1742,182.0 1742,162.0 1844.0,162.0 1844.0,182.0\" fill=\"none\" stroke=\"currentColor\"/>\n",
              "    <text dy=\"1.25em\" style=\"font-size: 0.8em; letter-spacing: 1px\">\n",
              "        <textPath xlink:href=\"#arrow-54787e9089c54e679a9a319b73064aeb-0-13\" class=\"displacy-label\" startOffset=\"50%\" side=\"left\" fill=\"currentColor\" text-anchor=\"middle\">nummod</textPath>\n",
              "    </text>\n",
              "    <path class=\"displacy-arrowhead\" d=\"M1742,184.0 L1738,176.0 1746,176.0\" fill=\"currentColor\"/>\n",
              "</g>\n",
              "\n",
              "<g class=\"displacy-arrow\">\n",
              "    <path class=\"displacy-arc\" id=\"arrow-54787e9089c54e679a9a319b73064aeb-0-14\" stroke-width=\"2px\" d=\"M1862,182.0 1862,162.0 1964.0,162.0 1964.0,182.0\" fill=\"none\" stroke=\"currentColor\"/>\n",
              "    <text dy=\"1.25em\" style=\"font-size: 0.8em; letter-spacing: 1px\">\n",
              "        <textPath xlink:href=\"#arrow-54787e9089c54e679a9a319b73064aeb-0-14\" class=\"displacy-label\" startOffset=\"50%\" side=\"left\" fill=\"currentColor\" text-anchor=\"middle\">compound</textPath>\n",
              "    </text>\n",
              "    <path class=\"displacy-arrowhead\" d=\"M1862,184.0 L1858,176.0 1866,176.0\" fill=\"currentColor\"/>\n",
              "</g>\n",
              "\n",
              "<g class=\"displacy-arrow\">\n",
              "    <path class=\"displacy-arc\" id=\"arrow-54787e9089c54e679a9a319b73064aeb-0-15\" stroke-width=\"2px\" d=\"M1502,182.0 1502,122.0 1970.0,122.0 1970.0,182.0\" fill=\"none\" stroke=\"currentColor\"/>\n",
              "    <text dy=\"1.25em\" style=\"font-size: 0.8em; letter-spacing: 1px\">\n",
              "        <textPath xlink:href=\"#arrow-54787e9089c54e679a9a319b73064aeb-0-15\" class=\"displacy-label\" startOffset=\"50%\" side=\"left\" fill=\"currentColor\" text-anchor=\"middle\">pobj</textPath>\n",
              "    </text>\n",
              "    <path class=\"displacy-arrowhead\" d=\"M1970.0,184.0 L1974.0,176.0 1966.0,176.0\" fill=\"currentColor\"/>\n",
              "</g>\n",
              "\n",
              "<g class=\"displacy-arrow\">\n",
              "    <path class=\"displacy-arc\" id=\"arrow-54787e9089c54e679a9a319b73064aeb-0-16\" stroke-width=\"2px\" d=\"M1982,182.0 1982,162.0 2084.0,162.0 2084.0,182.0\" fill=\"none\" stroke=\"currentColor\"/>\n",
              "    <text dy=\"1.25em\" style=\"font-size: 0.8em; letter-spacing: 1px\">\n",
              "        <textPath xlink:href=\"#arrow-54787e9089c54e679a9a319b73064aeb-0-16\" class=\"displacy-label\" startOffset=\"50%\" side=\"left\" fill=\"currentColor\" text-anchor=\"middle\">prep</textPath>\n",
              "    </text>\n",
              "    <path class=\"displacy-arrowhead\" d=\"M2084.0,184.0 L2088.0,176.0 2080.0,176.0\" fill=\"currentColor\"/>\n",
              "</g>\n",
              "\n",
              "<g class=\"displacy-arrow\">\n",
              "    <path class=\"displacy-arc\" id=\"arrow-54787e9089c54e679a9a319b73064aeb-0-17\" stroke-width=\"2px\" d=\"M2102,182.0 2102,162.0 2204.0,162.0 2204.0,182.0\" fill=\"none\" stroke=\"currentColor\"/>\n",
              "    <text dy=\"1.25em\" style=\"font-size: 0.8em; letter-spacing: 1px\">\n",
              "        <textPath xlink:href=\"#arrow-54787e9089c54e679a9a319b73064aeb-0-17\" class=\"displacy-label\" startOffset=\"50%\" side=\"left\" fill=\"currentColor\" text-anchor=\"middle\">pobj</textPath>\n",
              "    </text>\n",
              "    <path class=\"displacy-arrowhead\" d=\"M2204.0,184.0 L2208.0,176.0 2200.0,176.0\" fill=\"currentColor\"/>\n",
              "</g>\n",
              "</svg></span>"
            ]
          },
          "metadata": {}
        }
      ]
    },
    {
      "cell_type": "markdown",
      "source": [
        "## Exercise 1: Analyze an abstract of medical article and process your text using basic NLP tools\n",
        "- (20 minutes)"
      ],
      "metadata": {
        "id": "bDOs1tYgti9V"
      }
    },
    {
      "cell_type": "code",
      "source": [
        "#Write your code here"
      ],
      "metadata": {
        "id": "jYDcJMEWurel"
      },
      "execution_count": null,
      "outputs": []
    },
    {
      "cell_type": "markdown",
      "source": [
        "#Part 2: Name Entity Recognition (NER)\n",
        "- English language"
      ],
      "metadata": {
        "id": "g0LwnO9NCk-t"
      }
    },
    {
      "cell_type": "code",
      "source": [
        "import spacy\n",
        "from spacy import displacy\n",
        "# load language model\n",
        "nlp_en = spacy.load(\"en_core_web_lg\")\n",
        "\n",
        "## longer paragraphs\n",
        "#Sample paragraph of text\n",
        "text_long = '''Nelson Rolihlahla Mandela was a South African anti-apartheid activist and politician who served as the first president of South Africa from 1994 to 1999.\n",
        "He was the country's first black head of state and the first elected in a fully representative democratic election.'''\n",
        "## parse the texts\n",
        "doc2 = nlp_en(text_long)\n",
        "## get the sentences of the doc2\n",
        "sentence_spans = list(doc2.sents)\n",
        "\n",
        "colors = {\"ORG\": \"linear-gradient(#90deg, #aa9cfc, #fc9ce7)\"}\n",
        "options = {\"ents\": [\"ORG\"], \"colors\": colors}\n",
        "displacy.render(sentence_spans, jupyter=True, style=\"ent\")\n"
      ],
      "metadata": {
        "id": "4hZvJQg68Vly",
        "colab": {
          "base_uri": "https://localhost:8080/",
          "height": 87
        },
        "outputId": "1ce93ad4-b37f-412d-933d-bf5758477826"
      },
      "execution_count": null,
      "outputs": [
        {
          "output_type": "display_data",
          "data": {
            "text/plain": [
              "<IPython.core.display.HTML object>"
            ],
            "text/html": [
              "<span class=\"tex2jax_ignore\"><div class=\"entities\" style=\"line-height: 2.5; direction: ltr\">\n",
              "<mark class=\"entity\" style=\"background: #aa9cfc; padding: 0.45em 0.6em; margin: 0 0.25em; line-height: 1; border-radius: 0.35em;\">\n",
              "    Nelson Rolihlahla Mandela\n",
              "    <span style=\"font-size: 0.8em; font-weight: bold; line-height: 1; border-radius: 0.35em; vertical-align: middle; margin-left: 0.5rem\">PERSON</span>\n",
              "</mark>\n",
              " was a \n",
              "<mark class=\"entity\" style=\"background: #c887fb; padding: 0.45em 0.6em; margin: 0 0.25em; line-height: 1; border-radius: 0.35em;\">\n",
              "    South African\n",
              "    <span style=\"font-size: 0.8em; font-weight: bold; line-height: 1; border-radius: 0.35em; vertical-align: middle; margin-left: 0.5rem\">NORP</span>\n",
              "</mark>\n",
              " anti-apartheid activist and politician who served as the \n",
              "<mark class=\"entity\" style=\"background: #e4e7d2; padding: 0.45em 0.6em; margin: 0 0.25em; line-height: 1; border-radius: 0.35em;\">\n",
              "    first\n",
              "    <span style=\"font-size: 0.8em; font-weight: bold; line-height: 1; border-radius: 0.35em; vertical-align: middle; margin-left: 0.5rem\">ORDINAL</span>\n",
              "</mark>\n",
              " president of \n",
              "<mark class=\"entity\" style=\"background: #feca74; padding: 0.45em 0.6em; margin: 0 0.25em; line-height: 1; border-radius: 0.35em;\">\n",
              "    South Africa\n",
              "    <span style=\"font-size: 0.8em; font-weight: bold; line-height: 1; border-radius: 0.35em; vertical-align: middle; margin-left: 0.5rem\">GPE</span>\n",
              "</mark>\n",
              " from \n",
              "<mark class=\"entity\" style=\"background: #bfe1d9; padding: 0.45em 0.6em; margin: 0 0.25em; line-height: 1; border-radius: 0.35em;\">\n",
              "    1994 to 1999\n",
              "    <span style=\"font-size: 0.8em; font-weight: bold; line-height: 1; border-radius: 0.35em; vertical-align: middle; margin-left: 0.5rem\">DATE</span>\n",
              "</mark>\n",
              ".</br></div>\n",
              "\n",
              "<div class=\"entities\" style=\"line-height: 2.5; direction: ltr\">He was the country's \n",
              "<mark class=\"entity\" style=\"background: #e4e7d2; padding: 0.45em 0.6em; margin: 0 0.25em; line-height: 1; border-radius: 0.35em;\">\n",
              "    first\n",
              "    <span style=\"font-size: 0.8em; font-weight: bold; line-height: 1; border-radius: 0.35em; vertical-align: middle; margin-left: 0.5rem\">ORDINAL</span>\n",
              "</mark>\n",
              " black head of state and the \n",
              "<mark class=\"entity\" style=\"background: #e4e7d2; padding: 0.45em 0.6em; margin: 0 0.25em; line-height: 1; border-radius: 0.35em;\">\n",
              "    first\n",
              "    <span style=\"font-size: 0.8em; font-weight: bold; line-height: 1; border-radius: 0.35em; vertical-align: middle; margin-left: 0.5rem\">ORDINAL</span>\n",
              "</mark>\n",
              " elected in a fully representative democratic election.</div></span>"
            ]
          },
          "metadata": {}
        }
      ]
    },
    {
      "cell_type": "markdown",
      "source": [
        "#Part 2 A: Transfer learning for NLP in the medical domain\n",
        "RoBERTa a transformer-based model for medical text corpus\n",
        "RoBERTa (short for “Robustly Optimized BERT Approach”) is a variant of the BERT (Bidirectional Encoder Representations from Transformers) model, which was developed by researchers at Facebook AI. Like BERT, RoBERTa is a transformer-based language model that uses self-attention to process input sequences and generate contextualized representations of words in a sentence."
      ],
      "metadata": {
        "id": "J6sfRzoxLVYw"
      }
    },
    {
      "cell_type": "code",
      "source": [
        "!pip install spacy>=3.5.0\n",
        "!pip install https://huggingface.co/kormilitzin/en_core_med7_lg/resolve/main/en_core_med7_lg-any-py3-none-any.whl"
      ],
      "metadata": {
        "id": "hD2qwuVvF3Ul",
        "colab": {
          "base_uri": "https://localhost:8080/"
        },
        "outputId": "4c2f1168-1927-424b-d450-7fca0cd2554c"
      },
      "execution_count": null,
      "outputs": [
        {
          "output_type": "stream",
          "name": "stdout",
          "text": [
            "Looking in indexes: https://pypi.org/simple, https://us-python.pkg.dev/colab-wheels/public/simple/\n",
            "Collecting en-core-med7-lg==any\n",
            "  Downloading https://huggingface.co/kormilitzin/en_core_med7_lg/resolve/main/en_core_med7_lg-any-py3-none-any.whl (607.4 MB)\n",
            "\u001b[2K     \u001b[90m━━━━━━━━━━━━━━━━━━━━━━━━━━━━━━━━━━━━━━━\u001b[0m \u001b[32m607.4/607.4 MB\u001b[0m \u001b[31m1.1 MB/s\u001b[0m eta \u001b[36m0:00:00\u001b[0m\n",
            "\u001b[?25hRequirement already satisfied: spacy<3.5.0,>=3.4.2 in /usr/local/lib/python3.10/dist-packages (from en-core-med7-lg==any) (3.4.4)\n",
            "Requirement already satisfied: spacy-legacy<3.1.0,>=3.0.10 in /usr/local/lib/python3.10/dist-packages (from spacy<3.5.0,>=3.4.2->en-core-med7-lg==any) (3.0.12)\n",
            "Requirement already satisfied: spacy-loggers<2.0.0,>=1.0.0 in /usr/local/lib/python3.10/dist-packages (from spacy<3.5.0,>=3.4.2->en-core-med7-lg==any) (1.0.4)\n",
            "Requirement already satisfied: murmurhash<1.1.0,>=0.28.0 in /usr/local/lib/python3.10/dist-packages (from spacy<3.5.0,>=3.4.2->en-core-med7-lg==any) (1.0.9)\n",
            "Requirement already satisfied: cymem<2.1.0,>=2.0.2 in /usr/local/lib/python3.10/dist-packages (from spacy<3.5.0,>=3.4.2->en-core-med7-lg==any) (2.0.7)\n",
            "Requirement already satisfied: preshed<3.1.0,>=3.0.2 in /usr/local/lib/python3.10/dist-packages (from spacy<3.5.0,>=3.4.2->en-core-med7-lg==any) (3.0.8)\n",
            "Requirement already satisfied: thinc<8.2.0,>=8.1.0 in /usr/local/lib/python3.10/dist-packages (from spacy<3.5.0,>=3.4.2->en-core-med7-lg==any) (8.1.10)\n",
            "Requirement already satisfied: wasabi<1.1.0,>=0.9.1 in /usr/local/lib/python3.10/dist-packages (from spacy<3.5.0,>=3.4.2->en-core-med7-lg==any) (0.10.1)\n",
            "Requirement already satisfied: srsly<3.0.0,>=2.4.3 in /usr/local/lib/python3.10/dist-packages (from spacy<3.5.0,>=3.4.2->en-core-med7-lg==any) (2.4.6)\n",
            "Requirement already satisfied: catalogue<2.1.0,>=2.0.6 in /usr/local/lib/python3.10/dist-packages (from spacy<3.5.0,>=3.4.2->en-core-med7-lg==any) (2.0.8)\n",
            "Requirement already satisfied: typer<0.8.0,>=0.3.0 in /usr/local/lib/python3.10/dist-packages (from spacy<3.5.0,>=3.4.2->en-core-med7-lg==any) (0.3.2)\n",
            "Requirement already satisfied: pathy>=0.3.5 in /usr/local/lib/python3.10/dist-packages (from spacy<3.5.0,>=3.4.2->en-core-med7-lg==any) (0.10.1)\n",
            "Requirement already satisfied: smart-open<7.0.0,>=5.2.1 in /usr/local/lib/python3.10/dist-packages (from spacy<3.5.0,>=3.4.2->en-core-med7-lg==any) (6.3.0)\n",
            "Requirement already satisfied: tqdm<5.0.0,>=4.38.0 in /usr/local/lib/python3.10/dist-packages (from spacy<3.5.0,>=3.4.2->en-core-med7-lg==any) (4.65.0)\n",
            "Requirement already satisfied: numpy>=1.15.0 in /usr/local/lib/python3.10/dist-packages (from spacy<3.5.0,>=3.4.2->en-core-med7-lg==any) (1.22.4)\n",
            "Requirement already satisfied: requests<3.0.0,>=2.13.0 in /usr/local/lib/python3.10/dist-packages (from spacy<3.5.0,>=3.4.2->en-core-med7-lg==any) (2.27.1)\n",
            "Requirement already satisfied: pydantic!=1.8,!=1.8.1,<1.11.0,>=1.7.4 in /usr/local/lib/python3.10/dist-packages (from spacy<3.5.0,>=3.4.2->en-core-med7-lg==any) (1.7.4)\n",
            "Requirement already satisfied: jinja2 in /usr/local/lib/python3.10/dist-packages (from spacy<3.5.0,>=3.4.2->en-core-med7-lg==any) (3.1.2)\n",
            "Requirement already satisfied: setuptools in /usr/local/lib/python3.10/dist-packages (from spacy<3.5.0,>=3.4.2->en-core-med7-lg==any) (67.7.2)\n",
            "Requirement already satisfied: packaging>=20.0 in /usr/local/lib/python3.10/dist-packages (from spacy<3.5.0,>=3.4.2->en-core-med7-lg==any) (23.1)\n",
            "Requirement already satisfied: langcodes<4.0.0,>=3.2.0 in /usr/local/lib/python3.10/dist-packages (from spacy<3.5.0,>=3.4.2->en-core-med7-lg==any) (3.3.0)\n",
            "Requirement already satisfied: urllib3<1.27,>=1.21.1 in /usr/local/lib/python3.10/dist-packages (from requests<3.0.0,>=2.13.0->spacy<3.5.0,>=3.4.2->en-core-med7-lg==any) (1.26.15)\n",
            "Requirement already satisfied: certifi>=2017.4.17 in /usr/local/lib/python3.10/dist-packages (from requests<3.0.0,>=2.13.0->spacy<3.5.0,>=3.4.2->en-core-med7-lg==any) (2022.12.7)\n",
            "Requirement already satisfied: charset-normalizer~=2.0.0 in /usr/local/lib/python3.10/dist-packages (from requests<3.0.0,>=2.13.0->spacy<3.5.0,>=3.4.2->en-core-med7-lg==any) (2.0.12)\n",
            "Requirement already satisfied: idna<4,>=2.5 in /usr/local/lib/python3.10/dist-packages (from requests<3.0.0,>=2.13.0->spacy<3.5.0,>=3.4.2->en-core-med7-lg==any) (3.4)\n",
            "Requirement already satisfied: blis<0.8.0,>=0.7.8 in /usr/local/lib/python3.10/dist-packages (from thinc<8.2.0,>=8.1.0->spacy<3.5.0,>=3.4.2->en-core-med7-lg==any) (0.7.9)\n",
            "Requirement already satisfied: confection<1.0.0,>=0.0.1 in /usr/local/lib/python3.10/dist-packages (from thinc<8.2.0,>=8.1.0->spacy<3.5.0,>=3.4.2->en-core-med7-lg==any) (0.0.4)\n",
            "Requirement already satisfied: click<7.2.0,>=7.1.1 in /usr/local/lib/python3.10/dist-packages (from typer<0.8.0,>=0.3.0->spacy<3.5.0,>=3.4.2->en-core-med7-lg==any) (7.1.2)\n",
            "Requirement already satisfied: MarkupSafe>=2.0 in /usr/local/lib/python3.10/dist-packages (from jinja2->spacy<3.5.0,>=3.4.2->en-core-med7-lg==any) (2.1.2)\n",
            "Installing collected packages: en-core-med7-lg\n",
            "Successfully installed en-core-med7-lg-3.4.2.1\n"
          ]
        }
      ]
    },
    {
      "cell_type": "code",
      "source": [
        "# Using spacy.load().\n",
        "import spacy\n",
        "nlp = spacy.load(\"en_core_med7_lg\")\n",
        "\n",
        "# Importing as module.\n",
        "import en_core_med7_lg\n",
        "nlp = en_core_med7_lg.load()"
      ],
      "metadata": {
        "id": "OsD8Bv1qG2eu"
      },
      "execution_count": null,
      "outputs": []
    },
    {
      "cell_type": "code",
      "source": [
        "model = en_core_med7_lg.load()\n",
        "medical_record= \"The patient was prescribed 1 unit of Advil for 5 days after meals. The patient was also given 1 unit of Metformin daily.He was seen by the endocrinology service and she was discharged on 40 units of insulin glargine at night , 12 units of insulin lispro with meals , and metformin 1000 mg two times a day.\"\n",
        "doc = model(medical_record)\n"
      ],
      "metadata": {
        "id": "-ygEkYVFQ1Ew"
      },
      "execution_count": null,
      "outputs": []
    },
    {
      "cell_type": "code",
      "source": [
        "## Medical annotated text visualisation\n",
        "colour_dict = {}\n",
        "colours = ['#e6194B', '#3cb488', '#e8d558', '#ffd8b1', '#f58231', '#f032b4', '#42b3f4']\n",
        "for category, colour in zip(model.pipe_labels['ner'], colours):\n",
        "    colour_dict[category] = colour\n",
        "options = {'ents': model.pipe_labels['ner'], 'colors':colour_dict}"
      ],
      "metadata": {
        "id": "3wtANixCXOcS"
      },
      "execution_count": null,
      "outputs": []
    },
    {
      "cell_type": "code",
      "source": [
        "spacy.displacy.render(doc, style='ent', jupyter=True, options=options)"
      ],
      "metadata": {
        "colab": {
          "base_uri": "https://localhost:8080/",
          "height": 122
        },
        "id": "QkYyCcG5RQKd",
        "outputId": "545dfab2-467f-4d12-9786-3d31922971cc"
      },
      "execution_count": null,
      "outputs": [
        {
          "output_type": "display_data",
          "data": {
            "text/plain": [
              "<IPython.core.display.HTML object>"
            ],
            "text/html": [
              "<span class=\"tex2jax_ignore\"><div class=\"entities\" style=\"line-height: 2.5; direction: ltr\">The patient was prescribed \n",
              "<mark class=\"entity\" style=\"background: #e6194B; padding: 0.45em 0.6em; margin: 0 0.25em; line-height: 1; border-radius: 0.35em;\">\n",
              "    1 unit\n",
              "    <span style=\"font-size: 0.8em; font-weight: bold; line-height: 1; border-radius: 0.35em; vertical-align: middle; margin-left: 0.5rem\">DOSAGE</span>\n",
              "</mark>\n",
              " of \n",
              "<mark class=\"entity\" style=\"background: #3cb488; padding: 0.45em 0.6em; margin: 0 0.25em; line-height: 1; border-radius: 0.35em;\">\n",
              "    Advil\n",
              "    <span style=\"font-size: 0.8em; font-weight: bold; line-height: 1; border-radius: 0.35em; vertical-align: middle; margin-left: 0.5rem\">DRUG</span>\n",
              "</mark>\n",
              " \n",
              "<mark class=\"entity\" style=\"background: #e8d558; padding: 0.45em 0.6em; margin: 0 0.25em; line-height: 1; border-radius: 0.35em;\">\n",
              "    for 5 days\n",
              "    <span style=\"font-size: 0.8em; font-weight: bold; line-height: 1; border-radius: 0.35em; vertical-align: middle; margin-left: 0.5rem\">DURATION</span>\n",
              "</mark>\n",
              " after meals. The patient was also given \n",
              "<mark class=\"entity\" style=\"background: #e6194B; padding: 0.45em 0.6em; margin: 0 0.25em; line-height: 1; border-radius: 0.35em;\">\n",
              "    1 unit\n",
              "    <span style=\"font-size: 0.8em; font-weight: bold; line-height: 1; border-radius: 0.35em; vertical-align: middle; margin-left: 0.5rem\">DOSAGE</span>\n",
              "</mark>\n",
              " of \n",
              "<mark class=\"entity\" style=\"background: #3cb488; padding: 0.45em 0.6em; margin: 0 0.25em; line-height: 1; border-radius: 0.35em;\">\n",
              "    Metformin\n",
              "    <span style=\"font-size: 0.8em; font-weight: bold; line-height: 1; border-radius: 0.35em; vertical-align: middle; margin-left: 0.5rem\">DRUG</span>\n",
              "</mark>\n",
              " \n",
              "<mark class=\"entity\" style=\"background: #f58231; padding: 0.45em 0.6em; margin: 0 0.25em; line-height: 1; border-radius: 0.35em;\">\n",
              "    daily\n",
              "    <span style=\"font-size: 0.8em; font-weight: bold; line-height: 1; border-radius: 0.35em; vertical-align: middle; margin-left: 0.5rem\">FREQUENCY</span>\n",
              "</mark>\n",
              ".He was seen by the endocrinology service and she was discharged on \n",
              "<mark class=\"entity\" style=\"background: #e6194B; padding: 0.45em 0.6em; margin: 0 0.25em; line-height: 1; border-radius: 0.35em;\">\n",
              "    40 units\n",
              "    <span style=\"font-size: 0.8em; font-weight: bold; line-height: 1; border-radius: 0.35em; vertical-align: middle; margin-left: 0.5rem\">DOSAGE</span>\n",
              "</mark>\n",
              " of \n",
              "<mark class=\"entity\" style=\"background: #3cb488; padding: 0.45em 0.6em; margin: 0 0.25em; line-height: 1; border-radius: 0.35em;\">\n",
              "    insulin glargine\n",
              "    <span style=\"font-size: 0.8em; font-weight: bold; line-height: 1; border-radius: 0.35em; vertical-align: middle; margin-left: 0.5rem\">DRUG</span>\n",
              "</mark>\n",
              " \n",
              "<mark class=\"entity\" style=\"background: #f58231; padding: 0.45em 0.6em; margin: 0 0.25em; line-height: 1; border-radius: 0.35em;\">\n",
              "    at night\n",
              "    <span style=\"font-size: 0.8em; font-weight: bold; line-height: 1; border-radius: 0.35em; vertical-align: middle; margin-left: 0.5rem\">FREQUENCY</span>\n",
              "</mark>\n",
              " , \n",
              "<mark class=\"entity\" style=\"background: #e6194B; padding: 0.45em 0.6em; margin: 0 0.25em; line-height: 1; border-radius: 0.35em;\">\n",
              "    12 units\n",
              "    <span style=\"font-size: 0.8em; font-weight: bold; line-height: 1; border-radius: 0.35em; vertical-align: middle; margin-left: 0.5rem\">DOSAGE</span>\n",
              "</mark>\n",
              " of \n",
              "<mark class=\"entity\" style=\"background: #3cb488; padding: 0.45em 0.6em; margin: 0 0.25em; line-height: 1; border-radius: 0.35em;\">\n",
              "    insulin lispro\n",
              "    <span style=\"font-size: 0.8em; font-weight: bold; line-height: 1; border-radius: 0.35em; vertical-align: middle; margin-left: 0.5rem\">DRUG</span>\n",
              "</mark>\n",
              " \n",
              "<mark class=\"entity\" style=\"background: #f58231; padding: 0.45em 0.6em; margin: 0 0.25em; line-height: 1; border-radius: 0.35em;\">\n",
              "    with meals\n",
              "    <span style=\"font-size: 0.8em; font-weight: bold; line-height: 1; border-radius: 0.35em; vertical-align: middle; margin-left: 0.5rem\">FREQUENCY</span>\n",
              "</mark>\n",
              " , and \n",
              "<mark class=\"entity\" style=\"background: #3cb488; padding: 0.45em 0.6em; margin: 0 0.25em; line-height: 1; border-radius: 0.35em;\">\n",
              "    metformin\n",
              "    <span style=\"font-size: 0.8em; font-weight: bold; line-height: 1; border-radius: 0.35em; vertical-align: middle; margin-left: 0.5rem\">DRUG</span>\n",
              "</mark>\n",
              " \n",
              "<mark class=\"entity\" style=\"background: #42b3f4; padding: 0.45em 0.6em; margin: 0 0.25em; line-height: 1; border-radius: 0.35em;\">\n",
              "    1000 mg\n",
              "    <span style=\"font-size: 0.8em; font-weight: bold; line-height: 1; border-radius: 0.35em; vertical-align: middle; margin-left: 0.5rem\">STRENGTH</span>\n",
              "</mark>\n",
              " \n",
              "<mark class=\"entity\" style=\"background: #f58231; padding: 0.45em 0.6em; margin: 0 0.25em; line-height: 1; border-radius: 0.35em;\">\n",
              "    two times a day\n",
              "    <span style=\"font-size: 0.8em; font-weight: bold; line-height: 1; border-radius: 0.35em; vertical-align: middle; margin-left: 0.5rem\">FREQUENCY</span>\n",
              "</mark>\n",
              ".</div></span>"
            ]
          },
          "metadata": {}
        }
      ]
    },
    {
      "cell_type": "markdown",
      "source": [
        "# Part 2 B: the information retrieval task\n",
        "- Retrieve articles from PubMED"
      ],
      "metadata": {
        "id": "De9d2cVX-AEk"
      }
    },
    {
      "cell_type": "code",
      "source": [
        "#from elasticsearch import Elasticsearch\n",
        "from metapub import PubMedFetcher\n",
        "#from pubtator_loader import PubTatorCorpusReader\n",
        "import spacy\n",
        "import scispacy"
      ],
      "metadata": {
        "id": "wvspWfgB-cXt",
        "colab": {
          "base_uri": "https://localhost:8080/"
        },
        "outputId": "30bdb384-b330-4169-8b5c-6140786fe045"
      },
      "execution_count": null,
      "outputs": [
        {
          "output_type": "stream",
          "name": "stderr",
          "text": [
            "2023-06-14 08:53:38 6957b24fa6a3 metapub.config[240] WARNING NCBI_API_KEY was not set.\n"
          ]
        }
      ]
    },
    {
      "cell_type": "code",
      "source": [
        "## Fill in your desired disease instead of 'Cancer'\n",
        "fetch = PubMedFetcher()\n",
        "#Change under this line\n",
        "pmids= fetch.pmids_for_query('Cancer', retmax=20)\n",
        "Medical_abstracts = {}\n",
        "for pmid in pmids:\n",
        "    Medical_abstracts[pmid] = fetch.article_by_pmid(pmid).abstract"
      ],
      "metadata": {
        "id": "W9cQ6XZy-fT0"
      },
      "execution_count": null,
      "outputs": []
    },
    {
      "cell_type": "code",
      "source": [
        "PMDE_list=list(Medical_abstracts)\n",
        "len(PMDE_list)"
      ],
      "metadata": {
        "id": "cjkycZDU_AC9",
        "colab": {
          "base_uri": "https://localhost:8080/"
        },
        "outputId": "99692bbc-3713-4f71-b9df-4b79ccbd0919"
      },
      "execution_count": null,
      "outputs": [
        {
          "output_type": "execute_result",
          "data": {
            "text/plain": [
              "20"
            ]
          },
          "metadata": {},
          "execution_count": 23
        }
      ]
    },
    {
      "cell_type": "code",
      "source": [
        "for PMDEid in PMDE_list:\n",
        "  print(Medical_abstracts[PMDEid])\n",
        "  with open(\"Medical_abstracts.txt\", \"a\") as output:\n",
        "    output.write(str(Medical_abstracts[PMDEid]))\n",
        "    output.write('\\n')"
      ],
      "metadata": {
        "id": "o3lF5-lw_Cwq",
        "colab": {
          "base_uri": "https://localhost:8080/"
        },
        "outputId": "d93ed61a-1259-4b26-cb90-dd144b6cd94d"
      },
      "execution_count": null,
      "outputs": [
        {
          "output_type": "stream",
          "name": "stdout",
          "text": [
            "Although photodynamic therapy (PDT) for thorough cancer treatment is hindered by the limited generation of reactive oxygen species (ROS) with short lifetime from photosensitizers, PDT-induced antitumor immune response remedies the defects. Previous studies showed that inducing immunogenic cell deaths is an attractive approach to activate antitumor immunity, which confers a robust adjuvanticity to dying cancer cells. In this work, amphiphilic luminogens with aggregation-induced emission characteristics (AIEgens) are rationally designed and synthesized. By modulating the hydrophobic π-bridge and zwitterionic functional groups, these AIEgens exhibited tunable organelle specificity to lysosome, endoplasmic reticulum and plasma membrane and enhanced ROS generation ability. Notably, the membrane-targeting AIEgen namely TPS-2 induced cell death and membrane rupture via PDT to facilitate the release of antigens and activation of immune cells. Furthermore, the size-controlled TPS-2 nanoaggregates were found to serve as an adjuvant, promoting antigen accumulation and delivery to sufficiently boost the in vivo antitumor immunity by only one dose injection in a prophylactic tumor vaccination model. This work thus provides new insights into optimizing AIE photosensitizers via a hydrophobicity-hydrophilicity balance strategy for evoking an antitumor immunity and directly suppressing the distanced tumor. A single small-molecular system for PDT-stimulated antitumor immunity is envisioned. This article is protected by copyright. All rights reserved.\n",
            "Prostate malignancy represents the second leading cause of cancer-specific death among the male population worldwide. Herein, enhanced intracellular magnetic fluid hyperthermia is applied \n",
            "In clinical and epidemiological research doubly truncated data often appear. This is the case, for instance, when the data registry is formed by interval sampling. Double truncation generally induces a sampling bias on the target variable, so proper corrections of ordinary estimation and inference procedures must be used. Unfortunately, the nonparametric maximum likelihood estimator of a doubly truncated distribution has several drawbacks, like potential nonexistence and nonuniqueness issues, or large estimation variance. Interestingly, no correction for double truncation is needed when the sampling bias is ignorable, which may occur with interval sampling and other sampling designs. In such a case the ordinary empirical distribution function is a consistent and fully efficient estimator that generally brings remarkable variance improvements compared to the nonparametric maximum likelihood estimator. Thus, identification of such situations is critical for the simple and efficient estimation of the target distribution. In this article, we introduce for the first time formal testing procedures for the null hypothesis of ignorable sampling bias with doubly truncated data. The asymptotic properties of the proposed test statistic are investigated. A bootstrap algorithm to approximate the null distribution of the test in practice is introduced. The finite sample performance of the method is studied in simulated scenarios. Finally, applications to data on onset for childhood cancer and Parkinson's disease are given. Variance improvements in estimation are discussed and illustrated.\n",
            "ConspectusChemical manipulation of naturally occurring peptides offers a convenient route for generating analogs to screen against different therapeutic targets. However, the limited success of the conventional chemical libraries has urged chemical biologists to adopt alternative methods such as phage and mRNA displays and create libraries of a large number of variants for the screening and selection of novel peptides. Messenger RNA (mRNA) display provides great advantages in terms of the library size and the straightforward recovery of the selected polypeptide sequences. Importantly, the integration of the flexible \n",
            "BACKGROUND: High-throughput sequencing (HTS) offers unprecedented opportunities for the discovery of causative gene variants in multiple human disorders including cancers, and has revolutionized clinical diagnostics. However, despite more than a decade of use of HTS-based assays, extracting relevant functional information from whole-exome sequencing (WES) data remains challenging, especially for non-specialists lacking in-depth bioinformatic skills.\n",
            "RESULTS: To address this limitation, we developed Var∣Decrypt, a web-based tool designed to greatly facilitate WES data browsing and analysis. Var∣Decrypt offers a wide range of gene and variant filtering possibilities, clustering and enrichment tools, providing an efficient way to derive patient-specific functional information and to prioritize gene variants for functional analyses. We applied Var∣Decrypt on WES datasets of 10 acute erythroid leukemia patients, a rare and aggressive form of leukemia, and recovered known disease oncogenes in addition to novel putative drivers. We additionally validated the performance of Var∣Decrypt using an independent dataset of ~ 90 multiple myeloma WES, recapitulating the identified deregulated genes and pathways, showing the general applicability and versatility of Var∣Decrypt for WES analysis.\n",
            "CONCLUSION: Despite years of use of WES in human health for diagnosis and discovery of disease drivers, WES data analysis still remains a complex task requiring advanced bioinformatic skills. In that context, there is a need for user-friendly all-in-one dedicated tools for data analysis, to allow biologists and clinicians to extract relevant biological information from patient datasets. Here, we provide Var∣Decrypt (trial version accessible here: https://vardecrypt.com/app/vardecrypt ), a simple and intuitive Rshiny application created to fill this gap. Source code and detailed user tutorial are available at https://gitlab.com/mohammadsalma/vardecrypt .\n",
            "BACKGROUND: Isolated pulmonary oligometastases as the first site of dissemination after initial resection of pancreatic ductal adenocarcinoma (PC) is a rare event, and the treatment in this subgroup is challenging. Recurrence in the lung after initial primary tumour resection is associated with the most long-term survivors of patients with metastatic PC. Stereotactic ablative body radiation therapy (SABR) or metastectomy for pulmonary oligometastases from PC is becoming more common. However, patients with close or positive margins after metastectomy for isolated pulmonary metastatic PC are at high risk for recurrence. This requires a treatment capable of achieving high rates of local control and improved quality of life by delaying the need for systemic chemotherapy. In other settings, SABR has been shown to achieve these goals, allowing safe dose escalation with excellent conformity and short duration of treatment.\n",
            "CASE PRESENTATION: We report the case of a 48-year old Caucasian man with a history of locally advanced PC initially treated with neoadjuvant chemotherapy followed by Whipple's resection in August 2016. After a disease-free interval of 3 years, he developed three isolated pulmonary metastases which were treated with local resection. In the setting of microscopically positive resection margins (R1), adjuvant lung SABR was delivered to all three sites. His treated lung disease remained radiologically stable for up to twenty months after SABR. Treatment was well tolerated. In January 2021, he developed a malignant pre-tracheal node which was treated with conventionally fractionated radiotherapy and remained controlled for the duration of follow-up. A year later, he developed widespread metastatic disease including pleura, bone and adrenal gland, together with presumed progression in one of the original lung lesions, receiving palliative radiotherapy for right chest wall pain. He was later found to have an intracranial metastasis and died in February 2022, 5½ years after initial treatment.\n",
            "CONCLUSION: We present the case of a patient treated with SABR after R1 resection of 3 isolated pulmonary metastases from PC, with no treatment toxicities and durable local control. For well-selected patients in this setting, adjuvant lung SABR may be a safe and effective treatment option.\n",
            "Mesenchymal tumors of the central nervous system (CNS) include numerous entities, with different pathological features and biological behavior. Mesenchymal non-meningothelial tumors are rare and comprise neoplasms that are exclusive to the CNS or show peculiar features when occurring in the CNS compared with other sites. Within this group there are three new entities, classified on the basis of specific molecular alterations and included in the 5th edition of the WHO Classification of CNS Tumors: primary intracranial sarcoma; DICER1-mutant; CIC-rearranged sarcoma; intracranial mesenchymal tumor, FET::CREB fusion-positive. These tumors often show variable morphology, making diagnosis very challenging, although the implementation of molecular techniques has led to better characterization and more precise identification of these entities. However, many molecular alterations have yet to be discovered and some recently reported CNS tumors are currently missing an appropriate classification. Herein, we report the case of a 43-year-old man who presented with an intracranial mesenchymal tumor. Histopathological examination showed a wide spectrum of peculiar morphological features and a non-specific immunohistochemical profile. Whole transcriptome sequencing revealed the presence of a novel genetic rearrangement involving COX14 and PTEN genes, which has never been reported before in any other neoplasm. The tumor did not cluster in any defined methylation class of the brain tumor classifier, but resulted in a calibrated score of 0.89 for the methylation class \"Sarcoma, MPNST-like\", when analyzed by the sarcoma classifier. Our study is the first to report about this tumor with unique pathological and molecular features, characterized by a novel rearrangement between COX14 and PTEN genes. Other studies are necessary in order to define it as a new entity or as a novel rearrangement involving recently described and incompletely characterized CNS mesenchymal tumors.\n",
            "None\n",
            "BRCA1 and BRCA2 mutations contribute to both breast cancer and ovarian cancer worldwide. In Poland approximately 4% of patients with breast cancers and 10% of patients with ovarian cancer carry a mutation in BRCA1. The majority of mutations consist of three founder mutations. A rapid inexpensive test for these three mutations can be used to screen all Polish adults at a reasonable cost. In the region of Pomerania of North-western Poland nearly half a million tests have been performed, in large part through engaging family doctors and providing ready access to testing through the Pomeranian Medical University. The following commentary provides a history of genetic testing for cancer in Pomerania and the current approach to facilitating access to genetic testing at the Cancer Family Clinic for all adults living in the region.\n",
            "BACKGROUND: As cancer therapies increase in their complexity, effective communication among patients, physicians, and research staff is critical for optimal clinical trial management. Currently, we understand little about on-trial communication practices and patient trial experiences over time. This mixed-method study explored patient experiences of participating in a clinical drug trial at different time points, focussing on patient communication with trial staff.\n",
            "METHODS: Patients enrolled in clinical drug trials conducted at the Parkville Cancer Clinical Trials Unit were invited to complete a tailored online survey and/or a qualitative interview. Patients were recruited to three cohorts based on time since the first trial treatment: new (≥ 1 to ≤ 13 weeks), mid- (≥ 14 to ≤ 26 weeks), and long-term (≥ 52 weeks) trial patients. Descriptive statistics were calculated for survey responses. Interview data were analysed thematically with a team-based approach. Survey and interview data were integrated at the intepretation stage.\n",
            "RESULTS: From May to June 2021, 210 patients completed a survey (response rate 64%, 60% male), 20 completed interviews (60% male), and 18 completed both. More long-term trial patients (46%) participated than new (29%) and mid-trial patients (26%). Survey data showed high (> 90%) patient satisfaction with the provision of trial information and communication with trial staff across trial stages, and many reported trial experiences as above and beyond standard care. Interview data indicated that written trial information could be overwhelming, and verbal communication with the staff and physicians was highly valued, especially for enrolment and side effect management among long-term patients. Patients described the key points along the clinical trial trajectory that merit close attention: clear and well-communicated randomisation practices, reliable pathways for side effect reporting and prompt response from the trial staff, and end-of-trial transition management to avoid a sense of abandonment.\n",
            "CONCLUSION: Patients reported high overall satisfaction with trial management but outlined key pinch points requiring improved communication practices. Establishing a range of effective communication practices among trial staff and physicians with patients in cancer clinical trials may have a wide range of positive effects on patient accrual, retention, and satisfaction.\n",
            "BACKGROUND: Lung cancer is known as the most common and highly metastatic form of cancer worldwide. Tumour node metastasis (TNM) staging is the gold standard classification system for the decision-making process for appropriate treatment. Particularly N status has the most important prognostic value in the absence of distant metastasis. Traditional diagnostic methods are capable of detecting metastasis; however, they may fail to detect micrometastasis, which plays a role in disease recurrence and patients' long-term survival. Occult micrometastasis can change the tumour's TNM staging and, consequently, the patient's treatment regimen.\n",
            "METHODS: The median number of three lymph node tissues were collected from 30 patients who underwent surgery for non-small cell lung cancer. Lymph node tissues were collected from different lymph node stations according to the location of the patient's tumour. CK19, EpCAM and CEACAM5 gene expressions were analysed in tissues using quantitative real-time polymerase chain reaction to detect micrometastasis in distant lymph nodes.\n",
            "RESULTS: Triple positivity was seen in 26 out of 30 patients which 19 patients were upstaged from N0 to N2. While survival was not significantly affected between upstaged and non-upstaged patients, patients upstaged with multiple-station N2 had a significantly higher recurrence and lower survival compared to single-station N2.\n",
            "CONCLUSION: A combination of CK19, EpCAM and CEACAM5 gene expressions in lymph nodes can be used to identify micrometastasis which postoperatively may be used as a tool to predict patients' recurrence and survival.\n",
            "The use of cannabidiol (CBD) for therapeutic purposes is receiving considerable attention, with speculation that CBD can be useful in a wide range of conditions. Only one product, a purified form of plant-derived CBD in solution (Epidiolex), is approved for the treatment of seizures in patients with Lennox-Gastaut syndrome, Dravet syndrome, or tuberous sclerosis complex. Appraisal of the therapeutic evidence base for CBD is complicated by the fact that CBD products sometimes have additional phytochemicals (like tetrahydrocannabinol (THC)) present, which can make the identification of the active pharmaceutical ingredient (API) in positive studies difficult. The aim of the present review is to critically review clinical studies using purified CBD products only, in order to establish the upcoming indications for which purified CBD might be beneficial. The areas in which there is the most clinical evidence to support the use of CBD are in the treatment of anxiety (positive data in 7 uncontrolled studies and 17 randomised controlled trials (RCTs)), psychosis and schizophrenia (positive data in 1 uncontrolled study and 8 RCTs), PTSD (positive data in 2 uncontrolled studies and 4 RCTs) and substance abuse (positive data in 2 uncontrolled studies and 3 RCTs). Seven uncontrolled studies support the use of CBD to improve sleep quality, but this has only been verified in one small RCT. Limited evidence supports the use of CBD for the treatment of Parkinson's (3 positive uncontrolled studies and 2 positive RCTs), autism (3 positive RCTs), smoking cessation (2 positive RCTs), graft-versus-host disease and intestinal permeability (1 positive RCT each). Current RCT evidence does not support the use of purified oral CBD in pain (at least as an acute analgesic) or for the treatment of COVID symptoms, cancer, Huntington's or type 2 diabetes. In conclusion, published clinical evidence does support the use of purified CBD in multiple indications beyond epilepsy. However, the evidence base is limited by the number of trials only investigating the acute effects of CBD, testing CBD in healthy volunteers, or in very small patient numbers. Large confirmatory phase 3 trials are required in all indications.\n",
            "Brain metastasis (BM) is an important cause of mortality for cancer patients. Many patients were diagnosed with brain metastases at their first visit who have not received any treatment while a subset of patients did not have distant metastases at the first visit and brain metastases were detected during the course of systemic therapies. The difference in their genomic characterization is unclear. 96 lung adenocarcinoma patients were enrolled in our study. 53 patients (55%) had synchronous metastatic brain tumors. 43 (45%) patients had metachronous brain metastases. We performed 168 panel-targeted gene sequencing cerebrospinal fluid (CSF) and plasma samples from patients to identify genomic features of synchronous brain metastases (SBM) and metachronous brain metastases (MBM). In conclusion, CSF liquid biopsies have a priority in detecting gene alteration. A comprehensive comparison of molecular profiling between SBM and MBM revealed the most frequently altered genes in both groups were EGFR and TP53, but with different exon point mutations. RTK-RAS and TP53 pathways were the most affected pathways.\n",
            "BACKGROUND: Co-production is an umbrella term used to describe the process of generating knowledge through partnerships between researchers and those who will use or benefit from research. Multiple advantages of research co-production have been hypothesized, and in some cases documented, in both the academic and practice record. However, there are significant gaps in understanding how to evaluate the quality of co-production. This gap in rigorous evaluation undermines the potential of both co-production and co-producers.\n",
            "METHODS: This research tests the relevance and utility of a novel evaluation framework: Research Quality Plus for Co-Production (RQ + 4 Co-Pro). Following a co-production approach ourselves, our team collaborated to develop study objectives, questions, analysis, and results sharing strategies. We used a dyadic field-test design to execute RQ + 4 Co-Pro evaluations amongst 18 independently recruited subject matter experts. We used standardized reporting templates and qualitative interviews to collect data from field-test participants, and thematic assessment and deliberative dialogue for analysis. Main limitations include that field-test participation included only health research projects and health researchers and this will limit perspective included in the study, and, that our own co-production team does not include all potential perspectives that may add value to this work.\n",
            "RESULTS: The field test surfaced strong support for the relevance and utility of RQ + 4 Co-Pro as an evaluation approach and framework. Research participants shared opportunities for fine-tuning language and criteria within the prototype version, but also, for alternative uses and users of RQ + 4 Co-Pro. All research participants suggested RQ + 4 Co-Pro offered an opportunity for improving how co-production is evaluated and advanced. This facilitated our revision and publication herein of a field-tested RQ + 4 Co-Pro Framework and Assessment Instrument.\n",
            "CONCLUSION: Evaluation is necessary for understanding and improving co-production, and, for ensuring co-production delivers on its promise of better health.. RQ + 4 Co-Pro provides a practical evaluation approach and framework that we invite co-producers and stewards of co-production-including the funders, publishers, and universities who increasingly encourage socially relevant research-to study, adapt, and apply.\n",
            "PURPOSE: In this study, exercise interventions were evaluated for their effects on cancer-related fatigue (CRF) and quality of life (QoL) among cancer patients.\n",
            "DESIGN: A meta-analysis was performed.\n",
            "METHODS: We systematically searched the PubMed/Medline, Web of Science, Embase, Cochrane Central Register of Controlled Trials (CENTRAL), PsycINFO, and CINAHL databases, and gray literature sources including the Virginia Henderson International Nursing Library and Google Scholar. This study only included randomized controlled trials (RCTs) examining how exercise interventions affect CRF and QoL among cancer patients. Based on the Cochrane Risk-of-Bias Assessment Tool, version 2 (RoB 2) and the Grading of Recommendations Assessment, Development and Evaluation (GRADE) approach, the methodological quality of the included studies was evaluated. In addition, standardized mean differences (SMDs) and 95% confidence intervals (CIs) were applied to assess the intervention effect with respect to CRF and QoL. Data analysis was performed using Review Manager (version 5.4).\n",
            "RESULTS: There were a total of 1573 participants in the 28 included articles. According to the meta-analysis, CRF (SMD = -0.35, 95% CI: -0.63 to -0.07, p = 0.01) and QoL (SMD = 0.36, 95% CI: 0.20 to 0.53, p < 0.01) were positively affected by exercise interventions. Subgroup analyses revealed considerable improvements in CRF (SMD = -0.54, 95% CI: -1.00 to -0.09, p = 0.02) and QoL (SMD = 0.38, 95% CI: 0.16 to 0.59, p < 0.01) from aerobic exercise. An intervention duration less than 12 weeks had a better effect on CRF (SMD = -0.80, 95% CI: -1.43 to -0.17, p = 0.01) and QoL (SMD = 0.53, 95% CI: 0.21 to 0.85, p < 0.01), and three times per week was the most effective frequency in improving QoL (SMD = 0.69, 95% CI: 0.28 to 1.11, p < 0.01). Exercise intervention was more successful in improving CRF (SMD = -0.66, 95% CI: -1.10 to -0.21, p < 0.01) and QoL (SMD=-0.50, 95% CI: 0.23 to 0.78, p < 0.01) in female cancer patients. Sensitivity analyses showed that the pooled outcomes were reliable and stable.\n",
            "CONCLUSION: Exercise interventions are a workable approach to improve CRF and QoL among cancer patients. An aerobic exercise intervention of less than 12 weeks might be most effective in improving CRF and QoL, and three times per week might be the most appropriate frequency. Exercise might have a more positive effect on improving CRF and QoL in female cancer patients. Additionally, a larger number of high-quality RCTs should be conducted to further confirm the efficacy of exercise interventions on CRF and QoL among cancer patients.\n",
            "REGISTRATION NUMBER: CRD42022351137.\n",
            "BACKGROUND: Lung cancer is a malignant tumour, and early diagnosis has been shown to improve the survival rate of lung cancer patients. In this study, we assessed the use of plasma metabolites as biomarkers for lung cancer diagnosis. In this work, we used a novel interdisciplinary mechanism, applied for the first time to lung cancer, to detect biomarkers for early lung cancer diagnosis by combining metabolomics and machine learning approaches.\n",
            "RESULTS: In total, 478 lung cancer patients and 370 subjects with benign lung nodules were enrolled from a hospital in Dalian, Liaoning Province. We selected 47 serum amino acid and carnitine indicators from targeted metabolomics studies using LC‒MS/MS and age and sex demographic indicators of the subjects. After screening by a stepwise regression algorithm, 16 metrics were included. The XGBoost model in the machine learning algorithm showed superior predictive power (AUC = 0.81, accuracy = 75.29%, sensitivity = 74%), with the metabolic biomarkers ornithine and palmitoylcarnitine being potential biomarkers to screen for lung cancer. The machine learning model XGBoost is proposed as an tool for early lung cancer prediction. This study provides strong support for the feasibility of blood-based screening for metabolites and provide a safer, faster and more accurate tool for early diagnosis of lung cancer.\n",
            "CONCLUSIONS: This study proposes an interdisciplinary approach combining metabolomics with a machine learning model (XGBoost) to predict early the occurrence of lung cancer. The metabolic biomarkers ornithine and palmitoylcarnitine showed significant power for early lung cancer diagnosis.\n",
            "BACKGROUND: The COVID-19 pandemic and its containment measures have drastically impacted end-of-life and grief experiences globally, including those related to medical assistance in dying (MAiD). No known qualitative studies to date have examined the MAiD experience during the pandemic. This qualitative study aimed to understand how the pandemic impacted the MAiD experience in hospital of persons requesting MAiD (patients) and their loved ones (caregivers) in Canada.\n",
            "METHODS: Semi-structured interviews were conducted with patients who requested MAiD and their caregivers between April 2020 and May 2021. Participants were recruited during the first year of the pandemic from the University Health Network and Sunnybrook Health Sciences Centre in Toronto, Canada. Patients and caregivers were interviewed about their experience following the MAiD request. Six months following patient death, bereaved caregivers were interviewed to explore their bereavement experience. Interviews were audio-recorded, transcribed verbatim, and de-identified. Transcripts were analyzed using reflexive thematic analysis.\n",
            "RESULTS: Interviews were conducted with 7 patients (mean [SD] age, 73 [12] years; 5 [63%] women) and 23 caregivers (mean [SD] age, 59 [11] years; 14 [61%] women). Fourteen caregivers were interviewed at the time of MAiD request and 13 bereaved caregivers were interviewed post-MAiD. Four themes were generated with respect to the impact of COVID-19 and its containment measures on the MAiD experience in hospital: (1) accelerating the MAiD decision; (2) compromising family understanding and coping; (3) disrupting MAiD delivery; and (4) appreciating rule flexibility.\n",
            "CONCLUSIONS: Findings highlight the tension between respecting pandemic restrictions and prioritizing control over the dying circumstances central to MAiD, and the resulting impact on patient and family suffering. There is a need for healthcare institutions to recognize the relational dimensions of the MAiD experience, particularly in the isolating context of the pandemic. Findings may inform strategies to better support those requesting MAiD and their families during the pandemic and beyond.\n",
            "BACKGROUND: Apolipoprotein F (APOF) has been less studied in cancers. Thus, we aimed to perform a pan-cancer analysis of the oncogenic and immunological effects of APOF on human cancer.\n",
            "METHODS: A standardized TCGA pan-cancer dataset was downloaded. Differential expression, clinical prognosis, genetic mutations, immune infiltration, epigenetic modifications, tumor stemness and heterogeneity were analyzed. We conducted all analyses through software R (version 3.6.3) and its suitable packages.\n",
            "RESULTS: Overall, we found that the common cancers differentially expressed between tumor and normal samples and prognostic-associated were BRCA, PRAD, KIRP, and LIHC in terms of overall survival (OS), disease-free survival (DFS) and progression-free survival (PFS). The pan-cancer Spearman analysis showed that the mRNA expression of APOF was negatively correlated with four tumor stemness indexes (DMPss, DNAss, ENHss, and EREG-METHss) with statistical significance for PRAD and was positively correlated for LIHC. In terms of BRCA and PRAD patients, we found negative correlation of APOF with TMB, MSI, neo, HRD and LOH. The mutation frequencies of BRCA and LIHC were 0.3%. APOF expression was negatively correlated with immune infiltration and positively correlated with tumor purity for PRAD patients. The mRNA expression of APOF was negatively associated with most TILs for LIHC, B cells, CD4+ T cells, neutrophils, macrophages and dendritic cells, but was positively associated with CD8+ T cells.\n",
            "CONCLUSIONS: Our pan-cancer study offered a relatively comprehensive understanding of the roles of APOF on BRCA, PRAD, KIRP, and LIHC.\n",
            "BACKGROUND: For patients with low- and intermediate-risk stage II/III rectal cancer, current studies have reached a consensus that preoperative radiotherapy may be dispensed with, and neoadjuvant chemotherapy (NCT) alone might achieve an accepted local control. Our previous phase II study has evidenced that the morphological response of NCT could be better judged at a relatively early stage. Low- and intermediate-risk stage II/III rectal cancer patients could achieve a high rate of tumor shrinkage and downgrade after only 4 cycles of NCT and obvious tumor morphological changes could be observed after 2 cycles of NCT. However, there is still a lack of more detailed stratification and evidence for pathological criteria. The aim of the present study (comparison of the pathological response to 2 or 4 cycles of neoadjuvant CAPOX in II/III rectal cancer patients with low/intermediate risks, COPEC trial) is to determine the pathological tumor regression grade (pTRG) rate of 2 or 4 cycles of NCT in low- and intermediate-risk stage II/III rectal cancer and verify the feasibility of early identification of chemotherapy-insensitive population.\n",
            "METHODS/DESIGN: This is a multicenter, prospective, non-inferior, randomized controlled trial (RCT) initiated by West China Hospital of Sichuan University and designed to be conducted in fourteen hospitals around China. Eligible patients will be centrally randomized into 2 or 4 cycles of CAPOX in a 1:1 ratio using the central automated randomization system offered by the O-trial online system ( https://plus.o-trial.com/ ) and accept total mesorectal excision after 2 or 4 cycles of CAPOX (oxaliplatin 130 mg/m\n",
            "DISCUSSION: COPEC trial is designed to verify that the preoperative CAPOX chemotherapy for low- and intermediate-risk stage II/III rectal cancer could achieve a good response judgment after 2 cycles and obtain the tumor pathological response rate after 2 cycles of CAPOX. We hope the COPEC trial could help in establishing a consensus standard of low- and intermediate-risk rectal cancer and the early identification of stage II/III rectal patients with low- and intermediate-risk who are poorly responding to NCT.\n",
            "TRIAL REGISTRATION: Clinicaltrial.gov NCT04922853. Registered on June 4, 2021.\n",
            "BACKGROUND: Most patients with estrogen receptor positive (ER+) breast cancer do not respond to immune checkpoint inhibition (ICI); the tumor microenvironment (TME) of these cancers is generally immunosuppressive and contains few tumor-infiltrating lymphocytes. Radiation therapy (RT) can increase tumor inflammation and infiltration by lymphocytes but does not improve responses to ICIs in these patients. This may result, in part, from additional effects of RT that suppress anti-tumor immunity, including increased tumor infiltration by myeloid-derived suppressor cells and regulatory T cells. We hypothesized that anti-estrogens, which are a standard of care for ER+ breast cancer, may ameliorate these detrimental effects of RT by reducing the recruitment/ activation of suppressive immune populations in the radiated TME, increasing anti-tumor immunity and responsiveness to ICIs.\n",
            "METHODS: To interrogate the effect of the selective estrogen receptor downregulator, fulvestrant, on the irradiated TME in the absence of confounding growth inhibition by fulvestrant on tumor cells, we used the TC11 murine model of anti-estrogen resistant ER+ breast cancer. Tumors were orthotopically transplanted into immunocompetent syngeneic mice. Once tumors were established, we initiated treatment with fulvestrant or vehicle, followed by external beam RT one week later. We examined the number and activity of tumor infiltrating immune cells using flow cytometry, microscopy, transcript levels, and cytokine profiles. We tested whether fulvestrant improved tumor response and animal survival when added to the combination of RT and ICI.\n",
            "RESULTS: Despite resistance of TC11 tumors to anti-estrogen therapy alone, fulvestrant slowed tumor regrowth following RT, and significantly altered multiple immune populations in the irradiated TME. Fulvestrant reduced the influx of Ly6C+Ly6G+ cells, increased markers of pro-inflammatory myeloid cells and activated T cells, and augmented the ratio of CD8+: FOXP3+ T cells. In contrast to the minimal effects of ICIs when co-treated with either fulvestrant or RT alone, combinatorial treatment with fulvestrant, RT and ICIs significantly reduced tumor growth and prolonged survival.\n",
            "CONCLUSIONS: A combination of RT and fulvestrant can overcome the immunosuppressive TME in a preclinical model of ER+ breast cancer, enhancing the anti-tumor response and increasing the response to ICIs, even when growth of tumor cells is no longer estrogen sensitive.\n"
          ]
        }
      ]
    },
    {
      "cell_type": "code",
      "source": [
        "import codecs\n",
        "\n",
        "with codecs.open(\"/content/Medical_abstracts.txt\", \"r\", encoding=\"utf-8\") as f:\n",
        "  text=f.read()\n"
      ],
      "metadata": {
        "id": "xF8p1Cab_GAF"
      },
      "execution_count": null,
      "outputs": []
    },
    {
      "cell_type": "markdown",
      "source": [
        "# Transformar-based NER"
      ],
      "metadata": {
        "id": "kJk-fusJyIQF"
      }
    },
    {
      "cell_type": "code",
      "source": [
        "import spacy\n",
        "import en_core_med7_lg\n",
        "med7 = en_core_med7_lg.load()\n",
        "doc = med7(text)\n",
        "col_dict = {}\n"
      ],
      "metadata": {
        "id": "4V06e8DEyHCG"
      },
      "execution_count": null,
      "outputs": []
    },
    {
      "cell_type": "code",
      "source": [
        "seven_colours = ['#e6194B', '#3cb44b', '#ffe119', '#ffd8b1', '#f58231', '#f032e6', '#42d4f4']\n",
        "for label, colour in zip(med7.pipe_labels['ner'], seven_colours):\n",
        "    col_dict[label] = colour\n",
        "\n",
        "options = {'ents': med7.pipe_labels['ner'], 'colors':col_dict}"
      ],
      "metadata": {
        "id": "8mNsSaGqxqeq"
      },
      "execution_count": null,
      "outputs": []
    },
    {
      "cell_type": "code",
      "source": [
        "spacy.displacy.render(doc, style='ent', jupyter=True, options=options)"
      ],
      "metadata": {
        "id": "2FD1U0Y6AShC",
        "colab": {
          "base_uri": "https://localhost:8080/",
          "height": 1000
        },
        "outputId": "cb255df2-d22b-4fa3-8ffe-949839d5e4c3"
      },
      "execution_count": null,
      "outputs": [
        {
          "output_type": "display_data",
          "data": {
            "text/plain": [
              "<IPython.core.display.HTML object>"
            ],
            "text/html": [
              "<span class=\"tex2jax_ignore\"><div class=\"entities\" style=\"line-height: 2.5; direction: ltr\">Although photodynamic therapy (PDT) for thorough cancer treatment is hindered by the limited generation of reactive oxygen species (ROS) with short lifetime from photosensitizers, PDT-induced antitumor immune response remedies the defects. Previous studies showed that inducing immunogenic cell deaths is an attractive approach to activate antitumor immunity, which confers a robust adjuvanticity to dying cancer cells. In this work, amphiphilic luminogens with aggregation-induced emission characteristics (AIEgens) are rationally designed and synthesized. By modulating the hydrophobic π-bridge and zwitterionic functional groups, these AIEgens exhibited tunable organelle specificity to lysosome, endoplasmic reticulum and plasma membrane and enhanced ROS generation ability. Notably, the membrane-targeting AIEgen namely TPS-2 induced cell death and membrane rupture via PDT to facilitate the release of antigens and activation of immune cells. Furthermore, the size-controlled TPS-2 nanoaggregates were found to serve as an adjuvant, promoting antigen accumulation and delivery to sufficiently boost the in vivo antitumor immunity by only one dose \n",
              "<mark class=\"entity\" style=\"background: #ffd8b1; padding: 0.45em 0.6em; margin: 0 0.25em; line-height: 1; border-radius: 0.35em;\">\n",
              "    injection\n",
              "    <span style=\"font-size: 0.8em; font-weight: bold; line-height: 1; border-radius: 0.35em; vertical-align: middle; margin-left: 0.5rem\">FORM</span>\n",
              "</mark>\n",
              " in a prophylactic tumor vaccination model. This work thus provides new insights into optimizing AIE photosensitizers via a hydrophobicity-hydrophilicity balance strategy for evoking an antitumor immunity and directly suppressing the distanced tumor. A single small-molecular system for PDT-stimulated antitumor immunity is envisioned. This article is protected by copyright. All rights reserved.</br>Prostate malignancy represents the second leading cause of cancer-specific death among the male population worldwide. Herein, enhanced intracellular magnetic fluid hyperthermia is applied </br>In clinical and epidemiological research doubly truncated data often appear. This is the case, for instance, when the data registry is formed by interval sampling. Double truncation generally induces a sampling bias on the target variable, so proper corrections of ordinary estimation and inference procedures must be used. Unfortunately, the nonparametric maximum likelihood estimator of a doubly truncated distribution has several drawbacks, like potential nonexistence and nonuniqueness issues, or large estimation variance. Interestingly, no correction for double truncation is needed when the sampling bias is ignorable, which may occur with interval sampling and other sampling designs. In such a case the ordinary empirical distribution function is a consistent and fully efficient estimator that generally brings remarkable variance improvements compared to the nonparametric maximum likelihood estimator. Thus, identification of such situations is critical for the simple and efficient estimation of the target distribution. In this article, we introduce for the first time formal testing procedures for the null hypothesis of ignorable sampling bias with doubly truncated data. The asymptotic properties of the proposed test statistic are investigated. A bootstrap algorithm to approximate the null distribution of the test in practice is introduced. The finite sample performance of the method is studied in simulated scenarios. Finally, applications to data on onset for childhood cancer and Parkinson's disease are given. Variance improvements in estimation are discussed and illustrated.</br>ConspectusChemical manipulation of naturally occurring peptides offers a convenient route for generating \n",
              "<mark class=\"entity\" style=\"background: #3cb44b; padding: 0.45em 0.6em; margin: 0 0.25em; line-height: 1; border-radius: 0.35em;\">\n",
              "    analogs\n",
              "    <span style=\"font-size: 0.8em; font-weight: bold; line-height: 1; border-radius: 0.35em; vertical-align: middle; margin-left: 0.5rem\">DRUG</span>\n",
              "</mark>\n",
              " to screen against different therapeutic targets. However, the limited success of the conventional chemical libraries has urged chemical biologists to adopt alternative methods such as phage and mRNA displays and create libraries of a large number of variants for the screening and selection of novel peptides. Messenger RNA (mRNA) display provides great advantages in terms of the library size and the straightforward recovery of the selected polypeptide sequences. Importantly, the integration of the flexible </br>BACKGROUND: High-throughput sequencing (HTS) offers unprecedented opportunities for the discovery of causative gene variants in multiple human disorders including cancers, and has revolutionized clinical diagnostics. However, despite more than a decade of use of HTS-based assays, extracting relevant functional information from whole-exome sequencing (WES) data remains challenging, especially for non-specialists lacking in-depth bioinformatic skills.</br>RESULTS: To address this limitation, we developed Var∣Decrypt, a web-based tool designed to greatly facilitate WES data browsing and analysis. Var∣Decrypt offers a wide range of gene and variant filtering possibilities, clustering and enrichment tools, providing an efficient way to derive patient-specific functional information and to prioritize gene variants for functional analyses. We applied Var∣Decrypt on WES datasets of 10 acute erythroid leukemia patients, a rare and aggressive form of leukemia, and recovered known disease oncogenes in addition to novel putative drivers. We additionally validated the performance of Var∣Decrypt using an independent dataset of ~ 90 multiple myeloma WES, recapitulating the identified deregulated genes and pathways, showing the general applicability and versatility of Var∣Decrypt for WES analysis.</br>CONCLUSION: Despite years of use of WES in human health for diagnosis and discovery of disease drivers, WES data analysis still remains a complex task requiring advanced bioinformatic skills. In that context, there is a need for user-friendly all-in-one dedicated tools for data analysis, to allow biologists and clinicians to extract relevant biological information from patient datasets. Here, we provide Var∣Decrypt (trial version accessible here: https://vardecrypt.com/app/vardecrypt ), a simple and intuitive Rshiny application created to fill this gap. Source code and detailed user tutorial are available at https://gitlab.com/mohammadsalma/vardecrypt .</br>BACKGROUND: Isolated pulmonary oligometastases as the first site of dissemination after initial resection of pancreatic ductal adenocarcinoma (PC) is a rare event, and the treatment in this subgroup is challenging. Recurrence in the lung after initial primary tumour resection is associated with the most long-term survivors of patients with metastatic PC. Stereotactic ablative body radiation therapy (SABR) or metastectomy for pulmonary oligometastases from PC is becoming more common. However, patients with close or positive margins after metastectomy for isolated pulmonary metastatic PC are at high risk for recurrence. This requires a treatment capable of achieving high rates of local control and improved quality of life by delaying the need for systemic \n",
              "<mark class=\"entity\" style=\"background: #3cb44b; padding: 0.45em 0.6em; margin: 0 0.25em; line-height: 1; border-radius: 0.35em;\">\n",
              "    chemotherapy\n",
              "    <span style=\"font-size: 0.8em; font-weight: bold; line-height: 1; border-radius: 0.35em; vertical-align: middle; margin-left: 0.5rem\">DRUG</span>\n",
              "</mark>\n",
              ". In other settings, SABR has been shown to achieve these goals, allowing safe dose escalation with excellent conformity and short duration of treatment.</br>CASE PRESENTATION: We report the case of a 48-year old Caucasian man with a history of locally advanced PC initially treated with neoadjuvant chemotherapy followed by Whipple's resection in August 2016. After a disease-free interval of 3 years, he developed three isolated pulmonary metastases which were treated with local resection. In the setting of microscopically positive resection margins (R1), adjuvant lung SABR was delivered to all three sites. His treated lung disease remained radiologically stable for up to twenty months after SABR. Treatment was well tolerated. In January 2021, he developed a malignant pre-tracheal node which was treated with conventionally fractionated radiotherapy and remained controlled for the duration of follow-up. A year later, he developed widespread metastatic disease including pleura, bone and adrenal gland, together with presumed progression in one of the original lung lesions, receiving palliative radiotherapy for right chest wall pain. He was later found to have an intracranial metastasis and died in February 2022, 5½ years after initial treatment.</br>CONCLUSION: We present the case of a patient treated with SABR after R1 resection of 3 isolated pulmonary metastases from PC, with no treatment toxicities and durable local control. For well-selected patients in this setting, adjuvant lung SABR may be a safe and effective treatment option.</br>Mesenchymal tumors of the central nervous system (CNS) include numerous entities, with different pathological features and biological behavior. Mesenchymal non-meningothelial tumors are rare and comprise neoplasms that are exclusive to the CNS or show peculiar features when occurring in the CNS compared with other sites. Within this group there are three new entities, classified on the basis of specific molecular alterations and included in the 5th edition of the WHO Classification of CNS Tumors: primary intracranial sarcoma; DICER1-mutant; CIC-rearranged sarcoma; intracranial mesenchymal tumor, FET::CREB fusion-positive. These tumors often show variable morphology, making diagnosis very challenging, although the implementation of molecular techniques has led to better characterization and more precise identification of these entities. However, many molecular alterations have yet to be discovered and some recently reported CNS tumors are currently missing an appropriate classification. Herein, we report the case of a 43-year-old man who presented with an intracranial mesenchymal tumor. Histopathological examination showed a wide spectrum of peculiar morphological features and a non-specific immunohistochemical profile. Whole transcriptome sequencing revealed the presence of a novel genetic rearrangement involving COX14 and PTEN genes, which has never been reported before in any other neoplasm. The tumor did not cluster in any defined methylation class of the brain tumor classifier, but resulted in a calibrated score of 0.89 for the methylation class &quot;Sarcoma, MPNST-like&quot;, when analyzed by the sarcoma classifier. Our study is the first to report about this tumor with unique pathological and molecular features, characterized by a novel rearrangement between COX14 and PTEN genes. Other studies are necessary in order to define it as a new entity or as a novel rearrangement involving recently described and incompletely characterized CNS mesenchymal tumors.</br>None</br>BRCA1 and BRCA2 mutations contribute to both breast cancer and ovarian cancer worldwide. In Poland approximately 4% of patients with breast cancers and 10% of patients with ovarian cancer carry a mutation in BRCA1. The majority of mutations consist of three founder mutations. A rapid inexpensive test for these three mutations can be used to screen all Polish adults at a reasonable cost. In the region of Pomerania of North-western Poland nearly half a million tests have been performed, in large part through engaging family doctors and providing ready access to testing through the Pomeranian Medical University. The following commentary provides a history of genetic testing for cancer in Pomerania and the current approach to facilitating access to genetic testing at the Cancer Family Clinic for all adults living in the region.</br>BACKGROUND: As cancer therapies increase in their complexity, effective communication among patients, physicians, and research staff is critical for optimal clinical trial management. Currently, we understand little about on-trial communication practices and patient trial experiences over time. This mixed-method study explored patient experiences of participating in a clinical drug trial at different time points, focussing on patient communication with trial staff.</br>METHODS: Patients enrolled in clinical drug trials conducted at the Parkville Cancer Clinical Trials Unit were invited to complete a tailored online survey and/or a qualitative interview. Patients were recruited to three cohorts based on time since the first trial treatment: new (≥ 1 to ≤ 13 weeks), mid- (≥ 14 to ≤ 26 weeks), and long-term (≥ 52 weeks) trial patients. Descriptive statistics were calculated for survey responses. Interview data were analysed thematically with a team-based approach. Survey and interview data were integrated at the intepretation stage.</br>RESULTS: From May to June 2021, 210 patients completed a survey (response rate 64%, 60% male), 20 completed interviews (60% male), and 18 completed both. More long-term trial patients (46%) participated than new (29%) and mid-trial patients (26%). Survey data showed high (&gt; 90%) patient satisfaction with the provision of trial information and communication with trial staff across trial stages, and many reported trial experiences as above and beyond standard care. Interview data indicated that written trial information could be overwhelming, and verbal communication with the staff and physicians was highly valued, especially for enrolment and side effect management among long-term patients. Patients described the key points along the clinical trial trajectory that merit close attention: clear and well-communicated randomisation practices, reliable pathways for side effect reporting and prompt response from the trial staff, and end-of-trial transition management to avoid a sense of abandonment.</br>CONCLUSION: Patients reported high overall satisfaction with trial management but outlined key pinch points requiring improved communication practices. Establishing a range of effective communication practices among trial staff and physicians with patients in cancer clinical trials may have a wide range of positive effects on patient accrual, retention, and satisfaction.</br>BACKGROUND: Lung cancer is known as the most common and highly metastatic form of cancer worldwide. Tumour node metastasis (TNM) staging is the gold standard classification system for the decision-making process for appropriate treatment. Particularly N status has the most important prognostic value in the absence of distant metastasis. Traditional diagnostic methods are capable of detecting metastasis; however, they may fail to detect micrometastasis, which plays a role in disease recurrence and patients' long-term survival. Occult micrometastasis can change the tumour's TNM staging and, consequently, the patient's treatment regimen.</br>METHODS: The median number of three lymph node tissues were collected from 30 patients who underwent surgery for non-small cell lung cancer. Lymph node tissues were collected from different lymph node stations according to the location of the patient's tumour. CK19, EpCAM and CEACAM5 gene expressions were analysed in tissues using quantitative real-time polymerase chain reaction to detect micrometastasis in distant lymph nodes.</br>RESULTS: Triple positivity was seen in 26 out of 30 patients which 19 patients were upstaged from N0 to N2. While survival was not significantly affected between upstaged and non-upstaged patients, patients upstaged with multiple-station N2 had a significantly higher recurrence and lower survival compared to single-station N2.</br>CONCLUSION: A combination of CK19, EpCAM and CEACAM5 gene expressions in lymph nodes can be used to identify micrometastasis which postoperatively may be used as a tool to predict patients' recurrence and survival.</br>The use of \n",
              "<mark class=\"entity\" style=\"background: #3cb44b; padding: 0.45em 0.6em; margin: 0 0.25em; line-height: 1; border-radius: 0.35em;\">\n",
              "    cannabidiol\n",
              "    <span style=\"font-size: 0.8em; font-weight: bold; line-height: 1; border-radius: 0.35em; vertical-align: middle; margin-left: 0.5rem\">DRUG</span>\n",
              "</mark>\n",
              " (CBD) for therapeutic purposes is receiving considerable attention, with speculation that CBD can be useful in a wide range of conditions. Only one product, a purified form of plant-derived CBD in solution (Epidiolex), is approved for the treatment of seizures in patients with Lennox-Gastaut syndrome, Dravet syndrome, or tuberous sclerosis complex. Appraisal of the therapeutic evidence base for CBD is complicated by the fact that CBD products sometimes have additional phytochemicals (like tetrahydrocannabinol (THC)) present, which can make the identification of the active pharmaceutical ingredient (API) in positive studies difficult. The aim of the present review is to critically review clinical studies using purified CBD products only, in order to establish the upcoming indications for which purified CBD might be beneficial. The areas in which there is the most clinical evidence to support the use of CBD are in the treatment of anxiety (positive data in 7 uncontrolled studies and 17 randomised controlled trials (RCTs)), psychosis and schizophrenia (positive data in 1 uncontrolled study and 8 RCTs), PTSD (positive data in 2 uncontrolled studies and 4 RCTs) and substance abuse (positive data in 2 uncontrolled studies and 3 RCTs). Seven uncontrolled studies support the use of CBD to improve sleep quality, but this has only been verified in one small RCT. Limited evidence supports the use of \n",
              "<mark class=\"entity\" style=\"background: #3cb44b; padding: 0.45em 0.6em; margin: 0 0.25em; line-height: 1; border-radius: 0.35em;\">\n",
              "    CBD\n",
              "    <span style=\"font-size: 0.8em; font-weight: bold; line-height: 1; border-radius: 0.35em; vertical-align: middle; margin-left: 0.5rem\">DRUG</span>\n",
              "</mark>\n",
              " for the treatment of Parkinson's (3 positive uncontrolled studies and 2 positive RCTs), autism (3 positive RCTs), smoking cessation (2 positive RCTs), graft-versus-host disease and intestinal permeability (1 positive RCT each). Current RCT evidence does not support the use of purified oral CBD in pain (at least as an acute analgesic) or for the treatment of COVID symptoms, cancer, Huntington's or type 2 diabetes. In conclusion, published clinical evidence does support the use of purified CBD in multiple indications beyond epilepsy. However, the evidence base is limited by the number of trials only investigating the acute effects of CBD, testing CBD in healthy volunteers, or in very small patient numbers. Large confirmatory phase 3 trials are required in all indications.</br>Brain metastasis (BM) is an important cause of mortality for cancer patients. Many patients were diagnosed with brain metastases at their first visit who have not received any treatment while a subset of patients did not have distant metastases at the first visit and brain metastases were detected during the course of \n",
              "<mark class=\"entity\" style=\"background: #3cb44b; padding: 0.45em 0.6em; margin: 0 0.25em; line-height: 1; border-radius: 0.35em;\">\n",
              "    systemic therapies\n",
              "    <span style=\"font-size: 0.8em; font-weight: bold; line-height: 1; border-radius: 0.35em; vertical-align: middle; margin-left: 0.5rem\">DRUG</span>\n",
              "</mark>\n",
              ". The difference in their genomic characterization is unclear. 96 lung adenocarcinoma patients were enrolled in our study. 53 patients (55%) had synchronous metastatic brain tumors. 43 (45%) patients had metachronous brain metastases. We performed 168 panel-targeted gene sequencing cerebrospinal fluid (CSF) and plasma samples from patients to identify genomic features of synchronous brain metastases (SBM) and metachronous brain metastases (MBM). In conclusion, CSF liquid biopsies have a priority in detecting gene alteration. A comprehensive comparison of molecular profiling between SBM and MBM revealed the most frequently altered genes in both groups were EGFR and TP53, but with different exon point mutations. RTK-RAS and TP53 pathways were the most affected pathways.</br>BACKGROUND: Co-production is an umbrella term used to describe the process of generating knowledge through partnerships between researchers and those who will use or benefit from research. Multiple advantages of research co-production have been hypothesized, and in some cases documented, in both the academic and practice record. However, there are significant gaps in understanding how to evaluate the quality of co-production. This gap in rigorous evaluation undermines the potential of both co-production and co-producers.</br>METHODS: This research tests the relevance and utility of a novel evaluation framework: Research Quality Plus for Co-Production (RQ + 4 Co-Pro). Following a co-production approach ourselves, our team collaborated to develop study objectives, questions, analysis, and results sharing strategies. We used a dyadic field-test design to execute RQ + 4 Co-Pro evaluations amongst 18 independently recruited subject matter experts. We used standardized reporting templates and qualitative interviews to collect data from field-test participants, and thematic assessment and deliberative dialogue for analysis. Main limitations include that field-test participation included only health research projects and health researchers and this will limit perspective included in the study, and, that our own co-production team does not include all potential perspectives that may add value to this work.</br>RESULTS: The field test surfaced strong support for the relevance and utility of RQ + 4 Co-Pro as an evaluation approach and framework. Research participants shared opportunities for fine-tuning language and criteria within the prototype version, but also, for alternative uses and users of RQ + 4 Co-Pro. All research participants suggested RQ + 4 Co-Pro offered an opportunity for improving how co-production is evaluated and advanced. This facilitated our revision and publication herein of a field-tested RQ + 4 Co-Pro Framework and Assessment Instrument.</br>CONCLUSION: Evaluation is necessary for understanding and improving co-production, and, for ensuring co-production delivers on its promise of better health.. RQ + 4 Co-Pro provides a practical evaluation approach and framework that we invite co-producers and stewards of co-production-including the funders, publishers, and universities who increasingly encourage socially relevant research-to study, adapt, and apply.</br>PURPOSE: In this study, exercise interventions were evaluated for their effects on cancer-related fatigue (CRF) and quality of life (QoL) among cancer patients.</br>DESIGN: A meta-analysis was performed.</br>METHODS: We systematically searched the PubMed/Medline, Web of Science, Embase, Cochrane Central Register of Controlled Trials (CENTRAL), PsycINFO, and CINAHL databases, and gray literature sources including the Virginia Henderson International Nursing Library and Google Scholar. This study only included randomized controlled trials (RCTs) examining how exercise interventions affect CRF and QoL among cancer patients. Based on the Cochrane Risk-of-Bias Assessment Tool, version 2 (RoB 2) and the Grading of Recommendations Assessment, Development and Evaluation (GRADE) approach, the methodological quality of the included studies was evaluated. In addition, standardized mean differences (SMDs) and 95% confidence intervals (CIs) were applied to assess the intervention effect with respect to CRF and QoL. Data analysis was performed using Review Manager (version 5.4).</br>RESULTS: There were a total of 1573 participants in the 28 included articles. According to the meta-analysis, CRF (SMD = -0.35, 95% CI: -0.63 to -0.07, p = 0.01) and QoL (SMD = 0.36, 95% CI: 0.20 to 0.53, p &lt; 0.01) were positively affected by exercise interventions. Subgroup analyses revealed considerable improvements in CRF (SMD = -0.54, 95% CI: -1.00 to -0.09, p = 0.02) and QoL (SMD = 0.38, 95% CI: 0.16 to 0.59, p &lt; 0.01) from aerobic exercise. An intervention duration less than 12 weeks had a better effect on CRF (SMD = -0.80, 95% CI: -1.43 to -0.17, p = 0.01) and QoL (SMD = 0.53, 95% CI: 0.21 to 0.85, p &lt; 0.01), and three times per week was the most effective frequency in improving QoL (SMD = 0.69, 95% CI: 0.28 to 1.11, p &lt; 0.01). Exercise intervention was more successful in improving CRF (SMD = -0.66, 95% CI: -1.10 to -0.21, p &lt; 0.01) and QoL (SMD=-0.50, 95% CI: 0.23 to 0.78, p &lt; 0.01) in female cancer patients. Sensitivity analyses showed that the pooled outcomes were reliable and stable.</br>CONCLUSION: Exercise interventions are a workable approach to improve CRF and QoL among cancer patients. An aerobic exercise intervention of less than 12 weeks might be most effective in improving CRF and QoL, and three times per week might be the most appropriate frequency. Exercise might have a more positive effect on improving CRF and QoL in female cancer patients. Additionally, a larger number of high-quality RCTs should be conducted to further confirm the efficacy of exercise interventions on CRF and QoL among cancer patients.</br>REGISTRATION NUMBER: CRD42022351137.</br>BACKGROUND: Lung cancer is a malignant tumour, and early diagnosis has been shown to improve the survival rate of lung cancer patients. In this study, we assessed the use of plasma metabolites as biomarkers for lung cancer diagnosis. In this work, we used a novel interdisciplinary mechanism, applied for the first time to lung cancer, to detect biomarkers for early lung cancer diagnosis by combining metabolomics and machine learning approaches.</br>RESULTS: In total, 478 lung cancer patients and 370 subjects with benign lung nodules were enrolled from a hospital in Dalian, Liaoning Province. We selected 47 serum \n",
              "<mark class=\"entity\" style=\"background: #3cb44b; padding: 0.45em 0.6em; margin: 0 0.25em; line-height: 1; border-radius: 0.35em;\">\n",
              "    amino acid\n",
              "    <span style=\"font-size: 0.8em; font-weight: bold; line-height: 1; border-radius: 0.35em; vertical-align: middle; margin-left: 0.5rem\">DRUG</span>\n",
              "</mark>\n",
              " and \n",
              "<mark class=\"entity\" style=\"background: #3cb44b; padding: 0.45em 0.6em; margin: 0 0.25em; line-height: 1; border-radius: 0.35em;\">\n",
              "    carnitine\n",
              "    <span style=\"font-size: 0.8em; font-weight: bold; line-height: 1; border-radius: 0.35em; vertical-align: middle; margin-left: 0.5rem\">DRUG</span>\n",
              "</mark>\n",
              " indicators from targeted metabolomics studies using LC‒MS/MS and age and sex demographic indicators of the subjects. After screening by a stepwise regression algorithm, 16 metrics were included. The XGBoost model in the machine learning algorithm showed superior predictive power (AUC = 0.81, accuracy = 75.29%, sensitivity = 74%), with the metabolic biomarkers \n",
              "<mark class=\"entity\" style=\"background: #3cb44b; padding: 0.45em 0.6em; margin: 0 0.25em; line-height: 1; border-radius: 0.35em;\">\n",
              "    ornithine\n",
              "    <span style=\"font-size: 0.8em; font-weight: bold; line-height: 1; border-radius: 0.35em; vertical-align: middle; margin-left: 0.5rem\">DRUG</span>\n",
              "</mark>\n",
              " and \n",
              "<mark class=\"entity\" style=\"background: #3cb44b; padding: 0.45em 0.6em; margin: 0 0.25em; line-height: 1; border-radius: 0.35em;\">\n",
              "    palmitoylcarnitine\n",
              "    <span style=\"font-size: 0.8em; font-weight: bold; line-height: 1; border-radius: 0.35em; vertical-align: middle; margin-left: 0.5rem\">DRUG</span>\n",
              "</mark>\n",
              " being potential biomarkers to screen for lung cancer. The machine learning model XGBoost is proposed as an tool for early lung cancer prediction. This study provides strong support for the feasibility of blood-based screening for metabolites and provide a safer, faster and more accurate tool for early diagnosis of lung cancer.</br>CONCLUSIONS: This study proposes an interdisciplinary approach combining metabolomics with a machine learning model (XGBoost) to predict early the occurrence of lung cancer. The metabolic biomarkers \n",
              "<mark class=\"entity\" style=\"background: #3cb44b; padding: 0.45em 0.6em; margin: 0 0.25em; line-height: 1; border-radius: 0.35em;\">\n",
              "    ornithine\n",
              "    <span style=\"font-size: 0.8em; font-weight: bold; line-height: 1; border-radius: 0.35em; vertical-align: middle; margin-left: 0.5rem\">DRUG</span>\n",
              "</mark>\n",
              " and \n",
              "<mark class=\"entity\" style=\"background: #3cb44b; padding: 0.45em 0.6em; margin: 0 0.25em; line-height: 1; border-radius: 0.35em;\">\n",
              "    palmitoylcarnitine\n",
              "    <span style=\"font-size: 0.8em; font-weight: bold; line-height: 1; border-radius: 0.35em; vertical-align: middle; margin-left: 0.5rem\">DRUG</span>\n",
              "</mark>\n",
              " showed significant power for early lung cancer diagnosis.</br>BACKGROUND: The COVID-19 pandemic and its containment measures have drastically impacted end-of-life and grief experiences globally, including those related to medical assistance in dying (MAiD). No known qualitative studies to date have examined the MAiD experience during the pandemic. This qualitative study aimed to understand how the pandemic impacted the MAiD experience in hospital of persons requesting MAiD (patients) and their loved ones (caregivers) in Canada.</br>METHODS: Semi-structured interviews were conducted with patients who requested MAiD and their caregivers between April 2020 and May 2021. Participants were recruited during the first year of the pandemic from the University Health Network and Sunnybrook Health Sciences Centre in Toronto, Canada. Patients and caregivers were interviewed about their experience following the MAiD request. Six months following patient death, bereaved caregivers were interviewed to explore their bereavement experience. Interviews were audio-recorded, transcribed verbatim, and de-identified. Transcripts were analyzed using reflexive thematic analysis.</br>RESULTS: Interviews were conducted with 7 patients (mean [SD] age, 73 [12] years; 5 [63%] women) and 23 caregivers (mean [SD] age, 59 [11] years; 14 [61%] women). Fourteen caregivers were interviewed at the time of MAiD request and 13 bereaved caregivers were interviewed post-MAiD. Four themes were generated with respect to the impact of COVID-19 and its containment measures on the MAiD experience in hospital: (1) accelerating the MAiD decision; (2) compromising family understanding and coping; (3) disrupting MAiD delivery; and (4) appreciating rule flexibility.</br>CONCLUSIONS: Findings highlight the tension between respecting pandemic restrictions and prioritizing control over the dying circumstances central to MAiD, and the resulting impact on patient and family suffering. There is a need for healthcare institutions to recognize the relational dimensions of the MAiD experience, particularly in the isolating context of the pandemic. Findings may inform strategies to better support those requesting MAiD and their families during the pandemic and beyond.</br>BACKGROUND: Apolipoprotein F (APOF) has been less studied in cancers. Thus, we aimed to perform a pan-cancer analysis of the oncogenic and immunological effects of APOF on human cancer.</br>METHODS: A standardized TCGA pan-cancer dataset was downloaded. Differential expression, clinical prognosis, genetic mutations, immune infiltration, epigenetic modifications, tumor stemness and heterogeneity were analyzed. We conducted all analyses through software R (version 3.6.3) and its suitable packages.</br>RESULTS: Overall, we found that the common cancers differentially expressed between tumor and normal samples and prognostic-associated were BRCA, PRAD, KIRP, and LIHC in terms of overall survival (OS), disease-free survival (DFS) and progression-free survival (PFS). The pan-cancer Spearman analysis showed that the mRNA expression of APOF was negatively correlated with four tumor stemness indexes (DMPss, DNAss, ENHss, and EREG-METHss) with statistical significance for PRAD and was positively correlated for LIHC. In terms of BRCA and PRAD patients, we found negative correlation of APOF with TMB, MSI, \n",
              "<mark class=\"entity\" style=\"background: #3cb44b; padding: 0.45em 0.6em; margin: 0 0.25em; line-height: 1; border-radius: 0.35em;\">\n",
              "    neo\n",
              "    <span style=\"font-size: 0.8em; font-weight: bold; line-height: 1; border-radius: 0.35em; vertical-align: middle; margin-left: 0.5rem\">DRUG</span>\n",
              "</mark>\n",
              ", HRD and LOH. The mutation frequencies of BRCA and LIHC were 0.3%. APOF expression was negatively correlated with immune infiltration and positively correlated with tumor purity for PRAD patients. The mRNA expression of APOF was negatively associated with most TILs for LIHC, B cells, CD4+ T cells, neutrophils, macrophages and dendritic cells, but was positively associated with CD8+ T cells.</br>CONCLUSIONS: Our pan-cancer study offered a relatively comprehensive understanding of the roles of APOF on BRCA, PRAD, KIRP, and LIHC.</br>BACKGROUND: For patients with low- and intermediate-risk stage II/III rectal cancer, current studies have reached a consensus that preoperative radiotherapy may be dispensed with, and neoadjuvant chemotherapy (NCT) alone might achieve an accepted local control. Our previous phase II study has evidenced that the morphological response of NCT could be better judged at a relatively early stage. Low- and intermediate-risk stage II/III rectal cancer patients could achieve a high rate of tumor shrinkage and downgrade after only 4 cycles of NCT and obvious tumor morphological changes could be observed after 2 cycles of NCT. However, there is still a lack of more detailed stratification and evidence for pathological criteria. The aim of the present study (comparison of the pathological response to 2 or 4 cycles of neoadjuvant CAPOX in II/III rectal cancer patients with low/intermediate risks, COPEC trial) is to determine the pathological tumor regression grade (pTRG) rate of 2 or 4 cycles of NCT in low- and intermediate-risk stage II/III rectal cancer and verify the feasibility of early identification of chemotherapy-insensitive population.</br>METHODS/DESIGN: This is a multicenter, prospective, non-inferior, randomized controlled trial (RCT) initiated by West China Hospital of Sichuan University and designed to be conducted in fourteen hospitals around China. Eligible patients will be centrally randomized into 2 or 4 cycles of CAPOX in a 1:1 ratio using the central automated randomization system offered by the O-trial online system ( https://plus.o-trial.com/ ) and accept total mesorectal excision after 2 or 4 cycles of \n",
              "<mark class=\"entity\" style=\"background: #3cb44b; padding: 0.45em 0.6em; margin: 0 0.25em; line-height: 1; border-radius: 0.35em;\">\n",
              "    CAPOX\n",
              "    <span style=\"font-size: 0.8em; font-weight: bold; line-height: 1; border-radius: 0.35em; vertical-align: middle; margin-left: 0.5rem\">DRUG</span>\n",
              "</mark>\n",
              " (\n",
              "<mark class=\"entity\" style=\"background: #3cb44b; padding: 0.45em 0.6em; margin: 0 0.25em; line-height: 1; border-radius: 0.35em;\">\n",
              "    oxaliplatin\n",
              "    <span style=\"font-size: 0.8em; font-weight: bold; line-height: 1; border-radius: 0.35em; vertical-align: middle; margin-left: 0.5rem\">DRUG</span>\n",
              "</mark>\n",
              " 130 mg/m</br>DISCUSSION: COPEC trial is designed to verify that the preoperative CAPOX chemotherapy for low- and intermediate-risk stage II/III rectal cancer could achieve a good response judgment after 2 cycles and obtain the tumor pathological response rate after 2 cycles of CAPOX. We hope the COPEC trial could help in establishing a consensus standard of low- and intermediate-risk rectal cancer and the early identification of stage II/III rectal patients with low- and intermediate-risk who are poorly responding to NCT.</br>TRIAL REGISTRATION: Clinicaltrial.gov NCT04922853. Registered on June 4, 2021.</br>BACKGROUND: Most patients with \n",
              "<mark class=\"entity\" style=\"background: #3cb44b; padding: 0.45em 0.6em; margin: 0 0.25em; line-height: 1; border-radius: 0.35em;\">\n",
              "    estrogen\n",
              "    <span style=\"font-size: 0.8em; font-weight: bold; line-height: 1; border-radius: 0.35em; vertical-align: middle; margin-left: 0.5rem\">DRUG</span>\n",
              "</mark>\n",
              " receptor positive (ER+) breast cancer do not respond to immune checkpoint inhibition (ICI); the tumor microenvironment (TME) of these cancers is generally immunosuppressive and contains few tumor-infiltrating lymphocytes. Radiation therapy (RT) can increase tumor inflammation and infiltration by lymphocytes but does not improve responses to ICIs in these patients. This may result, in part, from additional effects of RT that suppress anti-tumor immunity, including increased tumor infiltration by myeloid-derived suppressor cells and regulatory T cells. We hypothesized that \n",
              "<mark class=\"entity\" style=\"background: #3cb44b; padding: 0.45em 0.6em; margin: 0 0.25em; line-height: 1; border-radius: 0.35em;\">\n",
              "    anti-estrogens\n",
              "    <span style=\"font-size: 0.8em; font-weight: bold; line-height: 1; border-radius: 0.35em; vertical-align: middle; margin-left: 0.5rem\">DRUG</span>\n",
              "</mark>\n",
              ", which are a standard of care for ER+ breast cancer, may ameliorate these detrimental effects of RT by reducing the recruitment/ activation of suppressive immune populations in the radiated TME, increasing anti-tumor immunity and responsiveness to ICIs.</br>METHODS: To interrogate the effect of the selective \n",
              "<mark class=\"entity\" style=\"background: #3cb44b; padding: 0.45em 0.6em; margin: 0 0.25em; line-height: 1; border-radius: 0.35em;\">\n",
              "    estrogen receptor\n",
              "    <span style=\"font-size: 0.8em; font-weight: bold; line-height: 1; border-radius: 0.35em; vertical-align: middle; margin-left: 0.5rem\">DRUG</span>\n",
              "</mark>\n",
              " downregulator, fulvestrant, on the irradiated TME in the absence of confounding growth inhibition by fulvestrant on tumor cells, we used the TC11 murine model of \n",
              "<mark class=\"entity\" style=\"background: #3cb44b; padding: 0.45em 0.6em; margin: 0 0.25em; line-height: 1; border-radius: 0.35em;\">\n",
              "    anti-estrogen\n",
              "    <span style=\"font-size: 0.8em; font-weight: bold; line-height: 1; border-radius: 0.35em; vertical-align: middle; margin-left: 0.5rem\">DRUG</span>\n",
              "</mark>\n",
              " resistant ER+ breast cancer. Tumors were orthotopically transplanted into immunocompetent syngeneic mice. Once tumors were established, we initiated treatment with fulvestrant or vehicle, followed by external beam RT one week later. We examined the number and activity of tumor infiltrating immune cells using flow cytometry, microscopy, transcript levels, and cytokine profiles. We tested whether fulvestrant improved tumor response and animal survival when added to the combination of RT and ICI.</br>RESULTS: Despite resistance of TC11 tumors to \n",
              "<mark class=\"entity\" style=\"background: #3cb44b; padding: 0.45em 0.6em; margin: 0 0.25em; line-height: 1; border-radius: 0.35em;\">\n",
              "    anti-estrogen\n",
              "    <span style=\"font-size: 0.8em; font-weight: bold; line-height: 1; border-radius: 0.35em; vertical-align: middle; margin-left: 0.5rem\">DRUG</span>\n",
              "</mark>\n",
              " therapy alone, fulvestrant slowed tumor regrowth following RT, and significantly altered multiple immune populations in the irradiated TME. Fulvestrant reduced the influx of Ly6C+Ly6G+ cells, increased markers of pro-inflammatory myeloid cells and activated T cells, and augmented the ratio of CD8+: FOXP3+ T cells. In contrast to the minimal effects of ICIs when co-treated with either fulvestrant or RT alone, combinatorial treatment with fulvestrant, RT and ICIs significantly reduced tumor growth and prolonged survival.</br>CONCLUSIONS: A combination of RT and fulvestrant can overcome the immunosuppressive TME in a preclinical model of ER+ breast cancer, enhancing the anti-tumor response and increasing the response to ICIs, even when growth of tumor cells is no longer \n",
              "<mark class=\"entity\" style=\"background: #3cb44b; padding: 0.45em 0.6em; margin: 0 0.25em; line-height: 1; border-radius: 0.35em;\">\n",
              "    estrogen\n",
              "    <span style=\"font-size: 0.8em; font-weight: bold; line-height: 1; border-radius: 0.35em; vertical-align: middle; margin-left: 0.5rem\">DRUG</span>\n",
              "</mark>\n",
              " sensitive.</br></div></span>"
            ]
          },
          "metadata": {}
        }
      ]
    },
    {
      "cell_type": "markdown",
      "source": [
        "#Part 3. Named Entity Normalization\n",
        "\n",
        "Now that we have our articles of interest, let us map the drugs to known identifiers from https://go.drugbank.com/"
      ],
      "metadata": {
        "id": "_NrzrbtmAd4l"
      }
    },
    {
      "cell_type": "code",
      "source": [
        "from google.colab import drive\n",
        "drive.mount('/content/drive',force_remount=True)\n"
      ],
      "metadata": {
        "id": "v0PxiOFuAdDG",
        "colab": {
          "base_uri": "https://localhost:8080/"
        },
        "outputId": "14a2313d-7c3d-44bb-bcac-5b8c56cf6e42"
      },
      "execution_count": null,
      "outputs": [
        {
          "output_type": "stream",
          "name": "stdout",
          "text": [
            "Mounted at /content/drive\n"
          ]
        }
      ]
    },
    {
      "cell_type": "code",
      "source": [
        "import json\n",
        "drug_dict=json.load(open('/content/drug_dict.json','rb'))\n"
      ],
      "metadata": {
        "id": "KRmg6jkJMxZR"
      },
      "execution_count": null,
      "outputs": []
    },
    {
      "cell_type": "markdown",
      "source": [
        "Here is how a dictionary looks like"
      ],
      "metadata": {
        "id": "K_su7KPJAp23"
      }
    },
    {
      "cell_type": "code",
      "source": [
        "print(list(drug_dict.items())[1:10])"
      ],
      "metadata": {
        "id": "LHT9KRrNAig4",
        "colab": {
          "base_uri": "https://localhost:8080/"
        },
        "outputId": "b05f9647-5200-430c-e83e-c1cfbf0624c9"
      },
      "execution_count": null,
      "outputs": [
        {
          "output_type": "stream",
          "name": "stdout",
          "text": [
            "[('pu-h71', 'https://go.drugbank.com/drugs/DB12638'), ('d-2-amino-4-methylvaler acid', 'https://go.drugbank.com/drugs/DB01746'), ('2-pyridinethiol 1-oxid', 'https://go.drugbank.com/drugs/DB06815'), ('telmisartan', 'https://go.drugbank.com/drugs/DB00966'), ('carboquonum', 'https://go.drugbank.com/drugs/DB13677'), ('carlumab', 'https://go.drugbank.com/drugs/DB12718'), ('sanchinosides', 'https://go.drugbank.com/drugs/DB14152'), ('methylene blue anhydr', 'https://go.drugbank.com/drugs/DB09241'), ('bromelain', 'https://go.drugbank.com/drugs/DB13281')]\n"
          ]
        }
      ]
    },
    {
      "cell_type": "markdown",
      "source": [
        "If you want to add other entities, you can add to the dictionary as follows\n",
        "\n",
        "> Uncomment the next line and fill in place of panadol your drug of interest in place of 'dummyid' place an id of your choosing\n",
        "(drug_dict['']='')\n",
        "\n"
      ],
      "metadata": {
        "id": "t0Q5cc7QA3uB"
      }
    },
    {
      "cell_type": "code",
      "source": [
        "# Example: drug_dict['panadol']='dummyid'\n",
        "drug_dict['']=''"
      ],
      "metadata": {
        "id": "lmfkE3qoA4zd"
      },
      "execution_count": null,
      "outputs": []
    },
    {
      "cell_type": "markdown",
      "source": [
        " Now let us look at the drugbank identifiers that we could map to\n"
      ],
      "metadata": {
        "id": "rRA6F-HBA-7c"
      }
    },
    {
      "cell_type": "code",
      "source": [
        "import nltk\n",
        "nltk.download('punkt')\n",
        "from nltk.util import ngrams\n",
        "from nltk import word_tokenize, sent_tokenize\n",
        "Ngram=5\n",
        "annots={}\n",
        "for pmid in PMDE_list:\n",
        "  article=pmid\n",
        "  pmid=Medical_abstracts[pmid]\n",
        "  #print(pmid)\n",
        "  try:\n",
        "    sentences = nltk.sent_tokenize(pmid.lower())\n",
        "  except:\n",
        "    continue\n",
        "  for sent in sentences:\n",
        "      sent=word_tokenize(sent)\n",
        "      #print('SENT:',sent)\n",
        "      for nn in range(Ngram):\n",
        "          outs=ngrams(sequence=sent, n=nn+1)\n",
        "          for oo in outs:\n",
        "              o=' '.join(oo)\n",
        "              #print(o)\n",
        "              if o in drug_dict and len(o)>3:\n",
        "                  if o not in annots:\n",
        "                      annots[o]={}\n",
        "                  annots[o][article]=True\n",
        "                  print('Found a drug with ID: ',o,drug_dict[o], ' in article:',article)\n",
        "                  #annots.append([o,drug_dict[o]])\n",
        "                  #annots[o]=list(drug_dict[o].keys())[0]\n"
      ],
      "metadata": {
        "id": "Wd5VRx49AznH",
        "colab": {
          "base_uri": "https://localhost:8080/"
        },
        "outputId": "22f9f3a5-48e6-47ad-a243-b33716b55b22"
      },
      "execution_count": null,
      "outputs": [
        {
          "output_type": "stream",
          "name": "stderr",
          "text": [
            "[nltk_data] Downloading package punkt to /root/nltk_data...\n",
            "[nltk_data]   Package punkt is already up-to-date!\n"
          ]
        },
        {
          "output_type": "stream",
          "name": "stdout",
          "text": [
            "Found a drug with ID:  oxygen https://go.drugbank.com/drugs/DB09140  in article: 37312246\n",
            "Found a drug with ID:  antigen https://go.drugbank.com/drugs/DB15081  in article: 37312246\n",
            "Found a drug with ID:  balance https://go.drugbank.com/drugs/DB12938  in article: 37312246\n",
            "Found a drug with ID:  extract https://go.drugbank.com/drugs/DB16530  in article: 37312221\n",
            "Found a drug with ID:  rapid https://go.drugbank.com/drugs/DB00342  in article: 37312208\n",
            "Found a drug with ID:  medical https://go.drugbank.com/drugs/DB00186  in article: 37312208\n",
            "Found a drug with ID:  gold https://go.drugbank.com/drugs/DB14154  in article: 37312199\n",
            "Found a drug with ID:  cannabidiol https://go.drugbank.com/drugs/DB09061  in article: 37312194\n",
            "Found a drug with ID:  tetrahydrocannabinol https://go.drugbank.com/drugs/DB00470  in article: 37312194\n",
            "Found a drug with ID:  acid https://go.drugbank.com/drugs/DB09112  in article: 37312179\n",
            "Found a drug with ID:  ornithine https://go.drugbank.com/drugs/DB00129  in article: 37312179\n",
            "Found a drug with ID:  ornithine https://go.drugbank.com/drugs/DB00129  in article: 37312179\n",
            "Found a drug with ID:  medical https://go.drugbank.com/drugs/DB00186  in article: 37312178\n",
            "Found a drug with ID:  date https://go.drugbank.com/drugs/DB10632  in article: 37312178\n",
            "Found a drug with ID:  oxaliplatin https://go.drugbank.com/drugs/DB00526  in article: 37312165\n",
            "Found a drug with ID:  fulvestrant https://go.drugbank.com/drugs/DB00947  in article: 37312163\n",
            "Found a drug with ID:  fulvestrant https://go.drugbank.com/drugs/DB00947  in article: 37312163\n",
            "Found a drug with ID:  fulvestrant https://go.drugbank.com/drugs/DB00947  in article: 37312163\n",
            "Found a drug with ID:  fulvestrant https://go.drugbank.com/drugs/DB00947  in article: 37312163\n",
            "Found a drug with ID:  fulvestrant https://go.drugbank.com/drugs/DB00947  in article: 37312163\n",
            "Found a drug with ID:  fulvestrant https://go.drugbank.com/drugs/DB00947  in article: 37312163\n",
            "Found a drug with ID:  fulvestrant https://go.drugbank.com/drugs/DB00947  in article: 37312163\n",
            "Found a drug with ID:  fulvestrant https://go.drugbank.com/drugs/DB00947  in article: 37312163\n",
            "Found a drug with ID:  fulvestrant https://go.drugbank.com/drugs/DB00947  in article: 37312163\n"
          ]
        }
      ]
    },
    {
      "cell_type": "markdown",
      "source": [
        "# 4. Relation Extraction\n",
        "Now we will look at the frequency of mention for each drug across articles"
      ],
      "metadata": {
        "id": "TFaMcYwzBJos"
      }
    },
    {
      "cell_type": "code",
      "source": [
        "for annot in annots:\n",
        "  print(annot[0].upper()+annot[1:],' was found in ',len(annots[annot]),' articles.')"
      ],
      "metadata": {
        "id": "kq18M4euBIzD",
        "colab": {
          "base_uri": "https://localhost:8080/"
        },
        "outputId": "8c556697-5b55-40ca-82b3-3e00eaa7ade2"
      },
      "execution_count": null,
      "outputs": [
        {
          "output_type": "stream",
          "name": "stdout",
          "text": [
            "Oxygen  was found in  1  articles.\n",
            "Antigen  was found in  1  articles.\n",
            "Balance  was found in  1  articles.\n",
            "Extract  was found in  1  articles.\n",
            "Rapid  was found in  1  articles.\n",
            "Medical  was found in  2  articles.\n",
            "Gold  was found in  1  articles.\n",
            "Cannabidiol  was found in  1  articles.\n",
            "Tetrahydrocannabinol  was found in  1  articles.\n",
            "Acid  was found in  1  articles.\n",
            "Ornithine  was found in  1  articles.\n",
            "Date  was found in  1  articles.\n",
            "Oxaliplatin  was found in  1  articles.\n",
            "Fulvestrant  was found in  1  articles.\n"
          ]
        }
      ]
    }
  ]
}